{
 "cells": [
  {
   "cell_type": "code",
   "execution_count": 1,
   "id": "7d714b27",
   "metadata": {},
   "outputs": [
    {
     "name": "stdout",
     "output_type": "stream",
     "text": [
      "enter num = 11\n",
      "this is true\n"
     ]
    }
   ],
   "source": [
    "n = int(input(\"enter num = \"))\n",
    "if n >= 10:\n",
    "    print(\"this is true\")\n",
    "else:\n",
    "    print(\"this is false\")"
   ]
  },
  {
   "cell_type": "code",
   "execution_count": 7,
   "id": "248f41e4",
   "metadata": {},
   "outputs": [
    {
     "name": "stdout",
     "output_type": "stream",
     "text": [
      "Enter your name = Suraj tamang\n",
      "enter your eng marks = 98\n",
      "enter your nep marks = 89\n",
      "enter your math marks = 99\n",
      "enter your sci marks = 92\n",
      "Your total marks is  378\n",
      "Your grade is  A+\n"
     ]
    }
   ],
   "source": [
    "name = input(\"Enter your name = \")\n",
    "eng = int(input(\"enter your eng marks = \"))\n",
    "nep = int(input(\"enter your nep marks = \"))\n",
    "math = int(input(\"enter your math marks = \"))\n",
    "sci = int(input(\"enter your sci marks = \"))\n",
    "\n",
    "total = eng + nep + math + sci\n",
    "print(\"Your total marks is \",total)\n",
    "per = total/4\n",
    "if per >= 80:\n",
    "    grade = \"A+\"\n",
    "elif per >= 60:\n",
    "    grade = \"B\"\n",
    "else:\n",
    "    grade = \"Fail\"\n",
    "print(\"Your grade is \",grade)"
   ]
  },
  {
   "cell_type": "code",
   "execution_count": 11,
   "id": "4547a159",
   "metadata": {},
   "outputs": [
    {
     "name": "stdout",
     "output_type": "stream",
     "text": [
      "the result is equal\n"
     ]
    }
   ],
   "source": [
    "a = int(100)\n",
    "if a > 100:\n",
    "    result = \"false\"\n",
    "elif a == 100:\n",
    "    result = \"equal\"\n",
    "else:\n",
    "    result = \"true\"\n",
    "print(\"the result is\",result)\n"
   ]
  },
  {
   "cell_type": "code",
   "execution_count": 12,
   "id": "446a70bf",
   "metadata": {},
   "outputs": [
    {
     "name": "stdout",
     "output_type": "stream",
     "text": [
      "0\n"
     ]
    }
   ],
   "source": [
    "print(True*False)"
   ]
  },
  {
   "cell_type": "code",
   "execution_count": 16,
   "id": "f8c02efe",
   "metadata": {},
   "outputs": [
    {
     "name": "stdout",
     "output_type": "stream",
     "text": [
      "Enter your name = Suraj Tamang\n",
      "Enter your value = 3\n",
      "Product name = Apple\n",
      "Enter price = 200\n",
      "Enter quantity2\n",
      "Product name = Banana\n",
      "Enter price = 100\n",
      "Enter quantity3\n",
      "Product name = Orange\n",
      "Enter price = 300\n",
      "Enter quantity1\n",
      "1000\n"
     ]
    }
   ],
   "source": [
    "grand_total = 0\n",
    "name = input(\"Enter your name = \")\n",
    "n = int(input(\"Enter your value = \"))\n",
    "for a in range(n):\n",
    "    product = input(\"Product name = \")\n",
    "    price = int(input(\"Enter price = \"))\n",
    "    quantity = int(input(\"Enter quantity\"))\n",
    "    total = price*quantity\n",
    "    grand_total = grand_total + total \n",
    "print(grand_total)"
   ]
  },
  {
   "cell_type": "code",
   "execution_count": null,
   "id": "b94289e1",
   "metadata": {},
   "outputs": [],
   "source": []
  }
 ],
 "metadata": {
  "kernelspec": {
   "display_name": "Python 3 (ipykernel)",
   "language": "python",
   "name": "python3"
  },
  "language_info": {
   "codemirror_mode": {
    "name": "ipython",
    "version": 3
   },
   "file_extension": ".py",
   "mimetype": "text/x-python",
   "name": "python",
   "nbconvert_exporter": "python",
   "pygments_lexer": "ipython3",
   "version": "3.10.9"
  }
 },
 "nbformat": 4,
 "nbformat_minor": 5
}
