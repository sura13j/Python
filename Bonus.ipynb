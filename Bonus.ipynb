{
 "cells": [
  {
   "cell_type": "code",
   "execution_count": 1,
   "id": "d20a7f8c",
   "metadata": {},
   "outputs": [],
   "source": [
    "# Date & Time in python"
   ]
  },
  {
   "cell_type": "code",
   "execution_count": 2,
   "id": "17baa3e1",
   "metadata": {},
   "outputs": [
    {
     "name": "stdout",
     "output_type": "stream",
     "text": [
      "2023-06-07 17:13:37.877919\n"
     ]
    }
   ],
   "source": [
    "import datetime as dt\n",
    "x = dt.datetime.now()\n",
    "print(x)   #shows nows date and time"
   ]
  },
  {
   "cell_type": "code",
   "execution_count": 10,
   "id": "0febe319",
   "metadata": {},
   "outputs": [
    {
     "name": "stdout",
     "output_type": "stream",
     "text": [
      "2023\n",
      "6\n",
      "7\n",
      "06/07/23\n"
     ]
    }
   ],
   "source": [
    "import datetime\n",
    "x = datetime.datetime.now()\n",
    "print(x.year)\n",
    "print(x.month)\n",
    "print(x.day)\n",
    "print(x.strftime(\"%D\"))\n"
   ]
  },
  {
   "cell_type": "code",
   "execution_count": 11,
   "id": "ae178a78",
   "metadata": {},
   "outputs": [
    {
     "name": "stdout",
     "output_type": "stream",
     "text": [
      "Enter your name = Suraj\n",
      "0:00:03.547546\n"
     ]
    }
   ],
   "source": [
    "import datetime as dt\n",
    "x = dt.datetime.now()\n",
    "name = input(\"Enter your name = \")\n",
    "y = dt.datetime.now()\n",
    "print(y-x)\n"
   ]
  },
  {
   "cell_type": "code",
   "execution_count": 13,
   "id": "71560ae8",
   "metadata": {},
   "outputs": [
    {
     "data": {
      "text/plain": [
       "datetime.datetime"
      ]
     },
     "execution_count": 13,
     "metadata": {},
     "output_type": "execute_result"
    }
   ],
   "source": [
    "(y).hour\n",
    "type(x)"
   ]
  },
  {
   "cell_type": "code",
   "execution_count": 18,
   "id": "4501c55f",
   "metadata": {},
   "outputs": [
    {
     "name": "stdout",
     "output_type": "stream",
     "text": [
      "Enter your name = Suraj tamang\n"
     ]
    },
    {
     "data": {
      "text/plain": [
       "5"
      ]
     },
     "execution_count": 18,
     "metadata": {},
     "output_type": "execute_result"
    }
   ],
   "source": [
    "import datetime\n",
    "x = datetime.datetime.now()\n",
    "s1 = x.strftime(\"%S\")\n",
    "\n",
    "name = input(\"Enter your name = \")\n",
    "\n",
    "y = datetime.datetime.now()\n",
    "s2 = y.strftime(\"%S\")\n",
    "int(s2)-int(s1)\n",
    "\n",
    "# 5 sec takes me to typr my name"
   ]
  },
  {
   "cell_type": "code",
   "execution_count": 20,
   "id": "16903f6d",
   "metadata": {},
   "outputs": [
    {
     "data": {
      "text/plain": [
       "[0, 1, 2, 3, 4, 5, 6, 7, 8, 9, 10]"
      ]
     },
     "execution_count": 20,
     "metadata": {},
     "output_type": "execute_result"
    }
   ],
   "source": [
    "# Comperhensions : List,Dictionary\n",
    "\n",
    "l = [i for i in range(0,11)]\n",
    "l"
   ]
  },
  {
   "cell_type": "code",
   "execution_count": 21,
   "id": "87c3a950",
   "metadata": {},
   "outputs": [
    {
     "name": "stdout",
     "output_type": "stream",
     "text": [
      "Enter value = 423\n",
      "Enter value = 2324\n",
      "Enter value = 243\n",
      "Enter value = 233\n"
     ]
    },
    {
     "data": {
      "text/plain": [
       "[423, 2324, 243, 233]"
      ]
     },
     "execution_count": 21,
     "metadata": {},
     "output_type": "execute_result"
    }
   ],
   "source": [
    "l = [int(input(\"Enter value = \")) for i in range(4)]\n",
    "l"
   ]
  },
  {
   "cell_type": "code",
   "execution_count": 22,
   "id": "7bf2eebf",
   "metadata": {},
   "outputs": [
    {
     "name": "stdout",
     "output_type": "stream",
     "text": [
      "Enter value = Suraj\n",
      "Enter value = yoman\n",
      "Enter value = sugam\n",
      "Enter value = nawaraj\n"
     ]
    },
    {
     "data": {
      "text/plain": [
       "['Suraj', 'yoman', 'sugam', 'nawaraj']"
      ]
     },
     "execution_count": 22,
     "metadata": {},
     "output_type": "execute_result"
    }
   ],
   "source": [
    "l = [input(\"Enter value = \") for i in range(4)]\n",
    "l"
   ]
  },
  {
   "cell_type": "code",
   "execution_count": 27,
   "id": "f13c69d6",
   "metadata": {},
   "outputs": [
    {
     "data": {
      "text/plain": [
       "dict"
      ]
     },
     "execution_count": 27,
     "metadata": {},
     "output_type": "execute_result"
    }
   ],
   "source": [
    "# DICT\n",
    "d = {i:i**3 for i in range(1,6)}\n",
    "d"
   ]
  },
  {
   "cell_type": "code",
   "execution_count": 29,
   "id": "42742694",
   "metadata": {},
   "outputs": [
    {
     "name": "stdout",
     "output_type": "stream",
     "text": [
      "Enter your name = Suraj Tamang\n",
      "Your number = 9841445871\n",
      "Enter your name = Pabitra Sunuwar\n",
      "Your number = 9841651834\n"
     ]
    },
    {
     "data": {
      "text/plain": [
       "{'Suraj Tamang': '9841445871', 'Pabitra Sunuwar': '9841651834'}"
      ]
     },
     "execution_count": 29,
     "metadata": {},
     "output_type": "execute_result"
    }
   ],
   "source": [
    "d = {input(\"Enter your name = \"):input(\"Your number = \")for i in range(2)}\n",
    "d"
   ]
  },
  {
   "cell_type": "code",
   "execution_count": 30,
   "id": "0e3f12eb",
   "metadata": {},
   "outputs": [],
   "source": [
    "#Python OS package\n"
   ]
  },
  {
   "cell_type": "code",
   "execution_count": 31,
   "id": "d13a60b1",
   "metadata": {},
   "outputs": [
    {
     "data": {
      "text/plain": [
       "['.git',\n",
       " '.ipynb_checkpoints',\n",
       " 'And or OR.ipynb',\n",
       " 'beautifulsoup.ipynb',\n",
       " 'bill.csv',\n",
       " 'bill.txt',\n",
       " 'Bonus.ipynb',\n",
       " 'Calc.py',\n",
       " 'Classwork.ipynb',\n",
       " 'covid.csv',\n",
       " 'covidata.csv',\n",
       " 'coviddata.csv',\n",
       " 'covid_data.csv',\n",
       " 'data.csv',\n",
       " 'data.txt',\n",
       " 'Database.ipynb',\n",
       " 'Databse.ipynb',\n",
       " 'datacovi.csv',\n",
       " 'datacovid.csv',\n",
       " 'File.ipynb',\n",
       " 'First Python.ipynb',\n",
       " 'Function.ipynb',\n",
       " 'Game.ipynb',\n",
       " 'Grading.ipynb',\n",
       " 'info.csv',\n",
       " 'jd.ipynb',\n",
       " 'list_data.csv',\n",
       " 'Loop.ipynb',\n",
       " 'Mapping and function.ipynb',\n",
       " 'My SQL.ipynb',\n",
       " 'new_data.csv',\n",
       " 'OOP and inheritance.ipynb',\n",
       " 'OOP.ipynb',\n",
       " 'Plotly.ipynb',\n",
       " 'Quiz Game.ipynb',\n",
       " 'Set.ipynb',\n",
       " 'studentdata.csv',\n",
       " 'Untitled.ipynb',\n",
       " 'Untitled1.ipynb',\n",
       " 'Untitled10.ipynb',\n",
       " 'Untitled11.ipynb',\n",
       " 'Untitled12.ipynb',\n",
       " 'Untitled2.ipynb',\n",
       " 'Untitled3.ipynb',\n",
       " 'Untitled4.ipynb',\n",
       " 'Untitled5.ipynb',\n",
       " 'Untitled6.ipynb',\n",
       " 'Untitled7.ipynb',\n",
       " 'Untitled8.ipynb',\n",
       " 'Untitled9.ipynb',\n",
       " 'While loop.ipynb',\n",
       " 'wowwww.ipynb']"
      ]
     },
     "execution_count": 31,
     "metadata": {},
     "output_type": "execute_result"
    }
   ],
   "source": [
    "import os\n",
    "os.listdir()"
   ]
  },
  {
   "cell_type": "code",
   "execution_count": 32,
   "id": "60324ba8",
   "metadata": {},
   "outputs": [],
   "source": [
    "os.mkdir('new_folder') #Create a folder"
   ]
  },
  {
   "cell_type": "code",
   "execution_count": 33,
   "id": "86c64c35",
   "metadata": {},
   "outputs": [],
   "source": [
    "os.chdir('new_folder') #Enter in folder"
   ]
  },
  {
   "cell_type": "code",
   "execution_count": 34,
   "id": "8d051b1e",
   "metadata": {},
   "outputs": [
    {
     "data": {
      "text/plain": [
       "'C:\\\\Users\\\\suraj\\\\Python Training\\\\new_folder'"
      ]
     },
     "execution_count": 34,
     "metadata": {},
     "output_type": "execute_result"
    }
   ],
   "source": [
    "pwd # checking either i am in folder or not."
   ]
  },
  {
   "cell_type": "code",
   "execution_count": 35,
   "id": "f1160ad7",
   "metadata": {},
   "outputs": [
    {
     "name": "stdout",
     "output_type": "stream",
     "text": [
      "C:\\Users\\suraj\\Python Training\n"
     ]
    }
   ],
   "source": [
    "cd .. #Getting out of the folder"
   ]
  },
  {
   "cell_type": "code",
   "execution_count": 39,
   "id": "ca4cb64d",
   "metadata": {},
   "outputs": [],
   "source": [
    "os.remove('datacovi.csv')"
   ]
  },
  {
   "cell_type": "code",
   "execution_count": 42,
   "id": "6bc327d1",
   "metadata": {},
   "outputs": [
    {
     "data": {
      "text/html": [
       "<div>\n",
       "<style scoped>\n",
       "    .dataframe tbody tr th:only-of-type {\n",
       "        vertical-align: middle;\n",
       "    }\n",
       "\n",
       "    .dataframe tbody tr th {\n",
       "        vertical-align: top;\n",
       "    }\n",
       "\n",
       "    .dataframe thead th {\n",
       "        text-align: right;\n",
       "    }\n",
       "</style>\n",
       "<table border=\"1\" class=\"dataframe\">\n",
       "  <thead>\n",
       "    <tr style=\"text-align: right;\">\n",
       "      <th></th>\n",
       "      <th>name</th>\n",
       "      <th>age</th>\n",
       "      <th>add</th>\n",
       "    </tr>\n",
       "  </thead>\n",
       "  <tbody>\n",
       "    <tr>\n",
       "      <th>0</th>\n",
       "      <td>Ram</td>\n",
       "      <td>34</td>\n",
       "      <td>Kathmandu</td>\n",
       "    </tr>\n",
       "    <tr>\n",
       "      <th>1</th>\n",
       "      <td>Shyam</td>\n",
       "      <td>36</td>\n",
       "      <td>Boudha</td>\n",
       "    </tr>\n",
       "    <tr>\n",
       "      <th>2</th>\n",
       "      <td>Hari</td>\n",
       "      <td>68</td>\n",
       "      <td>Lalitpur</td>\n",
       "    </tr>\n",
       "  </tbody>\n",
       "</table>\n",
       "</div>"
      ],
      "text/plain": [
       "    name  age        add\n",
       "0    Ram   34  Kathmandu\n",
       "1  Shyam   36     Boudha\n",
       "2   Hari   68   Lalitpur"
      ]
     },
     "execution_count": 42,
     "metadata": {},
     "output_type": "execute_result"
    }
   ],
   "source": [
    "import pandas as pd\n",
    "data = {'name':['Ram','Shyam','Hari'],\n",
    "       'age':[34,36,68],\n",
    "       'add':['Kathmandu','Boudha','Lalitpur']}\n",
    "df = pd.DataFrame(data)\n",
    "df.to_json('info.json')\n",
    "df\n"
   ]
  },
  {
   "cell_type": "code",
   "execution_count": null,
   "id": "eec2fc93",
   "metadata": {},
   "outputs": [],
   "source": []
  }
 ],
 "metadata": {
  "kernelspec": {
   "display_name": "Python 3 (ipykernel)",
   "language": "python",
   "name": "python3"
  },
  "language_info": {
   "codemirror_mode": {
    "name": "ipython",
    "version": 3
   },
   "file_extension": ".py",
   "mimetype": "text/x-python",
   "name": "python",
   "nbconvert_exporter": "python",
   "pygments_lexer": "ipython3",
   "version": "3.10.9"
  }
 },
 "nbformat": 4,
 "nbformat_minor": 5
}
