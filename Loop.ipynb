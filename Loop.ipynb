{
 "cells": [
  {
   "cell_type": "code",
   "execution_count": 1,
   "id": "93377baa",
   "metadata": {},
   "outputs": [],
   "source": [
    "# for loop\n",
    "# while loop \n",
    "\n",
    "# the types of loop are\n",
    "# 1. Certain loop\n",
    "# 2. Uncertain loop\n"
   ]
  },
  {
   "cell_type": "code",
   "execution_count": 2,
   "id": "d2c2bfb7",
   "metadata": {},
   "outputs": [],
   "source": [
    "# range(5) = 0,1,2,3,4           for(i=0;i<5;i++)\n",
    "# range(1,5) = 1,2,3,4           for(i=0;i<5;i++)\n",
    "# range(1,10,2) = 1,3,5,7,9      for(i=0;i<10;i= i+2)\n"
   ]
  },
  {
   "cell_type": "code",
   "execution_count": 3,
   "id": "3efa16f4",
   "metadata": {},
   "outputs": [
    {
     "name": "stdout",
     "output_type": "stream",
     "text": [
      "0\n",
      "1\n",
      "2\n",
      "3\n",
      "4\n"
     ]
    }
   ],
   "source": [
    "for i in range(5):\n",
    "    print(i)"
   ]
  },
  {
   "cell_type": "code",
   "execution_count": 4,
   "id": "073bd75d",
   "metadata": {},
   "outputs": [
    {
     "name": "stdout",
     "output_type": "stream",
     "text": [
      "1\n",
      "2\n",
      "3\n",
      "4\n",
      "5\n",
      "6\n",
      "7\n",
      "8\n"
     ]
    }
   ],
   "source": [
    "for a in range(1,9):\n",
    "    print(a)"
   ]
  },
  {
   "cell_type": "code",
   "execution_count": 5,
   "id": "c0cbb7c7",
   "metadata": {},
   "outputs": [
    {
     "name": "stdout",
     "output_type": "stream",
     "text": [
      "Hello world\n",
      "Hello world\n",
      "Hello world\n",
      "Hello world\n",
      "Hello world\n"
     ]
    }
   ],
   "source": [
    "for a in range(5):\n",
    "    print(\"Hello world\")"
   ]
  },
  {
   "cell_type": "code",
   "execution_count": 7,
   "id": "401281dd",
   "metadata": {},
   "outputs": [
    {
     "name": "stdout",
     "output_type": "stream",
     "text": [
      "5\n",
      "4\n",
      "3\n",
      "2\n",
      "1\n"
     ]
    }
   ],
   "source": [
    "for a in range(5,0,-1):\n",
    "    print(a)"
   ]
  },
  {
   "cell_type": "code",
   "execution_count": 10,
   "id": "1faf2f02",
   "metadata": {},
   "outputs": [
    {
     "name": "stdout",
     "output_type": "stream",
     "text": [
      "9\n",
      "18\n",
      "27\n",
      "36\n",
      "45\n",
      "54\n",
      "63\n",
      "72\n",
      "81\n",
      "90\n"
     ]
    }
   ],
   "source": [
    "for a in range(1,11):\n",
    "    print(a*9)"
   ]
  },
  {
   "cell_type": "code",
   "execution_count": 11,
   "id": "c0172a80",
   "metadata": {},
   "outputs": [
    {
     "name": "stdout",
     "output_type": "stream",
     "text": [
      "9 * 1 = 9\n",
      "9 * 2 = 18\n",
      "9 * 3 = 27\n",
      "9 * 4 = 36\n",
      "9 * 5 = 45\n",
      "9 * 6 = 54\n",
      "9 * 7 = 63\n",
      "9 * 8 = 72\n",
      "9 * 9 = 81\n",
      "9 * 10 = 90\n"
     ]
    }
   ],
   "source": [
    "n = 9\n",
    "for a in range(1,11):\n",
    "    print(n,\"*\",a,\"=\",a*9)"
   ]
  },
  {
   "cell_type": "code",
   "execution_count": 1,
   "id": "07479fe8",
   "metadata": {},
   "outputs": [
    {
     "name": "stdout",
     "output_type": "stream",
     "text": [
      "22 * 1 = 22\n",
      "22 * 2 = 44\n",
      "22 * 3 = 66\n",
      "22 * 4 = 88\n",
      "22 * 5 = 110\n",
      "22 * 6 = 132\n",
      "22 * 7 = 154\n",
      "22 * 8 = 176\n",
      "22 * 9 = 198\n",
      "22 * 10 = 220\n"
     ]
    }
   ],
   "source": [
    "a = 22\n",
    "for b in range(1,11):\n",
    "    print(a,\"*\",b,\"=\",b*a)"
   ]
  },
  {
   "cell_type": "code",
   "execution_count": 10,
   "id": "833efcfe",
   "metadata": {},
   "outputs": [
    {
     "name": "stdout",
     "output_type": "stream",
     "text": [
      "your name = Suraj tamang\n",
      "eng marks = 98\n",
      "nep marks = 82\n",
      "math marks = 99\n",
      "sci marks = 88\n",
      "367\n",
      "Hello mr Suraj tamang your total marks is 367 your total percentage is 91.75\n",
      "your name = Yoman rai\n",
      "eng marks = 99\n",
      "nep marks = 89\n",
      "math marks = 98\n",
      "sci marks = 87\n",
      "373\n",
      "Hello mr Yoman rai your total marks is 373 your total percentage is 93.25\n",
      "your name = Rabin Karki\n",
      "eng marks = 100\n",
      "nep marks = 100\n",
      "math marks = 100\n",
      "sci marks = 100\n",
      "400\n",
      "Hello mr Rabin Karki your total marks is 400 your total percentage is 100.0\n"
     ]
    }
   ],
   "source": [
    "for i in range(3):\n",
    "    name = input(\"your name = \")\n",
    "    eng = int(input(\"eng marks = \"))\n",
    "    nep = int(input(\"nep marks = \"))\n",
    "    math = int(input(\"math marks = \"))\n",
    "    sci = int(input(\"sci marks = \"))\n",
    "\n",
    "    total = eng + nep + math + sci\n",
    "    print(total)\n",
    "    per= total/4\n",
    "    print(\"Hello mr\",name,\"your total marks is\",total,\"your total percentage is\",per)"
   ]
  },
  {
   "cell_type": "code",
   "execution_count": 5,
   "id": "d87554ec",
   "metadata": {},
   "outputs": [
    {
     "name": "stdout",
     "output_type": "stream",
     "text": [
      "*****\n",
      "****\n",
      "***\n",
      "**\n",
      "*\n"
     ]
    }
   ],
   "source": [
    "for i in range(5,0,-1):\n",
    "    print(i*\"*\")"
   ]
  },
  {
   "cell_type": "code",
   "execution_count": 6,
   "id": "847a5f93",
   "metadata": {},
   "outputs": [
    {
     "name": "stdout",
     "output_type": "stream",
     "text": [
      "5\n",
      "4\n",
      "3\n",
      "2\n",
      "1\n"
     ]
    }
   ],
   "source": [
    "for i in range(5,0,-1):\n",
    "    print(i)"
   ]
  },
  {
   "cell_type": "code",
   "execution_count": 12,
   "id": "29a69518",
   "metadata": {},
   "outputs": [
    {
     "name": "stdout",
     "output_type": "stream",
     "text": [
      "enter value of x = 999\n",
      "1009\n",
      "enter value of x = 100\n",
      "1109\n",
      "enter value of x = 1000\n",
      "2109\n",
      "enter value of x = 988\n",
      "3097\n",
      "enter value of x = 1000\n",
      "4097\n"
     ]
    }
   ],
   "source": [
    "a = 10\n",
    "for i in range(5):\n",
    "    x = int(input(\"enter value of x = \"))\n",
    "    a = a + x\n",
    "    print(a)"
   ]
  },
  {
   "cell_type": "code",
   "execution_count": 13,
   "id": "b6b9c1d4",
   "metadata": {},
   "outputs": [
    {
     "name": "stdout",
     "output_type": "stream",
     "text": [
      "Enter the number = 10\n",
      "50\n",
      "Enter the number = 7\n",
      "350\n",
      "Enter the number = 8\n",
      "2800\n",
      "Enter the number = 4\n",
      "11200\n",
      "Enter the number = 3\n",
      "33600\n"
     ]
    }
   ],
   "source": [
    "a = 5\n",
    "for i in range(5):\n",
    "    x = int(input(\"Enter the number = \"))\n",
    "    a = a * x\n",
    "    print(a)"
   ]
  },
  {
   "cell_type": "code",
   "execution_count": 18,
   "id": "913bc870",
   "metadata": {},
   "outputs": [
    {
     "name": "stdout",
     "output_type": "stream",
     "text": [
      "enter n = 5\n",
      "1\n",
      "2\n",
      "6\n",
      "24\n",
      "120\n"
     ]
    }
   ],
   "source": [
    "# 5! = 1*2*3*4*5\n",
    "s = 1                             # s = 1\n",
    "n = int(input(\"enter n = \"))      # n = 5   \n",
    "for i in range(1,n+1):            # loop of number table\n",
    "   s= s*i                  \n",
    "    print(s)                               #1*1 = 1,1*2 = 2,2*3 = 6,6*4 = 24,24 *5 = 120   \n",
    "    \n",
    "    "
   ]
  },
  {
   "cell_type": "code",
   "execution_count": 1,
   "id": "bfe70171",
   "metadata": {},
   "outputs": [
    {
     "name": "stdout",
     "output_type": "stream",
     "text": [
      "Enter number = 2\n",
      "Enter your name = suraj\n",
      "Enter your number = 987654321\n",
      "suraj-987654321\n",
      "\n",
      "Enter your name = nigga\n",
      "Enter your number = 987654320\n",
      "nigga-987654320\n",
      "\n"
     ]
    }
   ],
   "source": [
    "info = str()\n",
    "n = int(input(\"Enter number = \"))\n",
    "for i in range(n):\n",
    "    name = input(\"Enter your name = \")\n",
    "    phone  = int(input(\"Enter your number = \"))\n",
    "    x = name + \"-\" + str(phone) + \"\\n\"\n",
    "    print(x)"
   ]
  },
  {
   "cell_type": "code",
   "execution_count": null,
   "id": "27fe85ef",
   "metadata": {},
   "outputs": [],
   "source": [
    "grand_total = 0\n",
    "name = input(\"Enter your name = \")\n",
    "n = int(input(\"Enter your value = \"))\n",
    "for a in range(n):\n",
    "    product = input(\"Product name = \")\n",
    "    price = int(input(\"Enter price = \"))\n",
    "    quantity = int(input(\"Enter quantity = \"))\n",
    "    total = price*quantity\n",
    "    grand_total = grand_total + total\n",
    "    print(total)\n",
    "print(grand_total)"
   ]
  },
  {
   "cell_type": "code",
   "execution_count": null,
   "id": "a17eb57a",
   "metadata": {},
   "outputs": [],
   "source": []
  },
  {
   "cell_type": "code",
   "execution_count": null,
   "id": "a653b5f2",
   "metadata": {},
   "outputs": [],
   "source": [
    "grand_total = 0\n",
    "name = input(\"Enter your name = \")\n",
    "n = int(input(\"Enter your value = \"))\n",
    "for a in range(n):\n",
    "    product = input(\"Product name = \")\n",
    "    price = int(input(\"Enter price = \"))\n",
    "    quantity = int(input(\"Enter quantity = \"))\n",
    "    total = price*quantity\n",
    "    grand_total = grand_total + total\n",
    "    print(total)\n",
    "print(grand_total)"
   ]
  },
  {
   "cell_type": "code",
   "execution_count": 2,
   "id": "95a60a4c",
   "metadata": {},
   "outputs": [
    {
     "name": "stdout",
     "output_type": "stream",
     "text": [
      "Hello Babe.I just want you to know that you are my world\n"
     ]
    }
   ],
   "source": [
    "a = \"Hello\"\n",
    "b = \"world\"\n",
    "print(\"{} Babe.I just want you to know that you are my {}\".format(a,b))"
   ]
  },
  {
   "cell_type": "code",
   "execution_count": null,
   "id": "6c049da6",
   "metadata": {},
   "outputs": [],
   "source": []
  }
 ],
 "metadata": {
  "kernelspec": {
   "display_name": "Python 3 (ipykernel)",
   "language": "python",
   "name": "python3"
  },
  "language_info": {
   "codemirror_mode": {
    "name": "ipython",
    "version": 3
   },
   "file_extension": ".py",
   "mimetype": "text/x-python",
   "name": "python",
   "nbconvert_exporter": "python",
   "pygments_lexer": "ipython3",
   "version": "3.10.9"
  }
 },
 "nbformat": 4,
 "nbformat_minor": 5
}
