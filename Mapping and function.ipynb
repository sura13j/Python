{
 "cells": [
  {
   "cell_type": "code",
   "execution_count": 1,
   "id": "f72910d5",
   "metadata": {},
   "outputs": [
    {
     "ename": "NameError",
     "evalue": "name 'm' is not defined",
     "output_type": "error",
     "traceback": [
      "\u001b[1;31m---------------------------------------------------------------------------\u001b[0m",
      "\u001b[1;31mNameError\u001b[0m                                 Traceback (most recent call last)",
      "Cell \u001b[1;32mIn[1], line 1\u001b[0m\n\u001b[1;32m----> 1\u001b[0m \u001b[38;5;28mprint\u001b[39m(\u001b[43mm\u001b[49m\u001b[38;5;241m.\u001b[39msin(m))\n",
      "\u001b[1;31mNameError\u001b[0m: name 'm' is not defined"
     ]
    }
   ],
   "source": [
    "print(m.sin(m))"
   ]
  },
  {
   "cell_type": "code",
   "execution_count": 7,
   "id": "2f9a89eb",
   "metadata": {},
   "outputs": [],
   "source": [
    "# LAMDA FUNCTION"
   ]
  },
  {
   "cell_type": "code",
   "execution_count": 8,
   "id": "7dbf9dce",
   "metadata": {},
   "outputs": [
    {
     "name": "stdout",
     "output_type": "stream",
     "text": [
      "20\n"
     ]
    }
   ],
   "source": [
    "a = lambda x,y:x*y\n",
    "print(a(10,2))"
   ]
  },
  {
   "cell_type": "code",
   "execution_count": 5,
   "id": "1e1d5c73",
   "metadata": {},
   "outputs": [
    {
     "data": {
      "text/plain": [
       "[34, 56, 78, 34, 78, 90, 32, 80, 10]"
      ]
     },
     "execution_count": 5,
     "metadata": {},
     "output_type": "execute_result"
    }
   ],
   "source": [
    "# FILTER FUNCTION\n",
    "a = [34,56,78,34,78,90,32,45,67,33,80,10]\n",
    "list(filter(lambda x:x%2 == 0,a))"
   ]
  },
  {
   "cell_type": "code",
   "execution_count": 6,
   "id": "b9f849a1",
   "metadata": {},
   "outputs": [
    {
     "data": {
      "text/plain": [
       "[78, 78, 90, 45, 33]"
      ]
     },
     "execution_count": 6,
     "metadata": {},
     "output_type": "execute_result"
    }
   ],
   "source": [
    "a = [34,56,78,34,78,90,32,45,67,33,80,10]\n",
    "list(filter(lambda x:x%3 == 0,a))"
   ]
  },
  {
   "cell_type": "code",
   "execution_count": 9,
   "id": "a2968450",
   "metadata": {},
   "outputs": [
    {
     "data": {
      "text/plain": [
       "['APple', 'Ball', 'Fish']"
      ]
     },
     "execution_count": 9,
     "metadata": {},
     "output_type": "execute_result"
    }
   ],
   "source": [
    "a = [\"APple\",\"Ball\",\"cat\",\"dog\",\"Fish\"]\n",
    "list(filter(lambda x:x[0].isupper(),a))"
   ]
  },
  {
   "cell_type": "code",
   "execution_count": 13,
   "id": "6b2768e5",
   "metadata": {},
   "outputs": [
    {
     "data": {
      "text/plain": [
       "['cat', 'dog']"
      ]
     },
     "execution_count": 13,
     "metadata": {},
     "output_type": "execute_result"
    }
   ],
   "source": [
    "a = [\"APple\",\"Ball\",\"cat\",\"dog\",\"Fish\"]\n",
    "list(filter(lambda x:x[0].islower() == 1,a))"
   ]
  },
  {
   "cell_type": "code",
   "execution_count": 14,
   "id": "3c2dd4d3",
   "metadata": {},
   "outputs": [
    {
     "data": {
      "text/plain": [
       "[1, 2, 3, 1, 2, 3]"
      ]
     },
     "execution_count": 14,
     "metadata": {},
     "output_type": "execute_result"
    }
   ],
   "source": [
    "# MAPPING\n",
    "a = [1,2,3]\n",
    "a*2"
   ]
  },
  {
   "cell_type": "code",
   "execution_count": 15,
   "id": "4b6ff2f2",
   "metadata": {},
   "outputs": [
    {
     "data": {
      "text/plain": [
       "[1, 2, 3]"
      ]
     },
     "execution_count": 15,
     "metadata": {},
     "output_type": "execute_result"
    }
   ],
   "source": [
    "a[1+1]\n",
    "a*1"
   ]
  },
  {
   "cell_type": "code",
   "execution_count": 17,
   "id": "ecb709fc",
   "metadata": {},
   "outputs": [
    {
     "data": {
      "text/plain": [
       "[1, 8, 27, 64, 125, 216]"
      ]
     },
     "execution_count": 17,
     "metadata": {},
     "output_type": "execute_result"
    }
   ],
   "source": [
    "# MAPPING\n",
    "a =[1,2,3,4,5,6]\n",
    "list(map(lambda y:y**3, a))"
   ]
  },
  {
   "cell_type": "code",
   "execution_count": 19,
   "id": "5415bdb6",
   "metadata": {},
   "outputs": [
    {
     "data": {
      "text/plain": [
       "['APPLE', 'BALL', 'CAT', 'DOG', 'FISH']"
      ]
     },
     "execution_count": 19,
     "metadata": {},
     "output_type": "execute_result"
    }
   ],
   "source": [
    "a = [\"APple\",\"Ball\",\"cat\",\"dog\",\"Fish\"]\n",
    "list(map(lambda x:x.upper(),a))"
   ]
  },
  {
   "cell_type": "code",
   "execution_count": 21,
   "id": "6d8f91ee",
   "metadata": {},
   "outputs": [
    {
     "data": {
      "text/plain": [
       "['APPLE', 'BALL', 'CAT', 'DOG', 'FISH']"
      ]
     },
     "execution_count": 21,
     "metadata": {},
     "output_type": "execute_result"
    }
   ],
   "source": [
    "a = [\"APple\",\"Ball\",\"cat\",\"dog\",\"Fish\"]\n",
    "list(map(lambda x:x.upper(),a))"
   ]
  },
  {
   "cell_type": "code",
   "execution_count": 2,
   "id": "a7fdba83",
   "metadata": {},
   "outputs": [
    {
     "name": "stdout",
     "output_type": "stream",
     "text": [
      "<class 'tuple'>\n",
      "2\n"
     ]
    }
   ],
   "source": [
    "a = (14,\"Suraj\")\n",
    "print(type(a))\n",
    "print(len(a))"
   ]
  },
  {
   "cell_type": "code",
   "execution_count": null,
   "id": "cb683ab8",
   "metadata": {},
   "outputs": [],
   "source": []
  }
 ],
 "metadata": {
  "kernelspec": {
   "display_name": "Python 3 (ipykernel)",
   "language": "python",
   "name": "python3"
  },
  "language_info": {
   "codemirror_mode": {
    "name": "ipython",
    "version": 3
   },
   "file_extension": ".py",
   "mimetype": "text/x-python",
   "name": "python",
   "nbconvert_exporter": "python",
   "pygments_lexer": "ipython3",
   "version": "3.10.9"
  }
 },
 "nbformat": 4,
 "nbformat_minor": 5
}
