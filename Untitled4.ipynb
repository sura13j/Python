{
 "cells": [
  {
   "cell_type": "code",
   "execution_count": 1,
   "id": "d37ab3d4",
   "metadata": {},
   "outputs": [
    {
     "name": "stdout",
     "output_type": "stream",
     "text": [
      "<__main__.Employee object at 0x0000015FE00F5A50>\n",
      "<__main__.Employee object at 0x0000015FE00F5750>\n"
     ]
    }
   ],
   "source": [
    "class Employee:\n",
    "    pass\n",
    "emp_1 = Employee()\n",
    "emp_2 = Employee()\n",
    "print(emp_1)\n",
    "print(emp_2)"
   ]
  },
  {
   "cell_type": "code",
   "execution_count": 2,
   "id": "ff57d1f6",
   "metadata": {},
   "outputs": [
    {
     "name": "stdout",
     "output_type": "stream",
     "text": [
      "Narephate\n",
      "Samir Tamang\n"
     ]
    }
   ],
   "source": [
    "class Employee:\n",
    "    pass\n",
    "emp_1.name = 'Suraj Tamang'\n",
    "emp_1.salary = '700000'\n",
    "emp_1.address = 'Narephate'\n",
    "\n",
    "emp_2.name = 'Samir Tamang'\n",
    "emp_2.salary = '70000'\n",
    "emp_2.address = 'Jadibuti'\n",
    "\n",
    "print(emp_1.address)\n",
    "print(emp_2.name)"
   ]
  },
  {
   "cell_type": "code",
   "execution_count": 16,
   "id": "610dc188",
   "metadata": {},
   "outputs": [
    {
     "name": "stdout",
     "output_type": "stream",
     "text": [
      "Yoman Rai 70000\n"
     ]
    }
   ],
   "source": [
    "class Employee:\n",
    "    def __init__(self, name, address, salary):\n",
    "        self.name = name\n",
    "        self.address = address\n",
    "        self.salary = salary\n",
    "        self.email = name + '13' + '.' +'@gmail.com'\n",
    "    \n",
    "    def fullinfo(self):\n",
    "        return '{} {}'.format(self.name, self.salary)\n",
    "        \n",
    "emp_1 = Employee('Suraj tamang', 'Narephate', 700000)\n",
    "emp_2 = Employee('Yoman Rai', 'Baneshwore', 70000)\n",
    "emp_3 = Employee('Rabin khadka' , 'Narephate', 170000)\n",
    "\n",
    "# print('{} {}'.format(emp_2.name, emp_2.salary))\n",
    "print(emp_2.fullinfo())"
   ]
  },
  {
   "cell_type": "code",
   "execution_count": 25,
   "id": "d00012c2",
   "metadata": {},
   "outputs": [
    {
     "name": "stdout",
     "output_type": "stream",
     "text": [
      "Suraj tamang\n",
      "Mr.Suraj tamang.Your address is Narephate\n"
     ]
    }
   ],
   "source": [
    "class Employee:\n",
    "    def __init__(self, name, address, salary):\n",
    "        self.name = name\n",
    "        self.address = address\n",
    "        self.salary = salary\n",
    "        self.email = name + '13' + '.' +'@gmail.com'\n",
    "    def fullinfo(self):\n",
    "        return 'Mr.' + self.name +'.Your address is ' + self.address\n",
    "        \n",
    "emp_1 = Employee('Suraj tamang', 'Narephate', 700000)\n",
    "emp_2 = Employee('Yoman Rai', 'Baneshwore', 70000)\n",
    "emp_3 = Employee('Rabin khadka' , 'Narephate', 170000)\n",
    "print(emp_1.name)\n",
    "print(Employee.fullinfo(emp_1))\n",
    "#print(Employee.name(emp_1))"
   ]
  },
  {
   "cell_type": "code",
   "execution_count": null,
   "id": "bbeb91fd",
   "metadata": {},
   "outputs": [],
   "source": []
  },
  {
   "cell_type": "code",
   "execution_count": 3,
   "id": "aaae68e4",
   "metadata": {},
   "outputs": [
    {
     "name": "stdout",
     "output_type": "stream",
     "text": [
      "Ram\n"
     ]
    }
   ],
   "source": [
    "# Protested members\n",
    "class Info:\n",
    "    def __init__(self):\n",
    "        self._name = \"Suraj\"\n",
    "        self._age = 20\n",
    "        self._add = \"Kathmandu\"\n",
    "        \n",
    "obj = Info()\n",
    "print(obj._name)\n"
   ]
  },
  {
   "cell_type": "code",
   "execution_count": 15,
   "id": "bd2807a0",
   "metadata": {},
   "outputs": [
    {
     "name": "stdout",
     "output_type": "stream",
     "text": [
      "Enter your name = Suraj\n",
      "Enter your age = 21\n",
      "Enter your address = kjdhfkdfa\n"
     ]
    },
    {
     "ename": "AttributeError",
     "evalue": "'Info' object has no attribute '_Info__add'",
     "output_type": "error",
     "traceback": [
      "\u001b[1;31m---------------------------------------------------------------------------\u001b[0m",
      "\u001b[1;31mAttributeError\u001b[0m                            Traceback (most recent call last)",
      "Cell \u001b[1;32mIn[15], line 10\u001b[0m\n\u001b[0;32m      8\u001b[0m         \u001b[38;5;28;01mreturn\u001b[39;00m \u001b[38;5;124m'\u001b[39m\u001b[38;5;124mHello world i am\u001b[39m\u001b[38;5;124m'\u001b[39m \u001b[38;5;241m+\u001b[39m \u001b[38;5;28mself\u001b[39m\u001b[38;5;241m.\u001b[39mname \u001b[38;5;241m+\u001b[39m \u001b[38;5;124m'\u001b[39m\u001b[38;5;124m.I am\u001b[39m\u001b[38;5;124m'\u001b[39m \u001b[38;5;241m+\u001b[39m \u001b[38;5;28mstr\u001b[39m(\u001b[38;5;28mself\u001b[39m\u001b[38;5;241m.\u001b[39m_age) \u001b[38;5;241m+\u001b[39m\u001b[38;5;124m'\u001b[39m\u001b[38;5;124m.I live in \u001b[39m\u001b[38;5;124m'\u001b[39m \u001b[38;5;241m+\u001b[39m \u001b[38;5;28mself\u001b[39m\u001b[38;5;241m.\u001b[39m__add\n\u001b[0;32m      9\u001b[0m obj \u001b[38;5;241m=\u001b[39m Info()\n\u001b[1;32m---> 10\u001b[0m \u001b[38;5;28mprint\u001b[39m(\u001b[43mobj\u001b[49m\u001b[38;5;241;43m.\u001b[39;49m\u001b[43minfo\u001b[49m\u001b[43m(\u001b[49m\u001b[43m)\u001b[49m)\n",
      "Cell \u001b[1;32mIn[15], line 8\u001b[0m, in \u001b[0;36mInfo.info\u001b[1;34m(self)\u001b[0m\n\u001b[0;32m      7\u001b[0m \u001b[38;5;28;01mdef\u001b[39;00m \u001b[38;5;21minfo\u001b[39m(\u001b[38;5;28mself\u001b[39m):\n\u001b[1;32m----> 8\u001b[0m     \u001b[38;5;28;01mreturn\u001b[39;00m \u001b[38;5;124m'\u001b[39m\u001b[38;5;124mHello world i am\u001b[39m\u001b[38;5;124m'\u001b[39m \u001b[38;5;241m+\u001b[39m \u001b[38;5;28mself\u001b[39m\u001b[38;5;241m.\u001b[39mname \u001b[38;5;241m+\u001b[39m \u001b[38;5;124m'\u001b[39m\u001b[38;5;124m.I am\u001b[39m\u001b[38;5;124m'\u001b[39m \u001b[38;5;241m+\u001b[39m \u001b[38;5;28mstr\u001b[39m(\u001b[38;5;28mself\u001b[39m\u001b[38;5;241m.\u001b[39m_age) \u001b[38;5;241m+\u001b[39m\u001b[38;5;124m'\u001b[39m\u001b[38;5;124m.I live in \u001b[39m\u001b[38;5;124m'\u001b[39m \u001b[38;5;241m+\u001b[39m \u001b[38;5;28;43mself\u001b[39;49m\u001b[38;5;241;43m.\u001b[39;49m\u001b[43m__add\u001b[49m\n",
      "\u001b[1;31mAttributeError\u001b[0m: 'Info' object has no attribute '_Info__add'"
     ]
    }
   ],
   "source": [
    "class Data:\n",
    "    def __init__(self):\n",
    "        self.name = input(\"Enter your name = \")\n",
    "        self._age = int(input(\"Enter your age = \"))\n",
    "        self.__add = input(\"Enter your address = \") #protected\n",
    "class Info(Data):\n",
    "    def info(self):\n",
    "        return 'Hello world i am' + self.name + '.I am' + str(self._age) +'.I live in ' + self.__add\n",
    "obj = Info()\n",
    "print(obj.info())\n"
   ]
  },
  {
   "cell_type": "code",
   "execution_count": null,
   "id": "4024dbaa",
   "metadata": {},
   "outputs": [],
   "source": [
    "# private members\n",
    "class Info:\n",
    "    def __init__(self):\n",
    "        self.__name = \"Suraj\"\n",
    "        self.__age =  21\n",
    "        self.__add = \"Kathmandu\"\n",
    "obj = Info()\n",
    "print("
   ]
  },
  {
   "cell_type": "code",
   "execution_count": 17,
   "id": "71e0d52d",
   "metadata": {},
   "outputs": [
    {
     "name": "stdout",
     "output_type": "stream",
     "text": [
      "Parrot can fly\n",
      "Penguin can't fly\n"
     ]
    }
   ],
   "source": [
    "# Polymorphism\n",
    "class Parrot:\n",
    "    def fly(self):\n",
    "        print(\"Parrot can fly\")\n",
    "    def swim(self):\n",
    "        print(\"Parrot can't swim\")\n",
    "class Penguin:\n",
    "    def fly(self):\n",
    "        print(\"Penguin can't fly\")\n",
    "    def swim(self):\n",
    "        print(\"Parrot can swim\")\n",
    "        \n",
    "# common interface\n",
    "def flying_test(bird):\n",
    "    bird.fly()\n",
    "\n",
    "# instatiate objects\n",
    "blu = Parrot()\n",
    "peggy = Penguin()\n",
    "# passing the object\n",
    "flying_test(blu)\n",
    "flying_test(peggy)"
   ]
  },
  {
   "cell_type": "code",
   "execution_count": null,
   "id": "d7e9f453",
   "metadata": {},
   "outputs": [],
   "source": []
  }
 ],
 "metadata": {
  "kernelspec": {
   "display_name": "Python 3 (ipykernel)",
   "language": "python",
   "name": "python3"
  },
  "language_info": {
   "codemirror_mode": {
    "name": "ipython",
    "version": 3
   },
   "file_extension": ".py",
   "mimetype": "text/x-python",
   "name": "python",
   "nbconvert_exporter": "python",
   "pygments_lexer": "ipython3",
   "version": "3.10.9"
  }
 },
 "nbformat": 4,
 "nbformat_minor": 5
}
