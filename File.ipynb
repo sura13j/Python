{
 "cells": [
  {
   "cell_type": "code",
   "execution_count": 1,
   "id": "9c745b6c",
   "metadata": {},
   "outputs": [],
   "source": [
    "# b = open('<file_name>','<Modes>')\n",
    "# b.close()\n",
    "\n",
    "# with open('<file_name>','<Modes>') as file:\n",
    "#         <operator>"
   ]
  },
  {
   "cell_type": "code",
   "execution_count": 2,
   "id": "89e746ac",
   "metadata": {},
   "outputs": [],
   "source": [
    "# modes\n",
    "## read ->r\n",
    "## write ->w\n",
    "## create ->x\n",
    "## append ->a"
   ]
  },
  {
   "cell_type": "code",
   "execution_count": 3,
   "id": "b91e2f1a",
   "metadata": {},
   "outputs": [],
   "source": [
    "# Create Mode\n",
    "file = open('data.txt','x')\n",
    "file.close()"
   ]
  },
  {
   "cell_type": "code",
   "execution_count": 9,
   "id": "580dc207",
   "metadata": {},
   "outputs": [
    {
     "name": "stdout",
     "output_type": "stream",
     "text": [
      "1. I am Groot\n",
      "2. I am Groot\n",
      "3. I am Groot\n"
     ]
    }
   ],
   "source": [
    "\n",
    "file = open('data.txt','r')\n",
    "print(file.read())\n",
    "file.close()"
   ]
  },
  {
   "cell_type": "code",
   "execution_count": 8,
   "id": "f5487215",
   "metadata": {},
   "outputs": [
    {
     "name": "stdout",
     "output_type": "stream",
     "text": [
      "1. I am Groot\n",
      "2. I am Groot\n",
      "3. I am Groot\n"
     ]
    }
   ],
   "source": [
    "# Read Mode\n",
    "file = open('data.txt','r')\n",
    "x = file.read()\n",
    "print(x)\n",
    "file.close()"
   ]
  },
  {
   "cell_type": "code",
   "execution_count": 10,
   "id": "587e17e5",
   "metadata": {},
   "outputs": [
    {
     "data": {
      "text/plain": [
       "['1. I am Groot', '2. I am Groot', '3. I am Groot']"
      ]
     },
     "execution_count": 10,
     "metadata": {},
     "output_type": "execute_result"
    }
   ],
   "source": [
    "x.split('\\n')"
   ]
  },
  {
   "cell_type": "code",
   "execution_count": 11,
   "id": "77ba73b3",
   "metadata": {},
   "outputs": [],
   "source": [
    "# Writing Mode\n",
    "file = open('data.txt','w')\n",
    "file.write('Hello world')\n",
    "file.close()"
   ]
  },
  {
   "cell_type": "code",
   "execution_count": 17,
   "id": "cb7ca600",
   "metadata": {},
   "outputs": [],
   "source": [
    "file = open('data.txt','w')\n",
    "file.write(\"MUJI\")\n",
    "file.close()"
   ]
  },
  {
   "cell_type": "code",
   "execution_count": 14,
   "id": "5476c7e9",
   "metadata": {},
   "outputs": [
    {
     "name": "stdout",
     "output_type": "stream",
     "text": [
      "Enter the value of n = 2\n",
      "Enter the product name = Apple\n",
      "Enter the price = 200\n",
      "Enter the quantity = 2\n",
      "Enter the product name = banana\n",
      "Enter the price = 100\n",
      "Enter the quantity = 3\n",
      "Apple 200 2 400\n",
      "banana 100 3 300\n",
      "\n"
     ]
    }
   ],
   "source": [
    "s = \"\"\n",
    "n = int(input(\"Enter the value of n = \"))\n",
    "for i in range(n):\n",
    "    product = input(\"Enter the product name = \")\n",
    "    price = int(input(\"Enter the price = \"))\n",
    "    quantity = int(input(\"Enter the quantity = \"))\n",
    "    total = price*quantity\n",
    "    info = f\"{product} {price} {quantity} {total}\\n\"\n",
    "    s = s + info\n",
    "print(s)\n",
    "\n",
    "file = open('bill.txt','w')\n",
    "file.write(s)\n",
    "file.close()"
   ]
  },
  {
   "cell_type": "code",
   "execution_count": 19,
   "id": "9bf729fd",
   "metadata": {},
   "outputs": [
    {
     "name": "stdout",
     "output_type": "stream",
     "text": [
      "Enter the value of n = 2\n",
      "Enter the product name = fanta\n",
      "Enter the price = 300\n",
      "Enter the quantity = 2\n",
      "Enter the product name = Coke\n",
      "Enter the price = 200\n",
      "Enter the quantity = 2\n"
     ]
    }
   ],
   "source": [
    "s = \"\"\n",
    "file = open('bill.txt','a')\n",
    "n = int(input(\"Enter the value of n = \"))\n",
    "for i in range(n):\n",
    "    product = input(\"Enter the product name = \")\n",
    "    price = int(input(\"Enter the price = \"))\n",
    "    quantity = int(input(\"Enter the quantity = \"))\n",
    "    total = price*quantity\n",
    "    info = f\"{product} {price} {quantity} {total}\\n\"\n",
    "    file.write(info)\n",
    "\n",
    "file.close()"
   ]
  },
  {
   "cell_type": "code",
   "execution_count": 28,
   "id": "ed03b787",
   "metadata": {},
   "outputs": [
    {
     "data": {
      "text/plain": [
       "['Coke 200 2 400', 'Chips 100 4 400', 'fanta 300 2 600', 'Coke 200 2 400']"
      ]
     },
     "execution_count": 28,
     "metadata": {},
     "output_type": "execute_result"
    }
   ],
   "source": [
    "file = open('bill.txt','r')\n",
    "x = file.read()\n",
    "y = x.split('\\n')[:-1]\n",
    "y\n"
   ]
  },
  {
   "cell_type": "code",
   "execution_count": 33,
   "id": "03b8cd55",
   "metadata": {},
   "outputs": [
    {
     "data": {
      "text/plain": [
       "['Coke 200 2 400', 'Chips 100 4 400', 'fanta 300 2 600', 'Coke 200 2 400', '']"
      ]
     },
     "execution_count": 33,
     "metadata": {},
     "output_type": "execute_result"
    }
   ],
   "source": [
    "file = open('bill.txt','r')\n",
    "x = file.read()\n",
    "y = x.split('\\n')\n",
    "y"
   ]
  },
  {
   "cell_type": "code",
   "execution_count": 35,
   "id": "72518d74",
   "metadata": {
    "scrolled": false
   },
   "outputs": [
    {
     "data": {
      "text/plain": [
       "[['Coke', '200', '2', '400'],\n",
       " ['Chips', '100', '4', '400'],\n",
       " ['fanta', '300', '2', '600'],\n",
       " ['Coke', '200', '2', '400'],\n",
       " []]"
      ]
     },
     "execution_count": 35,
     "metadata": {},
     "output_type": "execute_result"
    }
   ],
   "source": [
    "net = []\n",
    "for i in y:\n",
    "    net.append(i.split())\n",
    "net"
   ]
  },
  {
   "cell_type": "code",
   "execution_count": 36,
   "id": "77a4cc81",
   "metadata": {},
   "outputs": [
    {
     "name": "stdout",
     "output_type": "stream",
     "text": [
      "Enter the value of n = 2\n",
      "Enter the product name = Coke\n",
      "Enter the price = 200\n",
      "Enter the quantity = 2\n",
      "Enter the product name = Chips\n",
      "Enter the price = 200\n",
      "Enter the quantity = 1\n",
      "Coke,200,2,400\n",
      "Chips,200,1,200\n",
      "\n"
     ]
    }
   ],
   "source": [
    "s = \"\"\n",
    "n = int(input(\"Enter the value of n = \"))\n",
    "for i in range(n):\n",
    "    product = input(\"Enter the product name = \")\n",
    "    price = int(input(\"Enter the price = \"))\n",
    "    quantity = int(input(\"Enter the quantity = \"))\n",
    "    total = price*quantity\n",
    "    info = f\"{product},{price},{quantity},{total}\\n\"\n",
    "    s = s + info\n",
    "print(s)\n",
    "\n",
    "file = open('bill.csv','w')\n",
    "file.write(s)\n",
    "file.close()"
   ]
  },
  {
   "cell_type": "code",
   "execution_count": 37,
   "id": "19d5842f",
   "metadata": {},
   "outputs": [
    {
     "data": {
      "text/plain": [
       "'C:\\\\Users\\\\suraj\\\\Python Training'"
      ]
     },
     "execution_count": 37,
     "metadata": {},
     "output_type": "execute_result"
    }
   ],
   "source": [
    "pwd\n"
   ]
  },
  {
   "cell_type": "code",
   "execution_count": 1,
   "id": "d3ffadeb",
   "metadata": {},
   "outputs": [],
   "source": [
    "file = open('data.csv','x')\n",
    "file.close()"
   ]
  },
  {
   "cell_type": "code",
   "execution_count": 3,
   "id": "6b36a4aa",
   "metadata": {},
   "outputs": [
    {
     "data": {
      "text/html": [
       "<div>\n",
       "<style scoped>\n",
       "    .dataframe tbody tr th:only-of-type {\n",
       "        vertical-align: middle;\n",
       "    }\n",
       "\n",
       "    .dataframe tbody tr th {\n",
       "        vertical-align: top;\n",
       "    }\n",
       "\n",
       "    .dataframe thead th {\n",
       "        text-align: right;\n",
       "    }\n",
       "</style>\n",
       "<table border=\"1\" class=\"dataframe\">\n",
       "  <thead>\n",
       "    <tr style=\"text-align: right;\">\n",
       "      <th></th>\n",
       "      <th>sn</th>\n",
       "      <th>name</th>\n",
       "      <th>age</th>\n",
       "      <th>adddress</th>\n",
       "    </tr>\n",
       "  </thead>\n",
       "  <tbody>\n",
       "    <tr>\n",
       "      <th>0</th>\n",
       "      <td>1</td>\n",
       "      <td>Suraj</td>\n",
       "      <td>20</td>\n",
       "      <td>Narephate</td>\n",
       "    </tr>\n",
       "    <tr>\n",
       "      <th>1</th>\n",
       "      <td>2</td>\n",
       "      <td>ghanshyam</td>\n",
       "      <td>43</td>\n",
       "      <td>jadibuti</td>\n",
       "    </tr>\n",
       "    <tr>\n",
       "      <th>2</th>\n",
       "      <td>3</td>\n",
       "      <td>baburam</td>\n",
       "      <td>67</td>\n",
       "      <td>koteshwore</td>\n",
       "    </tr>\n",
       "    <tr>\n",
       "      <th>3</th>\n",
       "      <td>4</td>\n",
       "      <td>shyaam</td>\n",
       "      <td>34</td>\n",
       "      <td>boudha</td>\n",
       "    </tr>\n",
       "    <tr>\n",
       "      <th>4</th>\n",
       "      <td>5</td>\n",
       "      <td>fakira</td>\n",
       "      <td>45</td>\n",
       "      <td>kamaltar</td>\n",
       "    </tr>\n",
       "  </tbody>\n",
       "</table>\n",
       "</div>"
      ],
      "text/plain": [
       "   sn       name  age    adddress\n",
       "0   1      Suraj   20   Narephate\n",
       "1   2  ghanshyam   43    jadibuti\n",
       "2   3    baburam   67  koteshwore\n",
       "3   4     shyaam   34      boudha\n",
       "4   5     fakira   45    kamaltar"
      ]
     },
     "execution_count": 3,
     "metadata": {},
     "output_type": "execute_result"
    }
   ],
   "source": [
    "import pandas as pd\n",
    "df = pd.read_csv('data.csv')\n",
    "df"
   ]
  },
  {
   "cell_type": "code",
   "execution_count": 5,
   "id": "e77b199b",
   "metadata": {},
   "outputs": [
    {
     "data": {
      "text/html": [
       "<div>\n",
       "<style scoped>\n",
       "    .dataframe tbody tr th:only-of-type {\n",
       "        vertical-align: middle;\n",
       "    }\n",
       "\n",
       "    .dataframe tbody tr th {\n",
       "        vertical-align: top;\n",
       "    }\n",
       "\n",
       "    .dataframe thead th {\n",
       "        text-align: right;\n",
       "    }\n",
       "</style>\n",
       "<table border=\"1\" class=\"dataframe\">\n",
       "  <thead>\n",
       "    <tr style=\"text-align: right;\">\n",
       "      <th></th>\n",
       "      <th>sn</th>\n",
       "      <th>name</th>\n",
       "      <th>age</th>\n",
       "      <th>adddress</th>\n",
       "    </tr>\n",
       "  </thead>\n",
       "  <tbody>\n",
       "    <tr>\n",
       "      <th>0</th>\n",
       "      <td>1</td>\n",
       "      <td>Suraj</td>\n",
       "      <td>20</td>\n",
       "      <td>Narephate</td>\n",
       "    </tr>\n",
       "    <tr>\n",
       "      <th>1</th>\n",
       "      <td>2</td>\n",
       "      <td>ghanshyam</td>\n",
       "      <td>43</td>\n",
       "      <td>jadibuti</td>\n",
       "    </tr>\n",
       "    <tr>\n",
       "      <th>2</th>\n",
       "      <td>3</td>\n",
       "      <td>baburam</td>\n",
       "      <td>67</td>\n",
       "      <td>koteshwore</td>\n",
       "    </tr>\n",
       "  </tbody>\n",
       "</table>\n",
       "</div>"
      ],
      "text/plain": [
       "   sn       name  age    adddress\n",
       "0   1      Suraj   20   Narephate\n",
       "1   2  ghanshyam   43    jadibuti\n",
       "2   3    baburam   67  koteshwore"
      ]
     },
     "execution_count": 5,
     "metadata": {},
     "output_type": "execute_result"
    }
   ],
   "source": [
    "import pandas as pd\n",
    "df = pd.read_csv('data.csv')\n",
    "df.head(3)  # Head function()"
   ]
  },
  {
   "cell_type": "code",
   "execution_count": 6,
   "id": "124fa709",
   "metadata": {},
   "outputs": [
    {
     "data": {
      "text/html": [
       "<div>\n",
       "<style scoped>\n",
       "    .dataframe tbody tr th:only-of-type {\n",
       "        vertical-align: middle;\n",
       "    }\n",
       "\n",
       "    .dataframe tbody tr th {\n",
       "        vertical-align: top;\n",
       "    }\n",
       "\n",
       "    .dataframe thead th {\n",
       "        text-align: right;\n",
       "    }\n",
       "</style>\n",
       "<table border=\"1\" class=\"dataframe\">\n",
       "  <thead>\n",
       "    <tr style=\"text-align: right;\">\n",
       "      <th></th>\n",
       "      <th>sn</th>\n",
       "      <th>name</th>\n",
       "      <th>age</th>\n",
       "      <th>adddress</th>\n",
       "    </tr>\n",
       "  </thead>\n",
       "  <tbody>\n",
       "    <tr>\n",
       "      <th>2</th>\n",
       "      <td>3</td>\n",
       "      <td>baburam</td>\n",
       "      <td>67</td>\n",
       "      <td>koteshwore</td>\n",
       "    </tr>\n",
       "    <tr>\n",
       "      <th>3</th>\n",
       "      <td>4</td>\n",
       "      <td>shyaam</td>\n",
       "      <td>34</td>\n",
       "      <td>boudha</td>\n",
       "    </tr>\n",
       "    <tr>\n",
       "      <th>4</th>\n",
       "      <td>5</td>\n",
       "      <td>fakira</td>\n",
       "      <td>45</td>\n",
       "      <td>kamaltar</td>\n",
       "    </tr>\n",
       "  </tbody>\n",
       "</table>\n",
       "</div>"
      ],
      "text/plain": [
       "   sn     name  age    adddress\n",
       "2   3  baburam   67  koteshwore\n",
       "3   4   shyaam   34      boudha\n",
       "4   5   fakira   45    kamaltar"
      ]
     },
     "execution_count": 6,
     "metadata": {},
     "output_type": "execute_result"
    }
   ],
   "source": [
    "df.tail(3)   # tail function()"
   ]
  },
  {
   "cell_type": "code",
   "execution_count": 7,
   "id": "2d089b9f",
   "metadata": {},
   "outputs": [
    {
     "name": "stdout",
     "output_type": "stream",
     "text": [
      "Requirement already satisfied: pandas in c:\\users\\suraj\\anaconda3\\lib\\site-packages (1.5.3)\n",
      "Requirement already satisfied: python-dateutil>=2.8.1 in c:\\users\\suraj\\anaconda3\\lib\\site-packages (from pandas) (2.8.2)\n",
      "Requirement already satisfied: numpy>=1.21.0 in c:\\users\\suraj\\anaconda3\\lib\\site-packages (from pandas) (1.23.5)\n",
      "Requirement already satisfied: pytz>=2020.1 in c:\\users\\suraj\\anaconda3\\lib\\site-packages (from pandas) (2022.7)\n",
      "Requirement already satisfied: six>=1.5 in c:\\users\\suraj\\anaconda3\\lib\\site-packages (from python-dateutil>=2.8.1->pandas) (1.16.0)\n"
     ]
    }
   ],
   "source": [
    "!pip install pandas #imp"
   ]
  },
  {
   "cell_type": "code",
   "execution_count": 9,
   "id": "fd5d55a5",
   "metadata": {},
   "outputs": [
    {
     "data": {
      "text/html": [
       "<div>\n",
       "<style scoped>\n",
       "    .dataframe tbody tr th:only-of-type {\n",
       "        vertical-align: middle;\n",
       "    }\n",
       "\n",
       "    .dataframe tbody tr th {\n",
       "        vertical-align: top;\n",
       "    }\n",
       "\n",
       "    .dataframe thead th {\n",
       "        text-align: right;\n",
       "    }\n",
       "</style>\n",
       "<table border=\"1\" class=\"dataframe\">\n",
       "  <thead>\n",
       "    <tr style=\"text-align: right;\">\n",
       "      <th></th>\n",
       "      <th>name</th>\n",
       "      <th>age</th>\n",
       "      <th>adddress</th>\n",
       "    </tr>\n",
       "    <tr>\n",
       "      <th>sn</th>\n",
       "      <th></th>\n",
       "      <th></th>\n",
       "      <th></th>\n",
       "    </tr>\n",
       "  </thead>\n",
       "  <tbody>\n",
       "    <tr>\n",
       "      <th>1</th>\n",
       "      <td>Suraj</td>\n",
       "      <td>20</td>\n",
       "      <td>Narephate</td>\n",
       "    </tr>\n",
       "    <tr>\n",
       "      <th>2</th>\n",
       "      <td>Ghanshyam</td>\n",
       "      <td>43</td>\n",
       "      <td>Jadibuti</td>\n",
       "    </tr>\n",
       "    <tr>\n",
       "      <th>3</th>\n",
       "      <td>Baburam</td>\n",
       "      <td>67</td>\n",
       "      <td>Koteshwore</td>\n",
       "    </tr>\n",
       "    <tr>\n",
       "      <th>4</th>\n",
       "      <td>Shyaam</td>\n",
       "      <td>34</td>\n",
       "      <td>Boudha</td>\n",
       "    </tr>\n",
       "    <tr>\n",
       "      <th>5</th>\n",
       "      <td>Fakira</td>\n",
       "      <td>45</td>\n",
       "      <td>Kamaltar</td>\n",
       "    </tr>\n",
       "  </tbody>\n",
       "</table>\n",
       "</div>"
      ],
      "text/plain": [
       "         name  age    adddress\n",
       "sn                            \n",
       "1       Suraj   20   Narephate\n",
       "2   Ghanshyam   43    Jadibuti\n",
       "3     Baburam   67  Koteshwore\n",
       "4      Shyaam   34      Boudha\n",
       "5      Fakira   45    Kamaltar"
      ]
     },
     "execution_count": 9,
     "metadata": {},
     "output_type": "execute_result"
    }
   ],
   "source": [
    "\n",
    "df = pd.read_csv('data.csv',index_col = 'sn')\n",
    "df"
   ]
  },
  {
   "cell_type": "code",
   "execution_count": 12,
   "id": "a84d2ff7",
   "metadata": {},
   "outputs": [
    {
     "data": {
      "text/html": [
       "<div>\n",
       "<style scoped>\n",
       "    .dataframe tbody tr th:only-of-type {\n",
       "        vertical-align: middle;\n",
       "    }\n",
       "\n",
       "    .dataframe tbody tr th {\n",
       "        vertical-align: top;\n",
       "    }\n",
       "\n",
       "    .dataframe thead th {\n",
       "        text-align: right;\n",
       "    }\n",
       "</style>\n",
       "<table border=\"1\" class=\"dataframe\">\n",
       "  <thead>\n",
       "    <tr style=\"text-align: right;\">\n",
       "      <th></th>\n",
       "      <th>name</th>\n",
       "      <th>age</th>\n",
       "    </tr>\n",
       "    <tr>\n",
       "      <th>sn</th>\n",
       "      <th></th>\n",
       "      <th></th>\n",
       "    </tr>\n",
       "  </thead>\n",
       "  <tbody>\n",
       "    <tr>\n",
       "      <th>1</th>\n",
       "      <td>Suraj</td>\n",
       "      <td>20</td>\n",
       "    </tr>\n",
       "    <tr>\n",
       "      <th>2</th>\n",
       "      <td>Ghanshyam</td>\n",
       "      <td>43</td>\n",
       "    </tr>\n",
       "    <tr>\n",
       "      <th>3</th>\n",
       "      <td>Baburam</td>\n",
       "      <td>67</td>\n",
       "    </tr>\n",
       "    <tr>\n",
       "      <th>4</th>\n",
       "      <td>Shyaam</td>\n",
       "      <td>34</td>\n",
       "    </tr>\n",
       "    <tr>\n",
       "      <th>5</th>\n",
       "      <td>Fakira</td>\n",
       "      <td>45</td>\n",
       "    </tr>\n",
       "  </tbody>\n",
       "</table>\n",
       "</div>"
      ],
      "text/plain": [
       "         name  age\n",
       "sn                \n",
       "1       Suraj   20\n",
       "2   Ghanshyam   43\n",
       "3     Baburam   67\n",
       "4      Shyaam   34\n",
       "5      Fakira   45"
      ]
     },
     "execution_count": 12,
     "metadata": {},
     "output_type": "execute_result"
    }
   ],
   "source": [
    "df = pd.read_csv('data.csv',index_col = 'sn',usecols = ['sn','name','age'])\n",
    "df # data frame"
   ]
  },
  {
   "cell_type": "code",
   "execution_count": 17,
   "id": "13341e11",
   "metadata": {},
   "outputs": [
    {
     "data": {
      "text/plain": [
       "name    Shyaam\n",
       "age         34\n",
       "Name: 4, dtype: object"
      ]
     },
     "execution_count": 17,
     "metadata": {},
     "output_type": "execute_result"
    }
   ],
   "source": [
    "# iloc and loc\n",
    "df.iloc[3]"
   ]
  },
  {
   "cell_type": "code",
   "execution_count": 18,
   "id": "e2f75efe",
   "metadata": {},
   "outputs": [
    {
     "data": {
      "text/html": [
       "<div>\n",
       "<style scoped>\n",
       "    .dataframe tbody tr th:only-of-type {\n",
       "        vertical-align: middle;\n",
       "    }\n",
       "\n",
       "    .dataframe tbody tr th {\n",
       "        vertical-align: top;\n",
       "    }\n",
       "\n",
       "    .dataframe thead th {\n",
       "        text-align: right;\n",
       "    }\n",
       "</style>\n",
       "<table border=\"1\" class=\"dataframe\">\n",
       "  <thead>\n",
       "    <tr style=\"text-align: right;\">\n",
       "      <th></th>\n",
       "      <th>sn</th>\n",
       "      <th>age</th>\n",
       "      <th>adddress</th>\n",
       "    </tr>\n",
       "    <tr>\n",
       "      <th>name</th>\n",
       "      <th></th>\n",
       "      <th></th>\n",
       "      <th></th>\n",
       "    </tr>\n",
       "  </thead>\n",
       "  <tbody>\n",
       "    <tr>\n",
       "      <th>Suraj</th>\n",
       "      <td>1</td>\n",
       "      <td>20</td>\n",
       "      <td>Narephate</td>\n",
       "    </tr>\n",
       "    <tr>\n",
       "      <th>Ghanshyam</th>\n",
       "      <td>2</td>\n",
       "      <td>43</td>\n",
       "      <td>Jadibuti</td>\n",
       "    </tr>\n",
       "    <tr>\n",
       "      <th>Baburam</th>\n",
       "      <td>3</td>\n",
       "      <td>67</td>\n",
       "      <td>Koteshwore</td>\n",
       "    </tr>\n",
       "    <tr>\n",
       "      <th>Shyaam</th>\n",
       "      <td>4</td>\n",
       "      <td>34</td>\n",
       "      <td>Boudha</td>\n",
       "    </tr>\n",
       "    <tr>\n",
       "      <th>Fakira</th>\n",
       "      <td>5</td>\n",
       "      <td>45</td>\n",
       "      <td>Kamaltar</td>\n",
       "    </tr>\n",
       "  </tbody>\n",
       "</table>\n",
       "</div>"
      ],
      "text/plain": [
       "           sn  age    adddress\n",
       "name                          \n",
       "Suraj       1   20   Narephate\n",
       "Ghanshyam   2   43    Jadibuti\n",
       "Baburam     3   67  Koteshwore\n",
       "Shyaam      4   34      Boudha\n",
       "Fakira      5   45    Kamaltar"
      ]
     },
     "execution_count": 18,
     "metadata": {},
     "output_type": "execute_result"
    }
   ],
   "source": [
    "df = pd.read_csv('data.csv',index_col = 'name')\n",
    "df"
   ]
  },
  {
   "cell_type": "code",
   "execution_count": 20,
   "id": "1c59023e",
   "metadata": {},
   "outputs": [
    {
     "data": {
      "text/html": [
       "<div>\n",
       "<style scoped>\n",
       "    .dataframe tbody tr th:only-of-type {\n",
       "        vertical-align: middle;\n",
       "    }\n",
       "\n",
       "    .dataframe tbody tr th {\n",
       "        vertical-align: top;\n",
       "    }\n",
       "\n",
       "    .dataframe thead th {\n",
       "        text-align: right;\n",
       "    }\n",
       "</style>\n",
       "<table border=\"1\" class=\"dataframe\">\n",
       "  <thead>\n",
       "    <tr style=\"text-align: right;\">\n",
       "      <th></th>\n",
       "      <th>sn</th>\n",
       "      <th>age</th>\n",
       "      <th>adddress</th>\n",
       "    </tr>\n",
       "    <tr>\n",
       "      <th>name</th>\n",
       "      <th></th>\n",
       "      <th></th>\n",
       "      <th></th>\n",
       "    </tr>\n",
       "  </thead>\n",
       "  <tbody>\n",
       "    <tr>\n",
       "      <th>Suraj</th>\n",
       "      <td>1</td>\n",
       "      <td>20</td>\n",
       "      <td>Narephate</td>\n",
       "    </tr>\n",
       "    <tr>\n",
       "      <th>Ghanshyam</th>\n",
       "      <td>2</td>\n",
       "      <td>43</td>\n",
       "      <td>Jadibuti</td>\n",
       "    </tr>\n",
       "    <tr>\n",
       "      <th>Baburam</th>\n",
       "      <td>3</td>\n",
       "      <td>67</td>\n",
       "      <td>Koteshwore</td>\n",
       "    </tr>\n",
       "  </tbody>\n",
       "</table>\n",
       "</div>"
      ],
      "text/plain": [
       "           sn  age    adddress\n",
       "name                          \n",
       "Suraj       1   20   Narephate\n",
       "Ghanshyam   2   43    Jadibuti\n",
       "Baburam     3   67  Koteshwore"
      ]
     },
     "execution_count": 20,
     "metadata": {},
     "output_type": "execute_result"
    }
   ],
   "source": [
    "df.iloc[0:3]"
   ]
  },
  {
   "cell_type": "code",
   "execution_count": 23,
   "id": "bee10b90",
   "metadata": {},
   "outputs": [
    {
     "data": {
      "text/html": [
       "<div>\n",
       "<style scoped>\n",
       "    .dataframe tbody tr th:only-of-type {\n",
       "        vertical-align: middle;\n",
       "    }\n",
       "\n",
       "    .dataframe tbody tr th {\n",
       "        vertical-align: top;\n",
       "    }\n",
       "\n",
       "    .dataframe thead th {\n",
       "        text-align: right;\n",
       "    }\n",
       "</style>\n",
       "<table border=\"1\" class=\"dataframe\">\n",
       "  <thead>\n",
       "    <tr style=\"text-align: right;\">\n",
       "      <th></th>\n",
       "      <th>sn</th>\n",
       "      <th>age</th>\n",
       "      <th>adddress</th>\n",
       "    </tr>\n",
       "    <tr>\n",
       "      <th>name</th>\n",
       "      <th></th>\n",
       "      <th></th>\n",
       "      <th></th>\n",
       "    </tr>\n",
       "  </thead>\n",
       "  <tbody>\n",
       "    <tr>\n",
       "      <th>Suraj</th>\n",
       "      <td>1</td>\n",
       "      <td>20</td>\n",
       "      <td>Narephate</td>\n",
       "    </tr>\n",
       "    <tr>\n",
       "      <th>Ghanshyam</th>\n",
       "      <td>2</td>\n",
       "      <td>43</td>\n",
       "      <td>Jadibuti</td>\n",
       "    </tr>\n",
       "    <tr>\n",
       "      <th>Baburam</th>\n",
       "      <td>3</td>\n",
       "      <td>67</td>\n",
       "      <td>Koteshwore</td>\n",
       "    </tr>\n",
       "  </tbody>\n",
       "</table>\n",
       "</div>"
      ],
      "text/plain": [
       "           sn  age    adddress\n",
       "name                          \n",
       "Suraj       1   20   Narephate\n",
       "Ghanshyam   2   43    Jadibuti\n",
       "Baburam     3   67  Koteshwore"
      ]
     },
     "execution_count": 23,
     "metadata": {},
     "output_type": "execute_result"
    }
   ],
   "source": [
    "df = pd.read_csv('data.csv',index_col = 'name')\n",
    "df.loc['Suraj':'Baburam']"
   ]
  },
  {
   "cell_type": "code",
   "execution_count": 28,
   "id": "f8c02e65",
   "metadata": {},
   "outputs": [],
   "source": [
    "df = pd.read_csv('data.csv',index_col = 'sn')\n",
    "df[df['age'] > 40]\n",
    "df.to_csv('new_data.csv')"
   ]
  },
  {
   "cell_type": "code",
   "execution_count": 35,
   "id": "722eb578",
   "metadata": {},
   "outputs": [
    {
     "data": {
      "text/html": [
       "<div>\n",
       "<style scoped>\n",
       "    .dataframe tbody tr th:only-of-type {\n",
       "        vertical-align: middle;\n",
       "    }\n",
       "\n",
       "    .dataframe tbody tr th {\n",
       "        vertical-align: top;\n",
       "    }\n",
       "\n",
       "    .dataframe thead th {\n",
       "        text-align: right;\n",
       "    }\n",
       "</style>\n",
       "<table border=\"1\" class=\"dataframe\">\n",
       "  <thead>\n",
       "    <tr style=\"text-align: right;\">\n",
       "      <th></th>\n",
       "      <th>sn</th>\n",
       "      <th>name</th>\n",
       "      <th>age</th>\n",
       "      <th>adddress</th>\n",
       "    </tr>\n",
       "  </thead>\n",
       "  <tbody>\n",
       "    <tr>\n",
       "      <th>0</th>\n",
       "      <td>1</td>\n",
       "      <td>Suraj</td>\n",
       "      <td>20</td>\n",
       "      <td>Narephate</td>\n",
       "    </tr>\n",
       "    <tr>\n",
       "      <th>1</th>\n",
       "      <td>2</td>\n",
       "      <td>Ghanshyam</td>\n",
       "      <td>43</td>\n",
       "      <td>Jadibuti</td>\n",
       "    </tr>\n",
       "    <tr>\n",
       "      <th>2</th>\n",
       "      <td>3</td>\n",
       "      <td>Baburam</td>\n",
       "      <td>67</td>\n",
       "      <td>Koteshwore</td>\n",
       "    </tr>\n",
       "    <tr>\n",
       "      <th>3</th>\n",
       "      <td>4</td>\n",
       "      <td>Shyaam</td>\n",
       "      <td>34</td>\n",
       "      <td>Boudha</td>\n",
       "    </tr>\n",
       "    <tr>\n",
       "      <th>4</th>\n",
       "      <td>5</td>\n",
       "      <td>Fakira</td>\n",
       "      <td>45</td>\n",
       "      <td>Kamaltar</td>\n",
       "    </tr>\n",
       "  </tbody>\n",
       "</table>\n",
       "</div>"
      ],
      "text/plain": [
       "   sn       name  age    adddress\n",
       "0   1      Suraj   20   Narephate\n",
       "1   2  Ghanshyam   43    Jadibuti\n",
       "2   3    Baburam   67  Koteshwore\n",
       "3   4     Shyaam   34      Boudha\n",
       "4   5     Fakira   45    Kamaltar"
      ]
     },
     "execution_count": 35,
     "metadata": {},
     "output_type": "execute_result"
    }
   ],
   "source": [
    "import pandas as pd\n",
    "df = pd.read_csv('data.csv')\n",
    "df"
   ]
  },
  {
   "cell_type": "code",
   "execution_count": 40,
   "id": "44b4f83f",
   "metadata": {},
   "outputs": [
    {
     "data": {
      "text/html": [
       "<div>\n",
       "<style scoped>\n",
       "    .dataframe tbody tr th:only-of-type {\n",
       "        vertical-align: middle;\n",
       "    }\n",
       "\n",
       "    .dataframe tbody tr th {\n",
       "        vertical-align: top;\n",
       "    }\n",
       "\n",
       "    .dataframe thead th {\n",
       "        text-align: right;\n",
       "    }\n",
       "</style>\n",
       "<table border=\"1\" class=\"dataframe\">\n",
       "  <thead>\n",
       "    <tr style=\"text-align: right;\">\n",
       "      <th></th>\n",
       "      <th>name</th>\n",
       "      <th>age</th>\n",
       "      <th>add</th>\n",
       "    </tr>\n",
       "  </thead>\n",
       "  <tbody>\n",
       "    <tr>\n",
       "      <th>0</th>\n",
       "      <td>Hari</td>\n",
       "      <td>45</td>\n",
       "      <td>Kathmandu</td>\n",
       "    </tr>\n",
       "    <tr>\n",
       "      <th>1</th>\n",
       "      <td>Ram</td>\n",
       "      <td>65</td>\n",
       "      <td>Biratnagar</td>\n",
       "    </tr>\n",
       "    <tr>\n",
       "      <th>2</th>\n",
       "      <td>Shyam</td>\n",
       "      <td>43</td>\n",
       "      <td>Kamaltar</td>\n",
       "    </tr>\n",
       "    <tr>\n",
       "      <th>3</th>\n",
       "      <td>Krishna</td>\n",
       "      <td>68</td>\n",
       "      <td>Baisepati</td>\n",
       "    </tr>\n",
       "  </tbody>\n",
       "</table>\n",
       "</div>"
      ],
      "text/plain": [
       "      name  age         add\n",
       "0     Hari   45   Kathmandu\n",
       "1      Ram   65  Biratnagar\n",
       "2    Shyam   43    Kamaltar\n",
       "3  Krishna   68   Baisepati"
      ]
     },
     "execution_count": 40,
     "metadata": {},
     "output_type": "execute_result"
    }
   ],
   "source": [
    "data = {'name':['Hari','Ram','Shyam','Krishna'],\n",
    "       'age':[45,65,43,68],\n",
    "       'add': ['Kathmandu','Biratnagar','Kamaltar','Baisepati']}\n",
    "df = pd.DataFrame(data)\n",
    "df.to_csv('info.csv')\n",
    "df"
   ]
  },
  {
   "cell_type": "code",
   "execution_count": 47,
   "id": "8c13dfdf",
   "metadata": {},
   "outputs": [],
   "source": [
    "data = [['Name','Age','Add'],\n",
    "       ['Ram',34,'Kathmandu'],\n",
    "       ['Shyam',65,'Biratnagar'],\n",
    "       ['Ghanshyam',78,'Kavre']]\n",
    "import csv\n",
    "file = open('list_data.csv','w')\n",
    "x = csv.writer(file)\n",
    "x.writerows(data)\n",
    "file.close()"
   ]
  },
  {
   "cell_type": "code",
   "execution_count": 48,
   "id": "9cf711db",
   "metadata": {},
   "outputs": [
    {
     "data": {
      "text/html": [
       "<div>\n",
       "<style scoped>\n",
       "    .dataframe tbody tr th:only-of-type {\n",
       "        vertical-align: middle;\n",
       "    }\n",
       "\n",
       "    .dataframe tbody tr th {\n",
       "        vertical-align: top;\n",
       "    }\n",
       "\n",
       "    .dataframe thead th {\n",
       "        text-align: right;\n",
       "    }\n",
       "</style>\n",
       "<table border=\"1\" class=\"dataframe\">\n",
       "  <thead>\n",
       "    <tr style=\"text-align: right;\">\n",
       "      <th></th>\n",
       "      <th>Name</th>\n",
       "      <th>Age</th>\n",
       "      <th>Add</th>\n",
       "    </tr>\n",
       "  </thead>\n",
       "  <tbody>\n",
       "    <tr>\n",
       "      <th>0</th>\n",
       "      <td>Ram</td>\n",
       "      <td>34</td>\n",
       "      <td>Kathmandu</td>\n",
       "    </tr>\n",
       "    <tr>\n",
       "      <th>1</th>\n",
       "      <td>Shyam</td>\n",
       "      <td>65</td>\n",
       "      <td>Biratnagar</td>\n",
       "    </tr>\n",
       "    <tr>\n",
       "      <th>2</th>\n",
       "      <td>Ghanshyam</td>\n",
       "      <td>78</td>\n",
       "      <td>Kavre</td>\n",
       "    </tr>\n",
       "  </tbody>\n",
       "</table>\n",
       "</div>"
      ],
      "text/plain": [
       "        Name  Age         Add\n",
       "0        Ram   34   Kathmandu\n",
       "1      Shyam   65  Biratnagar\n",
       "2  Ghanshyam   78       Kavre"
      ]
     },
     "execution_count": 48,
     "metadata": {},
     "output_type": "execute_result"
    }
   ],
   "source": [
    "df = pd.read_csv('list_data.csv')\n",
    "df"
   ]
  },
  {
   "cell_type": "code",
   "execution_count": null,
   "id": "59895d87",
   "metadata": {},
   "outputs": [],
   "source": []
  }
 ],
 "metadata": {
  "kernelspec": {
   "display_name": "Python 3 (ipykernel)",
   "language": "python",
   "name": "python3"
  },
  "language_info": {
   "codemirror_mode": {
    "name": "ipython",
    "version": 3
   },
   "file_extension": ".py",
   "mimetype": "text/x-python",
   "name": "python",
   "nbconvert_exporter": "python",
   "pygments_lexer": "ipython3",
   "version": "3.10.9"
  }
 },
 "nbformat": 4,
 "nbformat_minor": 5
}
