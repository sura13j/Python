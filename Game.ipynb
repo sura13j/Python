{
 "cells": [
  {
   "cell_type": "code",
   "execution_count": 7,
   "id": "cb5cf375",
   "metadata": {},
   "outputs": [
    {
     "name": "stdout",
     "output_type": "stream",
     "text": [
      "Enter a = Suraj\n",
      "Enter b = Bottle\n",
      "Hii! My name is Suraj.I just buy a new Bottle.\n"
     ]
    }
   ],
   "source": [
    "a = input(\"Enter a = \")\n",
    "b = input(\"Enter b = \")\n",
    "print(f\"Hii! My name is {a}.I just buy a new {b}.\")\n",
    "      "
   ]
  },
  {
   "cell_type": "code",
   "execution_count": 10,
   "id": "0ab4142c",
   "metadata": {},
   "outputs": [
    {
     "name": "stdout",
     "output_type": "stream",
     "text": [
      "Welcome to my game\n",
      "Do you want to play game? yes\n",
      "okay:) lets play\n",
      "Enter your Name = Suraj tamang\n",
      "Enter your age = 12\n",
      "invalid access\n",
      "Enter your age = 21\n",
      "Enter your gender = male\n",
      "Welcome to Quiz game Mr.Suraj tamang:)\n",
      "Shall we start to play? yes\n",
      "okay:) lets play\n",
      "What is Fullform of CPU? central processing unit\n",
      "Congrats! Its a correct answer:)\n",
      "What is Fullform of GPU? jkhsfuihsdh\n",
      "Opps! Try next time:(\n",
      "What is the capital city of Nepal? kathmandu\n",
      "Congrats! Its a correct answer:)\n",
      "What does USA stands for? UNITED STATES OF AMERICA\n",
      "Congrats! Its a correct answer:)\n",
      "Congrats! Mr,Suraj tamang.Your Total Score is 3:)\n"
     ]
    }
   ],
   "source": [
    "print(\"Welcome to my game\")\n",
    "play = input(\"Do you want to play game? \").lower()\n",
    "if play != \"yes\":\n",
    "    print(\"Quit\")\n",
    "else:\n",
    "    print(\"okay:) lets play\")\n",
    "name = input(\"Enter your Name = \")\n",
    "age = int(input(\"Enter your age = \"))\n",
    "while age<18:\n",
    "    print(\"invalid access\")\n",
    "    age = int(input(\"Enter your age = \"))\n",
    "gen = input(\"Enter your gender = \").lower()\n",
    "if gen == \"male\":\n",
    "    print(f\"Welcome to Quiz game Mr.{name}:)\")\n",
    "elif gen == \"female\":\n",
    "    print(f\"Welcome to Quiz game Ms.{name}:)\")\n",
    "else:\n",
    "    print(\"invalid Access\")\n",
    "start = input(\"Shall we start to play? \").lower\n",
    "if start != \"yes\":\n",
    "    print(\"okay:) lets play\")\n",
    "else:\n",
    "    print(\"Quit\")\n",
    "Grand_Total = 0\n",
    "ans = input(\"What is Fullform of CPU? \").lower()\n",
    "if ans != \"central processing unit\":\n",
    "    print(\"Opps! Try next time:(\")\n",
    "else:\n",
    "    print(\"Congrats! Its a correct answer:)\")\n",
    "    Grand_Total = Grand_Total + 1\n",
    "ans2 = input(\"What is Fullform of GPU? \").lower()\n",
    "if ans2 != \"graphics processing unit\":\n",
    "    print(\"Opps! Try next time:(\")\n",
    "else:\n",
    "    print(\"Congrats! Its a correct answer:)\")\n",
    "    Grand_Total = Grand_Total + 1\n",
    "ans3 = input(\"What is the capital city of Nepal? \").lower()\n",
    "if ans3 != \"kathmandu\":\n",
    "    print(\"Opps! Try next time:(\")\n",
    "else:\n",
    "    print(\"Congrats! Its a correct answer:)\")\n",
    "    Grand_Total = Grand_Total + 1\n",
    "ans4 = input(\"What does USA stands for? \").lower()\n",
    "if ans4 != \"united states of america\":\n",
    "    print(\"Opps! Try next time:(\")\n",
    "else:\n",
    "    print(\"Congrats! Its a correct answer:)\")\n",
    "    Grand_Total = Grand_Total + 1\n",
    "\n",
    "print(f\"Congrats! Mr,{name}.Your Total Score is {Grand_Total}:)\")\n"
   ]
  },
  {
   "cell_type": "code",
   "execution_count": null,
   "id": "74726c3e",
   "metadata": {},
   "outputs": [
    {
     "name": "stdout",
     "output_type": "stream",
     "text": [
      "Enter the value of n = 5\n",
      "Enter the value of a = 10\n",
      "Enter the value of b = 100\n",
      "+,-,*,/+\n",
      "110\n",
      "Enter the value of a = 10\n",
      "Enter the value of b = 5\n",
      "+,-,*,/-\n",
      "5\n",
      "Enter the value of a = 10\n",
      "Enter the value of b = 20\n",
      "+,-,*,/*\n",
      "200\n",
      "Enter the value of a = 200\n",
      "Enter the value of b = 10\n"
     ]
    }
   ],
   "source": [
    "## CALCULATOR ##\n",
    "def cal():\n",
    "    c = input(\"+,-,*,/\")\n",
    "    if c == \"+\":\n",
    "        cs = a+b\n",
    "        return cs\n",
    "    elif c == \"-\":\n",
    "        cs = a-b\n",
    "        return cs\n",
    "    elif c == \"*\":\n",
    "        cs = a*b\n",
    "        return cs\n",
    "    elif c == \"/\":\n",
    "        cs = a/b\n",
    "        return cs\n",
    "n = int(input(\"Enter the value of n = \"))\n",
    "for i in range(n):\n",
    "    a = int(input(\"Enter the value of a = \"))\n",
    "    b = int(input(\"Enter the value of b = \"))\n",
    "    c = cal()\n",
    "    print(c)\n",
    "\n",
    "        "
   ]
  },
  {
   "cell_type": "code",
   "execution_count": 1,
   "id": "0a734e05",
   "metadata": {},
   "outputs": [],
   "source": [
    "file = open('studentdata.csv','x')\n",
    "file.close()"
   ]
  },
  {
   "cell_type": "code",
   "execution_count": 2,
   "id": "cee004a9",
   "metadata": {},
   "outputs": [
    {
     "data": {
      "text/html": [
       "<div>\n",
       "<style scoped>\n",
       "    .dataframe tbody tr th:only-of-type {\n",
       "        vertical-align: middle;\n",
       "    }\n",
       "\n",
       "    .dataframe tbody tr th {\n",
       "        vertical-align: top;\n",
       "    }\n",
       "\n",
       "    .dataframe thead th {\n",
       "        text-align: right;\n",
       "    }\n",
       "</style>\n",
       "<table border=\"1\" class=\"dataframe\">\n",
       "  <thead>\n",
       "    <tr style=\"text-align: right;\">\n",
       "      <th></th>\n",
       "      <th>S.N</th>\n",
       "      <th>Student Name</th>\n",
       "      <th>Course</th>\n",
       "      <th>Address</th>\n",
       "      <th>Phone Number</th>\n",
       "    </tr>\n",
       "  </thead>\n",
       "  <tbody>\n",
       "    <tr>\n",
       "      <th>0</th>\n",
       "      <td>1</td>\n",
       "      <td>Suraj Tamang</td>\n",
       "      <td>Cybersecurity(BSC)</td>\n",
       "      <td>Kathmandu</td>\n",
       "      <td>9841445871</td>\n",
       "    </tr>\n",
       "    <tr>\n",
       "      <th>1</th>\n",
       "      <td>2</td>\n",
       "      <td>Yoman Rai</td>\n",
       "      <td>Gaming Development(BSC)</td>\n",
       "      <td>Kathmandu</td>\n",
       "      <td>9841324582</td>\n",
       "    </tr>\n",
       "    <tr>\n",
       "      <th>2</th>\n",
       "      <td>3</td>\n",
       "      <td>Manish Shrestha</td>\n",
       "      <td>Computer Science(CS)</td>\n",
       "      <td>Kathmandu</td>\n",
       "      <td>9782649201</td>\n",
       "    </tr>\n",
       "    <tr>\n",
       "      <th>3</th>\n",
       "      <td>4</td>\n",
       "      <td>Rabin karki</td>\n",
       "      <td>Civil Engineering</td>\n",
       "      <td>Kathmandu</td>\n",
       "      <td>9826728193</td>\n",
       "    </tr>\n",
       "  </tbody>\n",
       "</table>\n",
       "</div>"
      ],
      "text/plain": [
       "   S.N     Student Name                   Course    Address  Phone Number\n",
       "0    1     Suraj Tamang       Cybersecurity(BSC)  Kathmandu    9841445871\n",
       "1    2        Yoman Rai  Gaming Development(BSC)  Kathmandu    9841324582\n",
       "2    3  Manish Shrestha     Computer Science(CS)  Kathmandu    9782649201\n",
       "3    4      Rabin karki        Civil Engineering  Kathmandu    9826728193"
      ]
     },
     "execution_count": 2,
     "metadata": {},
     "output_type": "execute_result"
    }
   ],
   "source": [
    "import pandas as pd\n",
    "df = pd.read_csv('studentdata.csv')\n",
    "df"
   ]
  },
  {
   "cell_type": "code",
   "execution_count": null,
   "id": "db87330a",
   "metadata": {},
   "outputs": [],
   "source": []
  }
 ],
 "metadata": {
  "kernelspec": {
   "display_name": "Python 3 (ipykernel)",
   "language": "python",
   "name": "python3"
  },
  "language_info": {
   "codemirror_mode": {
    "name": "ipython",
    "version": 3
   },
   "file_extension": ".py",
   "mimetype": "text/x-python",
   "name": "python",
   "nbconvert_exporter": "python",
   "pygments_lexer": "ipython3",
   "version": "3.10.9"
  }
 },
 "nbformat": 4,
 "nbformat_minor": 5
}
