{
 "cells": [
  {
   "cell_type": "code",
   "execution_count": 3,
   "id": "ca9f34b4",
   "metadata": {},
   "outputs": [
    {
     "name": "stdout",
     "output_type": "stream",
     "text": [
      "Welcome to my Game\n",
      "Do you want to play a game? yes\n",
      "Okay! let's play.\n",
      "Enter Your Name = rab\n",
      "Who painted the Mona Lisa? karki dai\n",
      "Incorrect Answer\n",
      "Do you want to play again? no\n",
      "Quit\n",
      "Which is the tallest mountain in world? mt everest\n",
      "Incorrect Answer\n",
      "Do you want to play again? yes\n",
      "Okay:)\n",
      "What Does WHO stand for? world health organization\n",
      "Correct Answer\n",
      "Dear rab,Your Total score is 2\n"
     ]
    }
   ],
   "source": [
    "print(\"Welcome to my Game\")\n",
    "play = input(\"Do you want to play a game? \")\n",
    "play = play.lower()\n",
    "if play != \"yes\":\n",
    "    print(\"Quit\")\n",
    "else:\n",
    "    print(\"Okay! let's play.\")\n",
    "name = input(\"Enter Your Name = \")\n",
    "\n",
    "total = 0\n",
    "ans = input(\"Who painted the Mona Lisa? \")\n",
    "ans = ans.lower()\n",
    "if ans == \"leonardo devinci\":\n",
    "    print(\"Correct Answer :)\")\n",
    "    total = total + 1\n",
    "else:\n",
    "    print(\"Incorrect Answer\")\n",
    "again = input(\"Do you want to play again? \")\n",
    "again = again.lower()\n",
    "if again != \"yes\":\n",
    "    print(\"Quit\")\n",
    "else:\n",
    "    print(\"Okay:)\")\n",
    "ans_2 = input(\"Which is the tallest mountain in world? \")\n",
    "ans_2 = ans_2.lower()\n",
    "if ans_2 ==\"mount everest\":\n",
    "    print(\"Correct Answer\")\n",
    "else:\n",
    "    print(\"Incorrect Answer\")\n",
    "total = total + 1\n",
    "again_2 = input(\"Do you want to play again? \")\n",
    "again_2 = again_2.lower()\n",
    "if again_2 != \"yes\":\n",
    "    print(\"Quit\")\n",
    "else:\n",
    "    print(\"Okay:)\")\n",
    "ans_3 = input(\"What Does WHO stand for? \")\n",
    "ans_3 = ans_3.lower()\n",
    "if ans_3 ==\"world health organization\":\n",
    "    print(\"Correct Answer\")\n",
    "else:\n",
    "    print(\"Incorrect Answer\")\n",
    "total = total + 1\n",
    "print(f\"Dear {name},Your Total score is {total}\")"
   ]
  },
  {
   "cell_type": "code",
   "execution_count": 8,
   "id": "61422272",
   "metadata": {},
   "outputs": [
    {
     "name": "stdout",
     "output_type": "stream",
     "text": [
      "Enter your num = 9\n",
      "9 * 9 = 9\n",
      "9 * 18 = 18\n",
      "9 * 27 = 27\n",
      "9 * 36 = 36\n",
      "9 * 45 = 45\n",
      "9 * 54 = 54\n",
      "9 * 63 = 63\n",
      "9 * 72 = 72\n",
      "9 * 81 = 81\n",
      "9 * 90 = 90\n"
     ]
    }
   ],
   "source": [
    "a = int(input(\"Enter your num = \"))\n",
    "for i in range(1,11):\n",
    "        i =i*a\n",
    "        print(a,\"*\",i,\"=\",i)"
   ]
  },
  {
   "cell_type": "code",
   "execution_count": 4,
   "id": "292a280f",
   "metadata": {},
   "outputs": [
    {
     "name": "stdout",
     "output_type": "stream",
     "text": [
      "*****\n",
      "****\n",
      "***\n",
      "**\n",
      "*\n"
     ]
    }
   ],
   "source": [
    "for i in range(5,0,-1):\n",
    "    print(i*\"*\")"
   ]
  },
  {
   "cell_type": "code",
   "execution_count": null,
   "id": "9c8ed9f8",
   "metadata": {},
   "outputs": [],
   "source": [
    "fpr"
   ]
  }
 ],
 "metadata": {
  "kernelspec": {
   "display_name": "Python 3 (ipykernel)",
   "language": "python",
   "name": "python3"
  },
  "language_info": {
   "codemirror_mode": {
    "name": "ipython",
    "version": 3
   },
   "file_extension": ".py",
   "mimetype": "text/x-python",
   "name": "python",
   "nbconvert_exporter": "python",
   "pygments_lexer": "ipython3",
   "version": "3.10.9"
  }
 },
 "nbformat": 4,
 "nbformat_minor": 5
}
