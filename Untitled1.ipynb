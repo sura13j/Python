{
 "cells": [
  {
   "cell_type": "code",
   "execution_count": 1,
   "id": "7c571f09",
   "metadata": {},
   "outputs": [
    {
     "name": "stdout",
     "output_type": "stream",
     "text": [
      "False\n"
     ]
    }
   ],
   "source": [
    "a = 10\n",
    "b = 2\n",
    "print(a<b)"
   ]
  },
  {
   "cell_type": "code",
   "execution_count": 2,
   "id": "2bd9b820",
   "metadata": {},
   "outputs": [
    {
     "name": "stdout",
     "output_type": "stream",
     "text": [
      "True\n"
     ]
    }
   ],
   "source": [
    "a = 10\n",
    "b = 2\n",
    "print(a>b)"
   ]
  },
  {
   "cell_type": "code",
   "execution_count": 3,
   "id": "3fdd7339",
   "metadata": {},
   "outputs": [
    {
     "name": "stdout",
     "output_type": "stream",
     "text": [
      "False\n"
     ]
    }
   ],
   "source": [
    "a = 10\n",
    "b = 2\n",
    "print(a == b)"
   ]
  },
  {
   "cell_type": "code",
   "execution_count": 5,
   "id": "725b8482",
   "metadata": {},
   "outputs": [
    {
     "name": "stdout",
     "output_type": "stream",
     "text": [
      "True\n"
     ]
    }
   ],
   "source": [
    "a = 10\n",
    "b = 2\n",
    "print(a != b)"
   ]
  },
  {
   "cell_type": "code",
   "execution_count": 8,
   "id": "4075d77c",
   "metadata": {},
   "outputs": [
    {
     "name": "stdout",
     "output_type": "stream",
     "text": [
      "<class 'str'>\n"
     ]
    }
   ],
   "source": [
    "str(\"Do you want to play a Quiz gmae?\")\n",
    "print(str)"
   ]
  },
  {
   "cell_type": "code",
   "execution_count": 9,
   "id": "fe991058",
   "metadata": {},
   "outputs": [
    {
     "name": "stdout",
     "output_type": "stream",
     "text": [
      "100\n"
     ]
    }
   ],
   "source": [
    "a= 10\n",
    "b =10\n",
    "print(a*b)"
   ]
  },
  {
   "cell_type": "code",
   "execution_count": null,
   "id": "159288ec",
   "metadata": {},
   "outputs": [],
   "source": [
    "answer = input(\"Do you want to play a game?\")\n",
    "print(answer)"
   ]
  },
  {
   "cell_type": "code",
   "execution_count": null,
   "id": "04d6217d",
   "metadata": {},
   "outputs": [],
   "source": [
    "answer = input(\"Do you want to continue? (yes/no): \")\n",
    "if answer.lower() == \"yes\":\n",
    "    # do something if the user answers yes\n",
    "    print(\"Continuing...\")\n",
    "elif answer.lower() == \"no\":\n",
    "    # do something if the user answers no\n",
    "    print(\"Exiting...\")\n",
    "else:\n",
    "    # handle invalid input\n",
    "    print(\"Invalid input, please enter 'yes' or 'no'.\")"
   ]
  },
  {
   "cell_type": "code",
   "execution_count": 9,
   "id": "e56603f9",
   "metadata": {},
   "outputs": [
    {
     "name": "stdout",
     "output_type": "stream",
     "text": [
      "Enter your name = Suraj\n",
      "99\n",
      "88\n",
      "87\n",
      "99\n"
     ]
    },
    {
     "ename": "TypeError",
     "evalue": "can only concatenate str (not \"float\") to str",
     "output_type": "error",
     "traceback": [
      "\u001b[1;31m---------------------------------------------------------------------------\u001b[0m",
      "\u001b[1;31mTypeError\u001b[0m                                 Traceback (most recent call last)",
      "Cell \u001b[1;32mIn[9], line 10\u001b[0m\n\u001b[0;32m      7\u001b[0m total \u001b[38;5;241m=\u001b[39m eng \u001b[38;5;241m+\u001b[39m nep \u001b[38;5;241m+\u001b[39m math \u001b[38;5;241m+\u001b[39m sci\n\u001b[0;32m      8\u001b[0m per \u001b[38;5;241m=\u001b[39m total\u001b[38;5;241m/\u001b[39m\u001b[38;5;241m4\u001b[39m\n\u001b[1;32m---> 10\u001b[0m info \u001b[38;5;241m=\u001b[39m \u001b[38;5;124;43m\"\u001b[39;49m\u001b[38;5;124;43mHello mr \u001b[39;49m\u001b[38;5;124;43m\"\u001b[39;49m\u001b[38;5;241;43m+\u001b[39;49m\u001b[43m \u001b[49m\u001b[43mname\u001b[49m\u001b[43m \u001b[49m\u001b[38;5;241;43m+\u001b[39;49m\u001b[43m \u001b[49m\u001b[38;5;124;43m\"\u001b[39;49m\u001b[38;5;124;43myour total marks is \u001b[39;49m\u001b[38;5;124;43m\"\u001b[39;49m\u001b[43m \u001b[49m\u001b[38;5;241;43m+\u001b[39;49m\u001b[43m \u001b[49m\u001b[38;5;28;43mfloat\u001b[39;49m\u001b[43m(\u001b[49m\u001b[43mtotal\u001b[49m\u001b[43m)\u001b[49m \u001b[38;5;241m+\u001b[39m \u001b[38;5;124m\"\u001b[39m\u001b[38;5;124mYour all over percentage is \u001b[39m\u001b[38;5;124m\"\u001b[39m \u001b[38;5;241m+\u001b[39m per\n\u001b[0;32m     11\u001b[0m \u001b[38;5;28mprint\u001b[39m(info)\n",
      "\u001b[1;31mTypeError\u001b[0m: can only concatenate str (not \"float\") to str"
     ]
    }
   ],
   "source": [
    "name = input(\"Enter your name = \")\n",
    "eng = int(input(  ))\n",
    "nep =int(input(  ))\n",
    "math = int(input(  ))\n",
    "sci = int(input(  ))\n",
    "\n",
    "total = eng + nep + math + sci\n",
    "per = total/4\n",
    "print(\"hello\",name,\"your total marks is \",total,\"and per is =\",per)"
   ]
  },
  {
   "cell_type": "code",
   "execution_count": 13,
   "id": "e1e5d459",
   "metadata": {},
   "outputs": [
    {
     "ename": "SyntaxError",
     "evalue": "invalid syntax (683298114.py, line 1)",
     "output_type": "error",
     "traceback": [
      "\u001b[1;36m  Cell \u001b[1;32mIn[13], line 1\u001b[1;36m\u001b[0m\n\u001b[1;33m    game =\u001b[0m\n\u001b[1;37m          ^\u001b[0m\n\u001b[1;31mSyntaxError\u001b[0m\u001b[1;31m:\u001b[0m invalid syntax\n"
     ]
    }
   ],
   "source": [
    "game =\n",
    "   \" welcome to my game \"\n",
    "\n",
    "print(game)"
   ]
  },
  {
   "cell_type": "code",
   "execution_count": 14,
   "id": "c7ec2941",
   "metadata": {},
   "outputs": [
    {
     "name": "stdout",
     "output_type": "stream",
     "text": [
      "suraj tamang\n"
     ]
    }
   ],
   "source": [
    "a = \"suraj tamang\"\n",
    "print(a)"
   ]
  },
  {
   "cell_type": "code",
   "execution_count": 28,
   "id": "d4234dc8",
   "metadata": {},
   "outputs": [
    {
     "ename": "NameError",
     "evalue": "name 'yes' is not defined",
     "output_type": "error",
     "traceback": [
      "\u001b[1;31m---------------------------------------------------------------------------\u001b[0m",
      "\u001b[1;31mNameError\u001b[0m                                 Traceback (most recent call last)",
      "Cell \u001b[1;32mIn[28], line 3\u001b[0m\n\u001b[0;32m      1\u001b[0m \u001b[38;5;66;03m#\"Welcome to my Quiz game\"\u001b[39;00m\n\u001b[0;32m      2\u001b[0m playing \u001b[38;5;241m=\u001b[39m \u001b[38;5;28mstr\u001b[39m(\u001b[38;5;124m\"\u001b[39m\u001b[38;5;124mDo you want to play game?\u001b[39m\u001b[38;5;124m\"\u001b[39m \u001b[38;5;124m\"\u001b[39m\u001b[38;5;124m(yes/no)\u001b[39m\u001b[38;5;124m\"\u001b[39m)\n\u001b[1;32m----> 3\u001b[0m \u001b[38;5;28;01mif\u001b[39;00m (\u001b[43myes\u001b[49m) :\n\u001b[0;32m      4\u001b[0m     result \u001b[38;5;241m=\u001b[39m \u001b[38;5;124m\"\u001b[39m\u001b[38;5;124mwhat is CPU stand for?\u001b[39m\u001b[38;5;124m\"\u001b[39m\n\u001b[0;32m      5\u001b[0m \u001b[38;5;28;01melse\u001b[39;00m:\n",
      "\u001b[1;31mNameError\u001b[0m: name 'yes' is not defined"
     ]
    }
   ],
   "source": [
    "#\"Welcome to my Quiz game\"\n",
    "playing = str(\"Do you want to play game?\" \"(yes/no)\")\n",
    "if (yes) :\n",
    "    result = \"what is CPU stand for?\"\n",
    "else:\n",
    " result = quit()\n",
    "print(playing)"
   ]
  },
  {
   "cell_type": "code",
   "execution_count": 2,
   "id": "2bfbcfc9",
   "metadata": {},
   "outputs": [
    {
     "ename": "SyntaxError",
     "evalue": "invalid syntax (1426589737.py, line 11)",
     "output_type": "error",
     "traceback": [
      "\u001b[1;36m  Cell \u001b[1;32mIn[2], line 11\u001b[1;36m\u001b[0m\n\u001b[1;33m    else:\u001b[0m\n\u001b[1;37m    ^\u001b[0m\n\u001b[1;31mSyntaxError\u001b[0m\u001b[1;31m:\u001b[0m invalid syntax\n"
     ]
    }
   ],
   "source": [
    "print(\"Hello! Welcome to quiz game\")\n",
    "fuck = input(\"Do you want to play game?\")\n",
    "if fuck != \"no\":\n",
    "    quit()\n",
    "    print(\"Okay! lets play:)\")\n",
    "score = 0 \n",
    "ans = input(\"What does CPU stand for ? \")\n",
    "if ans == \"central processing unit\":\n",
    "    print(\"Congrats MF:) \")\n",
    "score += 1\n",
    "else:\n",
    "    print(\"Try next time nigga!\")\n",
    "\n",
    "again = input(\"Do you want to try again? \")\n",
    "if again != \"no\"\n",
    "    quit()   \n",
    "ans = input(\"What does GPU stand for ? \")\n",
    "if ans == \"graphics processing unit\":\n",
    "    print(\"Congrats MF:) \")\n",
    "score += 1\n",
    "else:\n",
    "    print(\"Try next time nigga!\"\n",
    "    print(\"Your total score is \"+ str(score).)"
   ]
  },
  {
   "cell_type": "code",
   "execution_count": null,
   "id": "c75b8902",
   "metadata": {},
   "outputs": [],
   "source": [
    "n = int(input(\"enter number = \"))\n",
    "if n >= 10:\n",
    "    print(\"this is True\")\n",
    "else:\n",
    "    print(\"this is false\")"
   ]
  },
  {
   "cell_type": "code",
   "execution_count": null,
   "id": "36406a62",
   "metadata": {},
   "outputs": [],
   "source": [
    "n = int(input(\"enter number = \"))\n",
    "if n >= 10:\n",
    "    print(\"this is True\")\n",
    "else:\n",
    "    print(\"this is false\")"
   ]
  },
  {
   "cell_type": "code",
   "execution_count": 1,
   "id": "e73e2cf7",
   "metadata": {},
   "outputs": [
    {
     "name": "stdout",
     "output_type": "stream",
     "text": [
      "Enter your name = Suraj\n",
      "98\n",
      "88\n",
      "89\n",
      "92\n",
      "hello Suraj your total marks is  367 and per is = 91.75\n",
      "Enter your name = nabin\n",
      "99\n",
      "98\n",
      "89\n",
      "98\n",
      "hello nabin your total marks is  384 and per is = 96.0\n"
     ]
    }
   ],
   "source": [
    "for i in range(2):\n",
    "    name = input(\"Enter your name = \")\n",
    "    eng = int(input(  ))\n",
    "    nep =int(input(  ))\n",
    "    math = int(input(  ))\n",
    "    sci = int(input(  ))\n",
    "\n",
    "    total = eng + nep + math + sci\n",
    "    per = total/4\n",
    "    print(\"hello\",name,\"your total marks is \",total,\"and per is =\",per)"
   ]
  },
  {
   "cell_type": "code",
   "execution_count": 1,
   "id": "70cd52bc",
   "metadata": {},
   "outputs": [
    {
     "name": "stdout",
     "output_type": "stream",
     "text": [
      "Enter number = 3\n",
      "Enter your name = Suraj tamang\n",
      "Enter your number = 9841445871\n",
      "Suraj tamang-9841445871\n",
      "\n",
      "Enter your name = Lal bahadur tamang\n",
      "Enter your number = 9861116213\n",
      "Lal bahadur tamang-9861116213\n",
      "\n",
      "Enter your name = Pabitra Sunuwar \n",
      "Enter your number = 9841651834\n",
      "Pabitra Sunuwar -9841651834\n",
      "\n"
     ]
    }
   ],
   "source": [
    "info = str()\n",
    "n = int(input(\"Enter number = \"))\n",
    "for i in range(n):\n",
    "    name = input(\"Enter your name = \")\n",
    "    phone  = int(input(\"Enter your number = \"))\n",
    "    x = name + \"-\" + str(phone) + \"\\n\"\n",
    "    print(x)"
   ]
  },
  {
   "cell_type": "code",
   "execution_count": null,
   "id": "d885a597",
   "metadata": {},
   "outputs": [],
   "source": []
  }
 ],
 "metadata": {
  "kernelspec": {
   "display_name": "Python 3 (ipykernel)",
   "language": "python",
   "name": "python3"
  },
  "language_info": {
   "codemirror_mode": {
    "name": "ipython",
    "version": 3
   },
   "file_extension": ".py",
   "mimetype": "text/x-python",
   "name": "python",
   "nbconvert_exporter": "python",
   "pygments_lexer": "ipython3",
   "version": "3.10.9"
  }
 },
 "nbformat": 4,
 "nbformat_minor": 5
}
