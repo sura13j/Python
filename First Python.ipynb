{
 "cells": [
  {
   "cell_type": "code",
   "execution_count": null,
   "id": "12794504",
   "metadata": {},
   "outputs": [],
   "source": [
    "print(\"Welcome to my Quiz game\")\n",
    "playing =input(\"Do you want to play game\")\n",
    "    if playing !=\"Yes\":\n",
    "\n",
    "        print(\"Let's play :\")"
   ]
  },
  {
   "cell_type": "code",
   "execution_count": 6,
   "id": "f4c0a089",
   "metadata": {},
   "outputs": [
    {
     "name": "stdout",
     "output_type": "stream",
     "text": [
      "5 6 -1 8\n"
     ]
    }
   ],
   "source": [
    "a = 2\n",
    "b = 3\n",
    "print(a + b,a * b,a - b,a**b)"
   ]
  },
  {
   "cell_type": "code",
   "execution_count": 8,
   "id": "e1021763",
   "metadata": {},
   "outputs": [
    {
     "name": "stdout",
     "output_type": "stream",
     "text": [
      "suraj tamangsuraj tamangsuraj tamangsuraj tamangsuraj tamangsuraj tamangsuraj tamangsuraj tamangsuraj tamangsuraj tamang\n"
     ]
    }
   ],
   "source": [
    "a = \"suraj tamang\"\n",
    "b = 10\n",
    "print(a * b)\n"
   ]
  },
  {
   "cell_type": "code",
   "execution_count": 4,
   "id": "b769cf61",
   "metadata": {},
   "outputs": [
    {
     "name": "stdout",
     "output_type": "stream",
     "text": [
      "6\n",
      "2\n",
      "8\n",
      "2.0\n"
     ]
    }
   ],
   "source": [
    "a = 4\n",
    "b = 2\n",
    "\n",
    "sum = a + b \n",
    "diff = a - b\n",
    "mul = a * b\n",
    "div = a / b\n",
    "\n",
    "print( sum);\n",
    "print( diff);\n",
    "print( mul);\n",
    "print( div);\n"
   ]
  },
  {
   "cell_type": "code",
   "execution_count": 1,
   "id": "76f25644",
   "metadata": {},
   "outputs": [],
   "source": [
    "a = \"Suraj tamang\"\n",
    "b = 15\n"
   ]
  },
  {
   "cell_type": "code",
   "execution_count": 2,
   "id": "03667b2f",
   "metadata": {},
   "outputs": [
    {
     "name": "stdout",
     "output_type": "stream",
     "text": [
      "<class 'int'>\n",
      "<class 'float'>\n"
     ]
    }
   ],
   "source": [
    "a = 10\n",
    "b = 10.5\n",
    "print(type(a))\n",
    "print(type(b))"
   ]
  },
  {
   "cell_type": "code",
   "execution_count": 6,
   "id": "ee2c5856",
   "metadata": {},
   "outputs": [
    {
     "ename": "SyntaxError",
     "evalue": "invalid syntax (207504187.py, line 1)",
     "output_type": "error",
     "traceback": [
      "\u001b[1;36m  Cell \u001b[1;32mIn[6], line 1\u001b[1;36m\u001b[0m\n\u001b[1;33m    let a=10\u001b[0m\n\u001b[1;37m        ^\u001b[0m\n\u001b[1;31mSyntaxError\u001b[0m\u001b[1;31m:\u001b[0m invalid syntax\n"
     ]
    }
   ],
   "source": [
    "let a=10\n",
    "b=float(a)\n",
    "print(b)"
   ]
  },
  {
   "cell_type": "code",
   "execution_count": 7,
   "id": "3093a2ca",
   "metadata": {},
   "outputs": [
    {
     "name": "stdout",
     "output_type": "stream",
     "text": [
      "10.0\n"
     ]
    }
   ],
   "source": [
    "a = 10\n",
    "b = float(a)\n",
    "print(b)"
   ]
  },
  {
   "cell_type": "code",
   "execution_count": 12,
   "id": "771cd801",
   "metadata": {},
   "outputs": [
    {
     "name": "stdout",
     "output_type": "stream",
     "text": [
      "10\n"
     ]
    }
   ],
   "source": [
    "a = 10.5\n",
    "b = str(10)\n",
    "print(b)"
   ]
  },
  {
   "cell_type": "code",
   "execution_count": 13,
   "id": "159ee07c",
   "metadata": {},
   "outputs": [
    {
     "ename": "SyntaxError",
     "evalue": "invalid syntax (3646509530.py, line 2)",
     "output_type": "error",
     "traceback": [
      "\u001b[1;36m  Cell \u001b[1;32mIn[13], line 2\u001b[1;36m\u001b[0m\n\u001b[1;33m    print(a//)\u001b[0m\n\u001b[1;37m             ^\u001b[0m\n\u001b[1;31mSyntaxError\u001b[0m\u001b[1;31m:\u001b[0m invalid syntax\n"
     ]
    }
   ],
   "source": [
    "a = 64\n",
    "print(a//)"
   ]
  },
  {
   "cell_type": "code",
   "execution_count": 17,
   "id": "9551abc4",
   "metadata": {},
   "outputs": [
    {
     "name": "stdout",
     "output_type": "stream",
     "text": [
      "2\n"
     ]
    }
   ],
   "source": [
    "a = 100\n",
    "b = 7\n",
    "sum = a % b \n",
    "print(sum)"
   ]
  },
  {
   "cell_type": "code",
   "execution_count": 48,
   "id": "e03b1e68",
   "metadata": {},
   "outputs": [
    {
     "name": "stdout",
     "output_type": "stream",
     "text": [
      "suraj tamang\n",
      " suraj tamang\n",
      " suraj tamang\n",
      " suraj tamang\n",
      " suraj tamang\n",
      " suraj tamang\n",
      " suraj tamang\n",
      " suraj tamang\n",
      " suraj tamang\n",
      " suraj tamang\n",
      " \n"
     ]
    }
   ],
   "source": [
    " a = \"suraj \"\n",
    "b  = \"tamang\\n \"\n",
    "print((a+b)*10)"
   ]
  },
  {
   "cell_type": "code",
   "execution_count": 42,
   "id": "cb86bba6",
   "metadata": {},
   "outputs": [
    {
     "name": "stdout",
     "output_type": "stream",
     "text": [
      "1\n"
     ]
    }
   ],
   "source": [
    "a = True\n",
    "b = False\n",
    "c = a+b\n",
    "print(c)"
   ]
  },
  {
   "cell_type": "code",
   "execution_count": 47,
   "id": "24c85055",
   "metadata": {},
   "outputs": [
    {
     "name": "stdout",
     "output_type": "stream",
     "text": [
      "your name =suraj\n",
      "Welcome name =, name \n"
     ]
    }
   ],
   "source": [
    "name = input(\"your name =\")\n",
    "print(\"Welcome name =, name \")"
   ]
  },
  {
   "cell_type": "code",
   "execution_count": 49,
   "id": "c7ae0f20",
   "metadata": {},
   "outputs": [
    {
     "name": "stdout",
     "output_type": "stream",
     "text": [
      "your nameSuraj\n",
      "welcome, name\n"
     ]
    }
   ],
   "source": [
    "name = input(\"your name\")\n",
    "print(\"welcome, name\")"
   ]
  },
  {
   "cell_type": "code",
   "execution_count": 8,
   "id": "d688f79b",
   "metadata": {},
   "outputs": [
    {
     "name": "stdout",
     "output_type": "stream",
     "text": [
      "your name suraj\n",
      "welcome your mane=,  name \n"
     ]
    }
   ],
   "source": [
    "name = input(\"your name \")\n",
    "print(\"welcome your mane,  name \")"
   ]
  },
  {
   "cell_type": "code",
   "execution_count": null,
   "id": "d687942e",
   "metadata": {},
   "outputs": [],
   "source": [
    "name = input(\"your name\")\n",
    "print(\"welcome, name\")"
   ]
  },
  {
   "cell_type": "code",
   "execution_count": 19,
   "id": "212dfe7c",
   "metadata": {},
   "outputs": [
    {
     "name": "stdout",
     "output_type": "stream",
     "text": [
      "Enter any numbers = 10\n",
      " Enter Name = Suraj tamang\n",
      "Suraj tamangSuraj tamangSuraj tamangSuraj tamangSuraj tamangSuraj tamangSuraj tamangSuraj tamangSuraj tamangSuraj tamang\n"
     ]
    }
   ],
   "source": [
    "a = int(input(\"Enter any numbers = \"))\n",
    "b = str(input(\" Enter Name = \"))\n",
    "print(a*b)"
   ]
  },
  {
   "cell_type": "code",
   "execution_count": 3,
   "id": "4e4f3e4b",
   "metadata": {},
   "outputs": [
    {
     "name": "stdout",
     "output_type": "stream",
     "text": [
      "Enter your name = Suraj Tamang\n",
      "English marks = 88\n",
      "Nepali marks = 78\n",
      "Science marks = 89\n",
      "Math marks = 90\n",
      "Social marks = 67\n",
      "Computer marks = 99\n",
      "Account marks = 89\n",
      "Hello Mr Suraj Tamang Your total marks is  600 Your all over per is  85.71428571428571 Congratulation, you have Passed the exam\n"
     ]
    }
   ],
   "source": [
    "Name= input(\"Enter your name = \")\n",
    "English = int(input(\"English marks = \"))\n",
    "Nepali = int(input(\"Nepali marks = \"))\n",
    "Science = int(input(\"Science marks = \"))\n",
    "Math= int(input(\"Math marks = \"))\n",
    "Social = int(input(\"Social marks = \"))\n",
    "Computer = int(input(\"Computer marks = \"))\n",
    "Account = int(input(\"Account marks = \"))\n",
    "\n",
    "Total = English + Nepali + Science + Math + Social + Computer + Account\n",
    "Per = Total/7\n",
    "if Per>40:\n",
    "    result = \"Congratulation, you have Passed the exam\"\n",
    "else:\n",
    "    result = \"I'm Sorry, you have Failed the exam\"\n",
    "\n",
    "\n",
    "print(\"Hello Mr\",Name,\"Your total marks is \",Total,\"Your all over per is \",Per,result)\n"
   ]
  },
  {
   "cell_type": "code",
   "execution_count": 36,
   "id": "37c35f1a",
   "metadata": {},
   "outputs": [
    {
     "ename": "IndentationError",
     "evalue": "unindent does not match any outer indentation level (<tokenize>, line 4)",
     "output_type": "error",
     "traceback": [
      "\u001b[1;36m  File \u001b[1;32m<tokenize>:4\u001b[1;36m\u001b[0m\n\u001b[1;33m    print(result)\u001b[0m\n\u001b[1;37m    ^\u001b[0m\n\u001b[1;31mIndentationError\u001b[0m\u001b[1;31m:\u001b[0m unindent does not match any outer indentation level\n"
     ]
    }
   ],
   "source": [
    "per = 50%\n",
    "result = if (per>40 = Pass)\n",
    "         else (per<40 = Fail)\n",
    "    print(result)\n",
    "    \n"
   ]
  },
  {
   "cell_type": "code",
   "execution_count": 64,
   "id": "6558e48e",
   "metadata": {},
   "outputs": [
    {
     "name": "stdout",
     "output_type": "stream",
     "text": [
      "Your number = 78\n",
      "Your number = 89\n"
     ]
    }
   ],
   "source": [
    "a = int(input(\"Your number = \"))\n",
    "b = int(input(\"Your number = \")) \n",
    "if a < b:\n",
    "        result =\"I'm sorrry you have been fail.\"\n",
    "else:\n",
    "        result =\"Congratulation! You Have been Pass.\"\n",
    "        print(result)"
   ]
  },
  {
   "cell_type": "code",
   "execution_count": 91,
   "id": "014869a3",
   "metadata": {},
   "outputs": [
    {
     "name": "stdout",
     "output_type": "stream",
     "text": [
      "Enter your number = 67\n",
      "Enter your number = 87\n",
      "fail\n"
     ]
    }
   ],
   "source": [
    "a = int(input(\"Enter your number = \"))\n",
    "b = int(input(\"Enter your number = \"))\n",
    "\n",
    "if a<b:\n",
    "       result = \"fail\"\n",
    "else:\n",
    "     result = \"pass\"\n",
    "print(result)"
   ]
  },
  {
   "cell_type": "code",
   "execution_count": null,
   "id": "26d65a46",
   "metadata": {},
   "outputs": [],
   "source": [
    "a = 10 \n",
    "b = 12\n",
    "print(\"a + b\")"
   ]
  },
  {
   "cell_type": "code",
   "execution_count": null,
   "id": "5b2201c2",
   "metadata": {},
   "outputs": [],
   "source": [
    "a = 10\n",
    "b = 10\n",
    "c = a + b\n",
    "print(\"the value of c is\",c)"
   ]
  },
  {
   "cell_type": "code",
   "execution_count": 3,
   "id": "515ff036",
   "metadata": {},
   "outputs": [
    {
     "name": "stdout",
     "output_type": "stream",
     "text": [
      "the value of c is 110\n"
     ]
    }
   ],
   "source": [
    "a = 10\n",
    "b = 11\n",
    "c = a*b\n",
    "print(\"the value of c is \"+ str(c))"
   ]
  },
  {
   "cell_type": "code",
   "execution_count": 6,
   "id": "4aa4136b",
   "metadata": {},
   "outputs": [
    {
     "name": "stdout",
     "output_type": "stream",
     "text": [
      "Enter your name = Suraj\n",
      "enter your age = 44\n",
      "enter your address = ldhgoihgag\n",
      "Enter your hobby = dhgignf\n",
      "Hello, My name is Suraj my age is 44 My address is ldhgoihgag My hobby is to play dhgignf\n"
     ]
    }
   ],
   "source": [
    "name = input(\"Enter your name = \")\n",
    "age = input(\"enter your age = \")\n",
    "Add = input(\"enter your address = \")\n",
    "hob = input(\"Enter your hobby = \")\n",
    "\n",
    "info = \"Hello, My name is \" + name + \" my age is \"+ str(age) + \" My address is \"+ Add + \" My hobby is to play \"+ hob\n",
    "print(info)"
   ]
  },
  {
   "cell_type": "code",
   "execution_count": null,
   "id": "e0c6b6a4",
   "metadata": {},
   "outputs": [],
   "source": [
    "print(Welcome to my game)\n",
    "play = input(\"Do you want to play game\" \"Yes/NO\")"
   ]
  },
  {
   "cell_type": "code",
   "execution_count": 4,
   "id": "509d9b93",
   "metadata": {},
   "outputs": [
    {
     "name": "stdout",
     "output_type": "stream",
     "text": [
      "Enter your name = ljdfhs\n",
      "Enter your value = 2\n",
      "Product name = jdfhudfn\n",
      "Enter price = 20\n",
      "Enter quantity2\n",
      "40\n",
      "Product name = dklfnsn\n",
      "Enter price = 20\n",
      "Enter quantity4\n",
      "80\n"
     ]
    }
   ],
   "source": [
    "name = input(\"Enter your name = \")\n",
    "n = int(input(\"Enter your value = \"))\n",
    "for a in range(n):\n",
    "    grand = 0\n",
    "    product = input(\"Product name = \")\n",
    "    price = int(input(\"Enter price = \"))\n",
    "    quantity = int(input(\"Enter quantity\"))\n",
    "    total = price*quantity\n",
    "    print(total)\n",
    "    grand = total*n"
   ]
  },
  {
   "cell_type": "code",
   "execution_count": 7,
   "id": "5aa0c004",
   "metadata": {},
   "outputs": [
    {
     "name": "stdout",
     "output_type": "stream",
     "text": [
      "Enter your name = Suraj tamang\\\n",
      "Enter your value = 3\n",
      "Product name = apple\n",
      "Enter price = 300\n",
      "Enter quantity = 2\n",
      "600\n",
      "Product name = banana\n",
      "Enter price = 200\n",
      "Enter quantity = 2\n",
      "400\n",
      "Product name = orange\n",
      "Enter price = 300\n",
      "Enter quantity = 3\n",
      "900\n",
      "1900\n",
      "Mr Suraj tamang\\. Your total amount is 1900.\n"
     ]
    }
   ],
   "source": [
    "grand_total = 0\n",
    "name = input(\"Enter your name = \")\n",
    "n = int(input(\"Enter your value = \"))\n",
    "for a in range(n):\n",
    "    product = input(\"Product name = \")\n",
    "    price = int(input(\"Enter price = \"))\n",
    "    quantity = int(input(\"Enter quantity = \"))\n",
    "    total = price*quantity\n",
    "    grand_total = grand_total + total\n",
    "    print(total)\n",
    "info = \"Mr\"+\" \" + name +\".\"+\" \"+ \"Your total amount is\" +\" \"+ str(grand_total)+\".\"\n",
    "print(grand_total)\n",
    "print(info)"
   ]
  },
  {
   "cell_type": "code",
   "execution_count": 14,
   "id": "46878899",
   "metadata": {},
   "outputs": [
    {
     "name": "stdout",
     "output_type": "stream",
     "text": [
      "h-e-l-l-o- -M-F-"
     ]
    }
   ],
   "source": [
    "a = \"hello MF\"\n",
    "for i in a:\n",
    "    print(i,end = \"-\")"
   ]
  },
  {
   "cell_type": "code",
   "execution_count": 21,
   "id": "60a77990",
   "metadata": {},
   "outputs": [
    {
     "name": "stdout",
     "output_type": "stream",
     "text": [
      "Enter your numbers = 3\n",
      "Enter your name = Suraj Tamang\n",
      "Enter your address = Narephate,Kathmandu\n",
      "Enter your Age = 20\n",
      "Enter your Job = Student\n",
      "Hi!:),My name is Suraj Tamang.I am currently living in Narephate,Kathmandu.I am  20 years old and i am an Student.\n",
      "Enter your name = Yoman Rai\n",
      "Enter your address = Narephate,Kathmandu\n",
      "Enter your Age = 21\n",
      "Enter your Job = Student\n",
      "Hi!:),My name is Yoman Rai.I am currently living in Narephate,Kathmandu.I am  21 years old and i am an Student.\n",
      "Enter your name = Rabin Karki\n",
      "Enter your address = Jadibuti,Kathmandu\n",
      "Enter your Age = 21\n",
      "Enter your Job = Student\n",
      "Hi!:),My name is Rabin Karki.I am currently living in Jadibuti,Kathmandu.I am  21 years old and i am an Student.\n"
     ]
    }
   ],
   "source": [
    "n = int(input(\"Enter your numbers = \"))\n",
    "for i in range(n):\n",
    "    name = input(\"Enter your name = \")\n",
    "    add = input(\"Enter your address = \")\n",
    "    age = int(input(\"Enter your Age = \"))\n",
    "    job = input(\"Enter your Job = \")\n",
    "    info = \"Hi!:),My name is\"+\" \"+name+\".\"+\"I am currently living in\"+\" \"+add+\".\"+\"I am \"+\" \"+str(age)+\" \"+\"years old\"+\" \"+\"and i am an \"+job+\".\"\n",
    "    print(info)"
   ]
  },
  {
   "cell_type": "code",
   "execution_count": null,
   "id": "8d1011c5",
   "metadata": {},
   "outputs": [],
   "source": []
  },
  {
   "cell_type": "code",
   "execution_count": null,
   "id": "cb9e1ce8",
   "metadata": {},
   "outputs": [],
   "source": []
  }
 ],
 "metadata": {
  "kernelspec": {
   "display_name": "Python 3 (ipykernel)",
   "language": "python",
   "name": "python3"
  },
  "language_info": {
   "codemirror_mode": {
    "name": "ipython",
    "version": 3
   },
   "file_extension": ".py",
   "mimetype": "text/x-python",
   "name": "python",
   "nbconvert_exporter": "python",
   "pygments_lexer": "ipython3",
   "version": "3.10.9"
  }
 },
 "nbformat": 4,
 "nbformat_minor": 5
}
