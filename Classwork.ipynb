{
 "cells": [
  {
   "cell_type": "code",
   "execution_count": 3,
   "id": "7ef8c909",
   "metadata": {},
   "outputs": [],
   "source": [
    "# WAP to make a billing system in list inside list\n",
    "# WAP to create a matrix taking row,column and values from users\n",
    "# WAP to create tuple inside the table and convert it into list inside list\n",
    "# WAP to create dict inside list and CRUD operation\n",
    "# WAP to create dict inside dict and CRUD operation\n"
   ]
  },
  {
   "cell_type": "code",
   "execution_count": 9,
   "id": "4841484d",
   "metadata": {},
   "outputs": [
    {
     "name": "stdout",
     "output_type": "stream",
     "text": [
      "Enter value of n = 3\n",
      "Enter the product = Apple\n",
      "Enter the price = 200\n",
      "Enter the Quantity = 6\n",
      "Enter the product = Banana\n",
      "Enter the price = 100\n",
      "Enter the Quantity = 4\n",
      "Enter the product = Orange\n",
      "Enter the price = 300\n",
      "Enter the Quantity = 2\n",
      "[['Apple', 200, 6, 1200], ['Banana', 100, 4, 400], ['Orange', 300, 2, 600]]\n",
      "The total amount of bill is 2200.\n"
     ]
    }
   ],
   "source": [
    "# LIST BILL\n",
    "bill = []\n",
    "grand_total = 0\n",
    "n = int(input(\"Enter value of n = \"))\n",
    "for i in range(n):\n",
    "    product = input(\"Enter the product = \")\n",
    "    price = int(input(\"Enter the price = \"))\n",
    "    quantity = int(input(\"Enter the Quantity = \"))\n",
    "    total = price*quantity\n",
    "    grand_total = grand_total + total\n",
    "    data = [product,price,quantity,total]\n",
    "    bill.append(data)\n",
    "print(bill)\n",
    "print(f\"The total amount of bill is {grand_total}.\")    \n",
    "                \n",
    "    "
   ]
  },
  {
   "cell_type": "code",
   "execution_count": 1,
   "id": "0ba14286",
   "metadata": {},
   "outputs": [
    {
     "name": "stdout",
     "output_type": "stream",
     "text": [
      "Enter value of n = 2\n",
      "Enter the product = apple\n",
      "Enter the price = 300\n",
      "Enter the Quantity = 2\n",
      "Enter the product = banana\n",
      "Enter the price = 100\n",
      "Enter the Quantity = 4\n",
      "(('apple', 300, 2, 600), ('banana', 100, 4, 400))\n",
      "The total amount of bill is 1000.\n"
     ]
    }
   ],
   "source": [
    "# tuple into tuple\n",
    "bill = ()\n",
    "grand_total = 0\n",
    "n = int(input(\"Enter value of n = \"))\n",
    "for i in range(n):\n",
    "    product = input(\"Enter the product = \")\n",
    "    price = int(input(\"Enter the price = \"))\n",
    "    quantity = int(input(\"Enter the Quantity = \"))\n",
    "    total = price*quantity\n",
    "    grand_total = grand_total + total\n",
    "    data = (product,price,quantity,total)\n",
    "    bill = bill + (data,) #tuple inside tuple( ,)is imp\n",
    "print(bill)\n",
    "print(f\"The total amount of bill is {grand_total}.\")    \n",
    "                "
   ]
  },
  {
   "cell_type": "code",
   "execution_count": 6,
   "id": "8331c75c",
   "metadata": {},
   "outputs": [
    {
     "name": "stdout",
     "output_type": "stream",
     "text": [
      "[['apple', 300, 2, 600], ['banana', 100, 4, 400]]\n"
     ]
    }
   ],
   "source": [
    "l = [] \n",
    "a = (('apple', 300, 2, 600), ('banana', 100, 4, 400))\n",
    "for i in a:\n",
    "    l.append(list(i))\n",
    "print(l)"
   ]
  },
  {
   "cell_type": "code",
   "execution_count": null,
   "id": "086db461",
   "metadata": {},
   "outputs": [],
   "source": []
  }
 ],
 "metadata": {
  "kernelspec": {
   "display_name": "Python 3 (ipykernel)",
   "language": "python",
   "name": "python3"
  },
  "language_info": {
   "codemirror_mode": {
    "name": "ipython",
    "version": 3
   },
   "file_extension": ".py",
   "mimetype": "text/x-python",
   "name": "python",
   "nbconvert_exporter": "python",
   "pygments_lexer": "ipython3",
   "version": "3.10.9"
  }
 },
 "nbformat": 4,
 "nbformat_minor": 5
}
