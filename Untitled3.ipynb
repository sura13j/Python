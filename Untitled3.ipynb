{
 "cells": [
  {
   "cell_type": "code",
   "execution_count": 1,
   "id": "7ba07aa9",
   "metadata": {},
   "outputs": [
    {
     "name": "stdout",
     "output_type": "stream",
     "text": [
      "hello world\n"
     ]
    }
   ],
   "source": [
    "print(\"hello world\")"
   ]
  },
  {
   "cell_type": "code",
   "execution_count": 1,
   "id": "34ee6d35",
   "metadata": {},
   "outputs": [
    {
     "name": "stdout",
     "output_type": "stream",
     "text": [
      "21\n"
     ]
    }
   ],
   "source": [
    "a = 10\n",
    "b = 11\n",
    "\n",
    "print( a+b)"
   ]
  },
  {
   "cell_type": "code",
   "execution_count": 2,
   "id": "e11089b2",
   "metadata": {},
   "outputs": [
    {
     "name": "stdout",
     "output_type": "stream",
     "text": [
      "Hello World\n",
      "Hello World\n",
      "Hello World\n",
      "Hello World\n",
      "Hello World\n",
      "Hello World\n",
      "Hello World\n",
      "Hello World\n",
      "Hello World\n",
      "Hello World\n",
      "\n"
     ]
    }
   ],
   "source": [
    "a = \"Hello \"\n",
    "b = \"World\\n\"\n",
    "print((a+b)*10)"
   ]
  },
  {
   "cell_type": "code",
   "execution_count": 8,
   "id": "833e9c25",
   "metadata": {},
   "outputs": [
    {
     "name": "stdout",
     "output_type": "stream",
     "text": [
      "Enter your namesjsjsjs\n",
      "Enter your marks = 99\n",
      "Enter your marks = 99\n",
      "Enter your marks = 99\n",
      "Enter your marks = 99\n",
      "Enter your marks = 99\n",
      "Enter your marks = 99\n",
      "Enter your marks = 9\n"
     ]
    }
   ],
   "source": [
    "name = str(input(\"Enter your name\"))\n",
    "Eng = int(input(\"Enter your marks = \"))\n",
    "nep = int(input(\"Enter your marks = \"))\n",
    "sci = int(input(\"Enter your marks = \"))\n",
    "soc = int(input(\"Enter your marks = \"))\n",
    "comp = int(input(\"Enter your marks = \"))\n",
    "eph = int(input(\"Enter your marks = \"))\n",
    "acc = int(input(\"Enter your marks = \"))\n",
    "\n",
    "total = Eng + nep + sci + soc + comp + eph + acc\n",
    "percentage = total/7\n",
    "if percentage>40:\n",
    "    result = \"Congratulation, you have Passed the exam\"\n",
    "else:\n",
    "    result = \"I'm Sorry, you have Failed the exam\"\n",
    "    print(\"Hello MR\",name,\"Your total number is\",total,\"Your Per is\",percentage,result)"
   ]
  },
  {
   "cell_type": "code",
   "execution_count": 2,
   "id": "e930ed48",
   "metadata": {},
   "outputs": [
    {
     "name": "stdout",
     "output_type": "stream",
     "text": [
      "['Orange', 'Ant', 'beer']\n"
     ]
    }
   ],
   "source": [
    "a = [\"Apple\",\"Banana\",\"Orange\",\"Ant\",\"beer\"]\n",
    "del a[0:2]\n",
    "print(a)"
   ]
  },
  {
   "cell_type": "code",
   "execution_count": 3,
   "id": "17487809",
   "metadata": {},
   "outputs": [
    {
     "name": "stdout",
     "output_type": "stream",
     "text": [
      "['Apple', 'Orange', 'Ant', 'beer']\n"
     ]
    }
   ],
   "source": [
    "a = [\"Apple\",\"Banana\",\"Orange\",\"Ant\",\"beer\"]\n",
    "a.remove(\"Banana\")\n",
    "print(a)"
   ]
  },
  {
   "cell_type": "code",
   "execution_count": 9,
   "id": "f9b4dbd5",
   "metadata": {},
   "outputs": [
    {
     "name": "stdout",
     "output_type": "stream",
     "text": [
      "['Apple', 'Banana', 'Orange', 'Ant', 'beer', 'Apple', 'Apple']\n",
      "['Banana', 'Orange', 'Ant', 'beer', 'Apple', 'Apple']\n",
      "['Banana', 'Orange', 'Ant', 'beer', 'Apple']\n",
      "['Banana', 'Orange', 'Ant', 'beer']\n"
     ]
    }
   ],
   "source": [
    "a = [\"Apple\",\"Banana\",\"Orange\",\"Ant\",\"beer\",\"Apple\",\"Apple\"]\n",
    "n = a.count(\"Apple\")\n",
    "print(a)\n",
    "for i in range(n):\n",
    "    a.remove(\"Apple\")\n",
    "    print(a)"
   ]
  },
  {
   "cell_type": "code",
   "execution_count": 1,
   "id": "7d07acd2",
   "metadata": {},
   "outputs": [],
   "source": [
    "# tuple\n",
    "# Indexing\n",
    "# Orderd\n",
    "# Multiple and duplicate data\n",
    "# Imutable\n"
   ]
  },
  {
   "cell_type": "code",
   "execution_count": 5,
   "id": "5ce04761",
   "metadata": {},
   "outputs": [
    {
     "name": "stdout",
     "output_type": "stream",
     "text": [
      "('Apple', 'Cat', 'Banana', 'Fish', 'Nuts')\n",
      "Apple\n",
      "('Apple', 'Cat', 'Banana', 'Fish')\n",
      "('Apple', 'Banana', 'Nuts')\n"
     ]
    }
   ],
   "source": [
    "t = (\"Apple\",\"Cat\",\"Banana\",\"Fish\",\"Nuts\")\n",
    "print(t)\n",
    "print(t[0])\n",
    "print(t[0:4])\n",
    "print(t[0:5:2])"
   ]
  },
  {
   "cell_type": "code",
   "execution_count": 12,
   "id": "8d2a0f8b",
   "metadata": {},
   "outputs": [],
   "source": [
    "# no append()    no insert() extend()\n",
    "# no update\n",
    "#no delete\n",
    "# no sort\n"
   ]
  },
  {
   "cell_type": "code",
   "execution_count": 13,
   "id": "e38f1329",
   "metadata": {},
   "outputs": [
    {
     "name": "stdout",
     "output_type": "stream",
     "text": [
      "[2, 3, 4]\n"
     ]
    }
   ],
   "source": [
    "a = (1,2,3,4)\n",
    "b= list(a)\n",
    "del b[0]\n",
    "print(b)"
   ]
  },
  {
   "cell_type": "code",
   "execution_count": 17,
   "id": "7278005b",
   "metadata": {},
   "outputs": [
    {
     "name": "stdout",
     "output_type": "stream",
     "text": [
      "(1, 2, 3, 4, 5, 6, 7, 8, 9)\n"
     ]
    }
   ],
   "source": [
    "# concatination\n",
    "a = (1,2,3,4)\n",
    "b = (5,6,7,8,9)\n",
    "c = (a+b)\n",
    "print(c)"
   ]
  },
  {
   "cell_type": "code",
   "execution_count": 21,
   "id": "e52b7e9b",
   "metadata": {},
   "outputs": [
    {
     "name": "stdout",
     "output_type": "stream",
     "text": [
      "('Apple',)\n"
     ]
    }
   ],
   "source": [
    "a = ()\n",
    "b =(\"Apple\",)\n",
    "a = a+b\n",
    "print(a)"
   ]
  },
  {
   "cell_type": "code",
   "execution_count": 22,
   "id": "0f4868c2",
   "metadata": {},
   "outputs": [
    {
     "name": "stdout",
     "output_type": "stream",
     "text": [
      "Enter n = 3\n",
      "Enter x = Banana\n",
      "('Banana',)\n",
      "Enter x = apple\n",
      "('Banana', 'apple')\n",
      "Enter x = lando\n",
      "('Banana', 'apple', 'lando')\n"
     ]
    }
   ],
   "source": [
    "t = ()\n",
    "n = int(input(\"Enter n = \"))\n",
    "for i in range(n):\n",
    "    x= input(\"Enter x = \")\n",
    "    t= t+(x,)  #string to tuple(x,)\n",
    "    print(t)"
   ]
  },
  {
   "cell_type": "code",
   "execution_count": 23,
   "id": "1b5aa141",
   "metadata": {},
   "outputs": [
    {
     "data": {
      "text/plain": [
       "('l', 'a', 'n', 'd', 'o')"
      ]
     },
     "execution_count": 23,
     "metadata": {},
     "output_type": "execute_result"
    }
   ],
   "source": [
    "tuple(x)"
   ]
  },
  {
   "cell_type": "code",
   "execution_count": null,
   "id": "56461c4c",
   "metadata": {},
   "outputs": [],
   "source": []
  }
 ],
 "metadata": {
  "kernelspec": {
   "display_name": "Python 3 (ipykernel)",
   "language": "python",
   "name": "python3"
  },
  "language_info": {
   "codemirror_mode": {
    "name": "ipython",
    "version": 3
   },
   "file_extension": ".py",
   "mimetype": "text/x-python",
   "name": "python",
   "nbconvert_exporter": "python",
   "pygments_lexer": "ipython3",
   "version": "3.10.9"
  }
 },
 "nbformat": 4,
 "nbformat_minor": 5
}
