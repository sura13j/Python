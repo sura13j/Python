{
 "cells": [
  {
   "cell_type": "code",
   "execution_count": 8,
   "id": "2869f347",
   "metadata": {},
   "outputs": [],
   "source": [
    "# predefined\n",
    "# print() type() float() str() bool()\n"
   ]
  },
  {
   "cell_type": "code",
   "execution_count": null,
   "id": "1fe25b45",
   "metadata": {},
   "outputs": [],
   "source": [
    "# user defined function\n",
    "# def <function>():\n",
    "#      <operator>\n",
    "#  <function_name>()"
   ]
  },
  {
   "cell_type": "code",
   "execution_count": 4,
   "id": "c56d5653",
   "metadata": {},
   "outputs": [
    {
     "name": "stdout",
     "output_type": "stream",
     "text": [
      "27\n"
     ]
    }
   ],
   "source": [
    "def hello():\n",
    "    print(3*9)\n",
    "hello()"
   ]
  },
  {
   "cell_type": "code",
   "execution_count": 7,
   "id": "6b913b70",
   "metadata": {},
   "outputs": [
    {
     "name": "stdout",
     "output_type": "stream",
     "text": [
      "900.0\n"
     ]
    }
   ],
   "source": [
    "def cal():\n",
    "    p = 2500 # it can't be used outside cause this is local variable\n",
    "    t = 3\n",
    "    r = 12\n",
    "    a = p*t*r/100\n",
    "    print(a)\n",
    "cal()"
   ]
  },
  {
   "cell_type": "code",
   "execution_count": 10,
   "id": "bc5c85a2",
   "metadata": {},
   "outputs": [
    {
     "name": "stdout",
     "output_type": "stream",
     "text": [
      "900.0\n",
      "2500 3 12\n"
     ]
    }
   ],
   "source": [
    "def cal():\n",
    "    global p,t,r\n",
    "    p = 2500 \n",
    "    t = 3\n",
    "    r = 12\n",
    "    a = p*t*r/100\n",
    "    print(a)\n",
    "cal()\n",
    "print(p,t,r)\n",
    "\n"
   ]
  },
  {
   "cell_type": "code",
   "execution_count": 11,
   "id": "174b2833",
   "metadata": {},
   "outputs": [],
   "source": [
    "# type of function on the basis of arguments and return type\n",
    "# function without argument and no return\n",
    "# function with argument and no return type\n",
    "# function without argument and return type\n",
    "# function with argument and return type"
   ]
  },
  {
   "cell_type": "code",
   "execution_count": 12,
   "id": "a214a7ee",
   "metadata": {},
   "outputs": [
    {
     "name": "stdout",
     "output_type": "stream",
     "text": [
      "Hello World\n"
     ]
    }
   ],
   "source": [
    "def hello(x):         # x is parameter\n",
    "    print(x)\n",
    "hello(\"Hello World\")  # Hello world is argument"
   ]
  },
  {
   "cell_type": "code",
   "execution_count": 14,
   "id": "f91dbb38",
   "metadata": {},
   "outputs": [
    {
     "name": "stdout",
     "output_type": "stream",
     "text": [
      "900.0\n"
     ]
    }
   ],
   "source": [
    "def cal(p,t,r):\n",
    "    p = 2500    # it can't be used outside cause this is local variable\n",
    "    t = 3\n",
    "    r = 12\n",
    "    a = p*t*r/100\n",
    "    print(a)\n",
    "cal(p,t,r)      # argument"
   ]
  },
  {
   "cell_type": "code",
   "execution_count": 17,
   "id": "6573a6eb",
   "metadata": {},
   "outputs": [
    {
     "name": "stdout",
     "output_type": "stream",
     "text": [
      "C\n",
      "C++\n",
      "python\n",
      "Java\n",
      "Java\n"
     ]
    }
   ],
   "source": [
    "def language(lan = \"python\"):\n",
    "    print(lan)\n",
    "language(\"C\")\n",
    "language(\"C++\")\n",
    "language ()\n",
    "language(input(\"\"))"
   ]
  },
  {
   "cell_type": "code",
   "execution_count": 18,
   "id": "938c2341",
   "metadata": {},
   "outputs": [
    {
     "name": "stdout",
     "output_type": "stream",
     "text": [
      "Enter value of a = 20\n",
      "Enter value of b = 10\n",
      "Enter + - * / /\n",
      "2.0\n"
     ]
    }
   ],
   "source": [
    "a = int(input(\"Enter value of a = \"))\n",
    "b = int(input(\"Enter value of b = \"))\n",
    "c = input(\"Enter + - * / \")\n",
    "def cal():\n",
    "    if c == \"+\":\n",
    "        print(a+b)\n",
    "    elif c == \"-\":\n",
    "        print(a-b)\n",
    "    elif c == \"*\":\n",
    "        print(a*b)\n",
    "    elif c == \"/\":\n",
    "        print(a/b)\n",
    "cal()\n",
    "    "
   ]
  },
  {
   "cell_type": "code",
   "execution_count": 19,
   "id": "e548d90e",
   "metadata": {},
   "outputs": [
    {
     "data": {
      "text/plain": [
       "'Hello World'"
      ]
     },
     "execution_count": 19,
     "metadata": {},
     "output_type": "execute_result"
    }
   ],
   "source": [
    "# Return type function\n",
    "def hello():\n",
    "    return \"Hello World\"\n",
    "hello()"
   ]
  },
  {
   "cell_type": "code",
   "execution_count": 1,
   "id": "73931239",
   "metadata": {},
   "outputs": [
    {
     "name": "stdout",
     "output_type": "stream",
     "text": [
      "ENter l = 20\n",
      "Enter B = 5\n",
      "Now the value of x is (100, 5).\n",
      "(100, 5, 100, 5)\n"
     ]
    }
   ],
   "source": [
    "def cal():\n",
    "    l = int(input(\"ENter l = \"))\n",
    "    b = int(input(\"Enter B = \"))\n",
    "    a = l*b\n",
    "    return a,b   # the value of a goes to cal()\n",
    "x = cal()        # cal() value is a = l*b\n",
    "v = x*2\n",
    "print(f\"Now the value of x is {x}.\")\n",
    "print(v)"
   ]
  },
  {
   "cell_type": "code",
   "execution_count": 3,
   "id": "f139c430",
   "metadata": {},
   "outputs": [
    {
     "name": "stdout",
     "output_type": "stream",
     "text": [
      "ENter l = 30\n",
      "Enter B = 5\n",
      "Area =  150\n",
      "Breath =  5\n",
      "Now the value of x is (100, 5).\n",
      "(100, 5, 100, 5)\n"
     ]
    }
   ],
   "source": [
    "def cal():\n",
    "    l = int(input(\"ENter l = \"))\n",
    "    b = int(input(\"Enter B = \"))\n",
    "    a = l*b\n",
    "    return a,b  \n",
    "area,breath = cal()\n",
    "print(\"Area = \",area)\n",
    "print(\"Breath = \",breath)\n",
    "v = x*2\n",
    "print(f\"Now the value of x is {x}.\")\n",
    "print(v)"
   ]
  },
  {
   "cell_type": "code",
   "execution_count": 2,
   "id": "9318b00d",
   "metadata": {},
   "outputs": [
    {
     "ename": "NameError",
     "evalue": "name 'number' is not defined",
     "output_type": "error",
     "traceback": [
      "\u001b[1;31m---------------------------------------------------------------------------\u001b[0m",
      "\u001b[1;31mNameError\u001b[0m                                 Traceback (most recent call last)",
      "Cell \u001b[1;32mIn[2], line 4\u001b[0m\n\u001b[0;32m      2\u001b[0m \u001b[38;5;28;01mdef\u001b[39;00m \u001b[38;5;21mvalid_num\u001b[39m(number):\n\u001b[0;32m      3\u001b[0m     num\u001b[38;5;241m=\u001b[39m random\u001b[38;5;241m.\u001b[39mchoice(number)\n\u001b[1;32m----> 4\u001b[0m valid_num(\u001b[43mnumber\u001b[49m)\n",
      "\u001b[1;31mNameError\u001b[0m: name 'number' is not defined"
     ]
    }
   ],
   "source": [
    "import random\n",
    "def valid_num(number):\n",
    "    num= random.choice(number)\n",
    "valid_num(number)"
   ]
  },
  {
   "cell_type": "code",
   "execution_count": 5,
   "id": "112cfd8a",
   "metadata": {},
   "outputs": [
    {
     "name": "stdout",
     "output_type": "stream",
     "text": [
      "Enter the value = 55\n",
      "Enter the value = 5\n",
      "enter +,-,*,/*\n",
      "275\n"
     ]
    }
   ],
   "source": [
    "def cal():\n",
    "    c = input(\"enter +,-,*,/\")\n",
    "    if c == \"+\":\n",
    "        print(a+b)\n",
    "    elif c == \"-\":\n",
    "        print(a-b)\n",
    "    elif c == \"*\":\n",
    "        print(a*b)\n",
    "    elif c == \"/\":\n",
    "        print(a/b)\n",
    "cal()"
   ]
  },
  {
   "cell_type": "code",
   "execution_count": 1,
   "id": "cf48c6a9",
   "metadata": {},
   "outputs": [
    {
     "name": "stdout",
     "output_type": "stream",
     "text": [
      "Result of Final term\n",
      "Enter value of n = 2\n",
      "Enter your name = NAbin Sunuwar\n",
      "Enter num in eng = 95\n",
      "Enter num in math= 85\n",
      "Enter num in sci = 67\n",
      "Enter num in nep= 89\n",
      "Enter num in acc = 87\n",
      "423\n",
      "enter +,-,*,//\n",
      "Congrats!,You've got A\n",
      "Enter your name = suraj tamang\n",
      "Enter num in eng = 23\n",
      "Enter num in math= 45\n",
      "Enter num in sci = 65\n",
      "Enter num in nep= 43\n",
      "Enter num in acc = 34\n",
      "210\n",
      "enter +,-,*,//\n",
      "Congrats!,You've got C\n"
     ]
    }
   ],
   "source": [
    "print(\"Result of Final term\")\n",
    "n = int(input(\"Enter value of n = \"))\n",
    "for i in range(n):\n",
    "    name = input(\"Enter your name = \")\n",
    "    eng = int(input(\"Enter num in eng = \"))\n",
    "    math = int(input(\"Enter num in math= \"))\n",
    "    sci = int(input(\"Enter num in sci = \"))\n",
    "    nep = int(input(\"Enter num in nep= \"))\n",
    "    acc = int(input(\"Enter num in acc = \"))\n",
    "    total = eng + math + sci + nep + acc\n",
    "    print(total)\n",
    "    a = total\n",
    "    b = 5\n",
    "\n",
    "\n",
    "    def cal():\n",
    "        c = input(\"enter +,-,*,/\")\n",
    "        if c == \"+\":\n",
    "            add = a + b\n",
    "            return add\n",
    "        elif c == \"-\":\n",
    "            sub = a-b\n",
    "            return sub\n",
    "        elif c == \"*\":\n",
    "            mul = a*b\n",
    "            return mul \n",
    "        elif c == \"/\":\n",
    "            div = a/b\n",
    "            return div\n",
    "\n",
    "    per = cal()\n",
    "    if per>90:\n",
    "        print(\"Congrats!,You've got A+\")\n",
    "    elif per>80:\n",
    "        print(\"Congrats!,You've got A\")\n",
    "    elif per>70:\n",
    "        print(\"Congrats!,You've got B+\")\n",
    "    elif per>60:\n",
    "        print(\"Congrats!,You've got B\")\n",
    "    elif per>50:\n",
    "        print(\"Congrats!,You've got C+\")\n",
    "    elif per>40:\n",
    "        print(\"Congrats!,You've got C\")\n",
    "    else:\n",
    "        print(\"Sorry! you have failed the exam\")"
   ]
  },
  {
   "cell_type": "code",
   "execution_count": 8,
   "id": "d4a2c036",
   "metadata": {},
   "outputs": [
    {
     "name": "stdout",
     "output_type": "stream",
     "text": [
      "78.0\n"
     ]
    }
   ],
   "source": [
    "print(390/5)"
   ]
  },
  {
   "cell_type": "code",
   "execution_count": 5,
   "id": "a3742b52",
   "metadata": {},
   "outputs": [
    {
     "data": {
      "text/plain": [
       "56"
      ]
     },
     "execution_count": 5,
     "metadata": {},
     "output_type": "execute_result"
    }
   ],
   "source": [
    "def cat():\n",
    "    a = 7\n",
    "    b= 8 \n",
    "    c =a*b\n",
    "    return c\n",
    "cat()"
   ]
  },
  {
   "cell_type": "code",
   "execution_count": null,
   "id": "e4b120d1",
   "metadata": {},
   "outputs": [],
   "source": []
  }
 ],
 "metadata": {
  "kernelspec": {
   "display_name": "Python 3 (ipykernel)",
   "language": "python",
   "name": "python3"
  },
  "language_info": {
   "codemirror_mode": {
    "name": "ipython",
    "version": 3
   },
   "file_extension": ".py",
   "mimetype": "text/x-python",
   "name": "python",
   "nbconvert_exporter": "python",
   "pygments_lexer": "ipython3",
   "version": "3.10.9"
  }
 },
 "nbformat": 4,
 "nbformat_minor": 5
}
