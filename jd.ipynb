{
 "cells": [
  {
   "cell_type": "code",
   "execution_count": null,
   "id": "7c323d5f",
   "metadata": {},
   "outputs": [],
   "source": [
    "print(\"welcome to my game \")\n",
    "play = input(\"Do you want to play a game? \")\n",
    "if play != \"no\":\n",
    "    result = \"Okay! let's play:)\"\n",
    "else:\n",
    "    Quit()\n"
   ]
  },
  {
   "cell_type": "code",
   "execution_count": null,
   "id": "31d908de",
   "metadata": {},
   "outputs": [],
   "source": [
    "print(\"Welcome to my game\")\n",
    "ques = input(\"Do you want to play a game? \")\n",
    "if ques !=\"Yes\":\n",
    "    result = \"Okay let's play:)\"\n",
    "else:\n",
    "    quit()\n",
    "print(ques)"
   ]
  },
  {
   "cell_type": "code",
   "execution_count": null,
   "id": "b6193c4a",
   "metadata": {},
   "outputs": [],
   "source": [
    "print(\"Welcome to my game\")\n",
    "ques = input(\"Do you want to play a game? \")          #question users if they want to play game\n",
    "if ques !=\"Yes\":\n",
    "    print(\"Okay let's play:)\")\n",
    "else:\n",
    "    print(quit())"
   ]
  },
  {
   "cell_type": "code",
   "execution_count": null,
   "id": "3ecac173",
   "metadata": {},
   "outputs": [],
   "source": [
    "print(\"Welcome to my game\")"
   ]
  },
  {
   "cell_type": "code",
   "execution_count": 2,
   "id": "6cac3eb8",
   "metadata": {},
   "outputs": [
    {
     "name": "stdout",
     "output_type": "stream",
     "text": [
      "the value of s is  360.0\n"
     ]
    }
   ],
   "source": [
    "p = 45\n",
    "t = 40\n",
    "r = 20\n",
    "s = p * t * r/100\n",
    "#semi is the formula\n",
    "\n",
    "print(\"the value of s is \",s)"
   ]
  },
  {
   "cell_type": "code",
   "execution_count": 6,
   "id": "f250d6fc",
   "metadata": {},
   "outputs": [
    {
     "name": "stdout",
     "output_type": "stream",
     "text": [
      "True\n",
      "False\n",
      "True\n",
      "False\n"
     ]
    }
   ],
   "source": [
    "print(2>1)\n",
    "print(2<1)\n",
    "print(2==2)\n",
    "print(2<2)"
   ]
  },
  {
   "cell_type": "code",
   "execution_count": 8,
   "id": "ab8edbb8",
   "metadata": {},
   "outputs": [
    {
     "name": "stdout",
     "output_type": "stream",
     "text": [
      "False\n"
     ]
    }
   ],
   "source": [
    "a = int(88)\n",
    "b = int(9)\n",
    "if a<b :\n",
    "    print(\"True\")\n",
    "else:\n",
    "    print(\"False\")"
   ]
  },
  {
   "cell_type": "code",
   "execution_count": 17,
   "id": "087e28b2",
   "metadata": {},
   "outputs": [
    {
     "name": "stdout",
     "output_type": "stream",
     "text": [
      "Hello World.\n",
      "-12.45\n",
      "the value of a is -12.45\n",
      "Hello world is a -12.45\n"
     ]
    }
   ],
   "source": [
    "print(\"Hello World.\")\n",
    "a = float(-12.45)\n",
    "print(a)\n",
    "print(\"the value of a is\",a)\n",
    "info = \"Hello world is a \" + str(a) \n",
    "print(info)"
   ]
  },
  {
   "cell_type": "code",
   "execution_count": 1,
   "id": "9a02244b",
   "metadata": {},
   "outputs": [],
   "source": [
    "# Python Collection\n",
    "# list []\n",
    "# tuple\n",
    "# dict\n",
    "# set"
   ]
  },
  {
   "cell_type": "code",
   "execution_count": 2,
   "id": "3bee3b06",
   "metadata": {},
   "outputs": [],
   "source": [
    "# list\n",
    "# indexing\n",
    "# multiple and duplicate\n",
    "# ordered\n",
    "# mutable"
   ]
  },
  {
   "cell_type": "code",
   "execution_count": 7,
   "id": "6730fd0d",
   "metadata": {},
   "outputs": [
    {
     "name": "stdout",
     "output_type": "stream",
     "text": [
      "Apple\n",
      "Egg\n",
      "['Apple', 'BAll', 'Cat', 'dog']\n"
     ]
    }
   ],
   "source": [
    " a = [\"Apple\",\"BAll\",\"Cat\",\"dog\",\"Egg\"]\n",
    "print(a[0])\n",
    "print(a[-1])\n",
    "print(a[0:4])\n",
    "print(a[])"
   ]
  },
  {
   "cell_type": "code",
   "execution_count": 8,
   "id": "cd5d4368",
   "metadata": {},
   "outputs": [
    {
     "data": {
      "text/plain": [
       "['zebra', 'ball']"
      ]
     },
     "execution_count": 8,
     "metadata": {},
     "output_type": "execute_result"
    }
   ],
   "source": [
    "# mutable\n",
    "a = [\"apple\",\"ball\"]\n",
    "a[0]= \"zebra\"\n",
    "a"
   ]
  },
  {
   "cell_type": "code",
   "execution_count": 9,
   "id": "ef1e8070",
   "metadata": {},
   "outputs": [
    {
     "name": "stdout",
     "output_type": "stream",
     "text": [
      "[1, 2, 3, 4, 5, 1, 2, 3, 4, 5, 1, 2, 3, 4, 5]\n"
     ]
    }
   ],
   "source": [
    "a = [1,2,3,4,5] #List\n",
    "print(a*3)"
   ]
  },
  {
   "cell_type": "code",
   "execution_count": 12,
   "id": "dcb98a25",
   "metadata": {},
   "outputs": [
    {
     "ename": "TypeError",
     "evalue": "can't multiply sequence by non-int of type 'list'",
     "output_type": "error",
     "traceback": [
      "\u001b[1;31m---------------------------------------------------------------------------\u001b[0m",
      "\u001b[1;31mTypeError\u001b[0m                                 Traceback (most recent call last)",
      "Cell \u001b[1;32mIn[12], line 2\u001b[0m\n\u001b[0;32m      1\u001b[0m a \u001b[38;5;241m=\u001b[39m []\n\u001b[1;32m----> 2\u001b[0m a \u001b[38;5;241m=\u001b[39m \u001b[43ma\u001b[49m\u001b[38;5;241;43m*\u001b[39;49m\u001b[43m[\u001b[49m\u001b[38;5;124;43m\"\u001b[39;49m\u001b[38;5;124;43mball\u001b[39;49m\u001b[38;5;124;43m\"\u001b[39;49m\u001b[43m]\u001b[49m\n\u001b[0;32m      3\u001b[0m a\n",
      "\u001b[1;31mTypeError\u001b[0m: can't multiply sequence by non-int of type 'list'"
     ]
    }
   ],
   "source": [
    "a = []\n",
    "a = a*[\"ball\"]\n",
    "a"
   ]
  },
  {
   "cell_type": "code",
   "execution_count": 13,
   "id": "ad64e20c",
   "metadata": {},
   "outputs": [
    {
     "ename": "ValueError",
     "evalue": "max() arg is an empty sequence",
     "output_type": "error",
     "traceback": [
      "\u001b[1;31m---------------------------------------------------------------------------\u001b[0m",
      "\u001b[1;31mValueError\u001b[0m                                Traceback (most recent call last)",
      "Cell \u001b[1;32mIn[13], line 1\u001b[0m\n\u001b[1;32m----> 1\u001b[0m \u001b[38;5;28mprint\u001b[39m(\u001b[38;5;124m\"\u001b[39m\u001b[38;5;124mthe max value = \u001b[39m\u001b[38;5;124m\"\u001b[39m,\u001b[38;5;28;43mmax\u001b[39;49m\u001b[43m(\u001b[49m\u001b[43ma\u001b[49m\u001b[43m)\u001b[49m)\n",
      "\u001b[1;31mValueError\u001b[0m: max() arg is an empty sequence"
     ]
    }
   ],
   "source": [
    "print(\"the max value = \",max(a))"
   ]
  },
  {
   "cell_type": "code",
   "execution_count": 14,
   "id": "a257c965",
   "metadata": {},
   "outputs": [
    {
     "name": "stdout",
     "output_type": "stream",
     "text": [
      "[1, 3, 5, 5, 7, 8]\n"
     ]
    }
   ],
   "source": [
    "a = [1,5,7,5,8,3]\n",
    "a.sort()\n",
    "print(a)"
   ]
  },
  {
   "cell_type": "code",
   "execution_count": 18,
   "id": "9dcdce72",
   "metadata": {},
   "outputs": [
    {
     "name": "stdout",
     "output_type": "stream",
     "text": [
      "['Zebra', 'Koke', 'Fuck', 'Ant']\n"
     ]
    }
   ],
   "source": [
    "b = [\"Zebra\",\"Ant\",\"Fuck\",\"Koke\"]\n",
    "b.sort()\n",
    "b.reverse()\n",
    "print(b)\n"
   ]
  },
  {
   "cell_type": "code",
   "execution_count": 21,
   "id": "1f2a5b1c",
   "metadata": {},
   "outputs": [
    {
     "name": "stdout",
     "output_type": "stream",
     "text": [
      "['hdga', 'djkgcjd', 'dhgajdh', 'bann', 'ann', '1']\n"
     ]
    }
   ],
   "source": [
    "a = [\"ann\",\"bann\",\"hdga\",\"dhgajdh\",\"djkgcjd\",\"1\"]\n",
    "a.sort()\n",
    "a.reverse()\n",
    "print(a)\n"
   ]
  },
  {
   "cell_type": "code",
   "execution_count": 22,
   "id": "38f76ae0",
   "metadata": {},
   "outputs": [],
   "source": [
    "# to insert values\n",
    "# append() insert() extend()\n",
    "\n",
    "#delete - del remove() pop()\n"
   ]
  },
  {
   "cell_type": "code",
   "execution_count": 23,
   "id": "62051f73",
   "metadata": {},
   "outputs": [
    {
     "name": "stdout",
     "output_type": "stream",
     "text": [
      "ann bann hdga dhgajdh djkgcjd 1 "
     ]
    }
   ],
   "source": [
    "a = [\"ann\",\"bann\",\"hdga\",\"dhgajdh\",\"djkgcjd\",\"1\"]\n",
    "for i in a:\n",
    "    print(i,end = \" \")"
   ]
  },
  {
   "cell_type": "code",
   "execution_count": 25,
   "id": "19152caf",
   "metadata": {},
   "outputs": [
    {
     "name": "stdout",
     "output_type": "stream",
     "text": [
      "['Apple', 'Cat', 'Chinese', 'dog']\n"
     ]
    }
   ],
   "source": [
    "# append\n",
    "a = [\"Apple\",\"Cat\",\"dog\"]\n",
    "a.append(\"Chinese\")\n",
    "a.sort()\n",
    "print(a)"
   ]
  },
  {
   "cell_type": "code",
   "execution_count": 27,
   "id": "4a2de20f",
   "metadata": {},
   "outputs": [
    {
     "name": "stdout",
     "output_type": "stream",
     "text": [
      "['Apple', 'Cat', 'dog', 'banana']\n"
     ]
    }
   ],
   "source": [
    "# insert\n",
    "a = [\"Apple\",\"Cat\",\"dog\"]\n",
    "a.insert(3,\"banana\")\n",
    "print(a)"
   ]
  },
  {
   "cell_type": "code",
   "execution_count": 29,
   "id": "79460588",
   "metadata": {},
   "outputs": [
    {
     "name": "stdout",
     "output_type": "stream",
     "text": [
      "['Apple', 'Banana', 'Cat', 'Dog', 'Snake']\n"
     ]
    }
   ],
   "source": [
    "#extend\n",
    "a = [\"Apple\",\"Cat\",\"Dog\"]\n",
    "b = [\"Banana\",\"Snake\"]\n",
    "a.extend(b)\n",
    "a.sort()\n",
    "print(a)"
   ]
  },
  {
   "cell_type": "code",
   "execution_count": 3,
   "id": "bf0e72c2",
   "metadata": {},
   "outputs": [
    {
     "name": "stdout",
     "output_type": "stream",
     "text": [
      "Enter num n = 2\n",
      "enter value = 2\n",
      "enter value = 3\n",
      "[2, 3]\n"
     ]
    }
   ],
   "source": [
    "a = []\n",
    "n = int(input(\"Enter num n = \"))\n",
    "for i in range(n):\n",
    "    b = int(input(\"enter value = \"))\n",
    "    a.append(b)\n",
    "print(a)"
   ]
  },
  {
   "cell_type": "code",
   "execution_count": 4,
   "id": "9ce588e1",
   "metadata": {},
   "outputs": [
    {
     "data": {
      "text/plain": [
       "['apple', 'Fox', 'Cat']"
      ]
     },
     "execution_count": 4,
     "metadata": {},
     "output_type": "execute_result"
    }
   ],
   "source": [
    "a = [\"apple\",\"Banana\",\"Fox\",\"Cat\"]\n",
    "a.remove(\"Banana\")\n",
    "list(a)"
   ]
  },
  {
   "cell_type": "code",
   "execution_count": 3,
   "id": "6aaa8fd4",
   "metadata": {},
   "outputs": [
    {
     "name": "stdout",
     "output_type": "stream",
     "text": [
      "['mango', 'grape', 'orange']\n"
     ]
    }
   ],
   "source": [
    "a = [\"apple\",\"banana\",\"mango\",\"grape\",\"orange\"]\n",
    "del a[0:2]\n",
    "print(a)"
   ]
  },
  {
   "cell_type": "code",
   "execution_count": 13,
   "id": "3f620acf",
   "metadata": {},
   "outputs": [
    {
     "name": "stdout",
     "output_type": "stream",
     "text": [
      "['banana', 'mango', 'grape', 'orange', 'Pine']\n"
     ]
    }
   ],
   "source": [
    "a = [\"apple\",\"banana\",\"mango\",\"apple\",\"grape\",\"orange\",\"Pine\",\"apple\"]\n",
    "n = a.count(\"apple\")            #IMP\n",
    "for i in range(n):\n",
    "    a.remove(\"apple\")\n",
    "print(a)"
   ]
  },
  {
   "cell_type": "code",
   "execution_count": 3,
   "id": "a871c62e",
   "metadata": {},
   "outputs": [
    {
     "name": "stdout",
     "output_type": "stream",
     "text": [
      "0\n",
      "3\n",
      "7\n"
     ]
    }
   ],
   "source": [
    "a = [\"apple\",\"banana\",\"mango\",\"apple\",\"grape\",\"orange\",\"Pine\",\"apple\"]\n",
    "for i in range(len(a)):\n",
    "    if a[i] == \"apple\": \n",
    "        print(i)"
   ]
  },
  {
   "cell_type": "code",
   "execution_count": 14,
   "id": "43c111e4",
   "metadata": {},
   "outputs": [
    {
     "name": "stdout",
     "output_type": "stream",
     "text": [
      "apple\n",
      "banan\n",
      "mango\n",
      "apple\n",
      "grape\n",
      "orang\n",
      "Pine\n",
      "apple\n"
     ]
    }
   ],
   "source": [
    "a = [\"apple\",\"banana\",\"mango\",\"apple\",\"grape\",\"orange\",\"Pine\",\"apple\"]\n",
    "for i in a:\n",
    "    print(i[0:5])"
   ]
  },
  {
   "cell_type": "code",
   "execution_count": 20,
   "id": "49bd8c00",
   "metadata": {},
   "outputs": [
    {
     "name": "stdout",
     "output_type": "stream",
     "text": [
      "apple\n",
      "apple\n",
      "apple\n"
     ]
    }
   ],
   "source": [
    "a = [\"apple\",\"banana\",\"mango\",\"apple\",\"grape\",\"orange\",\"Pine\",\"apple\"]\n",
    "for i in a:\n",
    "    if i[0] == \"a\":\n",
    "        print(i)"
   ]
  },
  {
   "cell_type": "code",
   "execution_count": 21,
   "id": "ae78135c",
   "metadata": {},
   "outputs": [
    {
     "name": "stdout",
     "output_type": "stream",
     "text": [
      "<class 'str'>\n"
     ]
    }
   ],
   "source": [
    "a = \"Fuck YOu\"\n",
    "print(type(a))"
   ]
  },
  {
   "cell_type": "code",
   "execution_count": 22,
   "id": "d66f8dc2",
   "metadata": {},
   "outputs": [
    {
     "name": "stdout",
     "output_type": "stream",
     "text": [
      "['ant', 'apple', 'banana', 'cherry', 'dog', 'fox']\n"
     ]
    }
   ],
   "source": [
    "a =[\"apple\",\"banana\",\"fox\",\"cherry\",\"dog\",\"ant\"]\n",
    "a.sort()\n",
    "print(a)"
   ]
  },
  {
   "cell_type": "code",
   "execution_count": 32,
   "id": "e00db24b",
   "metadata": {},
   "outputs": [
    {
     "name": "stdout",
     "output_type": "stream",
     "text": [
      "['ant', 'apple', 'banana', 'cherry', 'dog', 'fox', 'goat', 'ox']\n",
      "banana\n",
      "cherry\n",
      "dog\n",
      "fox\n",
      "goat\n",
      "ox\n"
     ]
    }
   ],
   "source": [
    "a =[\"apple\",\"banana\",\"fox\",\"cherry\",\"dog\",\"ant\",\"ox\"]\n",
    "a.append(\"goat\")\n",
    "a.sort()\n",
    "print(a)\n",
    "\n",
    "for i in a:\n",
    "    if i[0] != \"a\":\n",
    "        print(i)\n"
   ]
  },
  {
   "cell_type": "code",
   "execution_count": null,
   "id": "0c5d8e31",
   "metadata": {},
   "outputs": [
    {
     "name": "stdout",
     "output_type": "stream",
     "text": [
      "Welcome to my game\n",
      "Please enter your name = ghhg\n",
      "Enter your age = 11\n"
     ]
    }
   ],
   "source": [
    "print(\"Welcome to my game\")\n",
    "name = input(\"Please enter your name = \")\n",
    "age = int(input(\"Enter your age = \"))\n",
    "while age >= 18:\n",
    "    print(\"Invalid access\")\n",
    "    print(age = int(input(\"Enter your age = \")))\n",
    "\n",
    "gender = input(\"Whats your gender? \").lower()\n",
    "if gender == \"male\":\n",
    "    print(\"Welcome to my game MR,\",name)\n",
    "elif gender == \"female\":\n",
    "    print(\"Welcome to my game MS,\",name)\n",
    "else:\n",
    "    print(\"Invalid gender\")\n",
    "play = input(\"Do you want to play game? \").lower()\n",
    "if play != \"yes\":\n",
    "    print(\"quit\")\n",
    "else:\n",
    "    print(\"Okay:) lets's play.\")\n"
   ]
  },
  {
   "cell_type": "code",
   "execution_count": null,
   "id": "11bca26f",
   "metadata": {},
   "outputs": [],
   "source": []
  }
 ],
 "metadata": {
  "kernelspec": {
   "display_name": "Python 3 (ipykernel)",
   "language": "python",
   "name": "python3"
  },
  "language_info": {
   "codemirror_mode": {
    "name": "ipython",
    "version": 3
   },
   "file_extension": ".py",
   "mimetype": "text/x-python",
   "name": "python",
   "nbconvert_exporter": "python",
   "pygments_lexer": "ipython3",
   "version": "3.10.9"
  }
 },
 "nbformat": 4,
 "nbformat_minor": 5
}
