{
 "cells": [
  {
   "cell_type": "code",
   "execution_count": null,
   "id": "f46d5526",
   "metadata": {},
   "outputs": [],
   "source": [
    "#while <condition>:\n",
    "#    <operator>"
   ]
  },
  {
   "cell_type": "code",
   "execution_count": 1,
   "id": "eb438ea9",
   "metadata": {},
   "outputs": [
    {
     "name": "stdout",
     "output_type": "stream",
     "text": [
      "enter numbers = 5\n",
      "5\n",
      "10\n",
      "15\n",
      "20\n",
      "25\n",
      "30\n",
      "35\n",
      "40\n",
      "45\n"
     ]
    }
   ],
   "source": [
    "i = 1\n",
    "n = int(input(\"enter numbers = \"))\n",
    "while i<10:\n",
    "    print(n*i)\n",
    "    i = i+1"
   ]
  },
  {
   "cell_type": "code",
   "execution_count": 1,
   "id": "608eb8d3",
   "metadata": {},
   "outputs": [
    {
     "name": "stdout",
     "output_type": "stream",
     "text": [
      "Enter numbers = 5\n",
      "120\n"
     ]
    }
   ],
   "source": [
    "fac = 1\n",
    "i = 1\n",
    "n = int(input(\"Enter numbers = \"))\n",
    "while i<=n:\n",
    "    fac = fac*i\n",
    "    i = i+1\n",
    "print(fac)"
   ]
  },
  {
   "cell_type": "code",
   "execution_count": 4,
   "id": "21da86c2",
   "metadata": {},
   "outputs": [
    {
     "name": "stdout",
     "output_type": "stream",
     "text": [
      "Hello World {0}\n"
     ]
    }
   ],
   "source": [
    "a = \"Hello World\"\n"
   ]
  },
  {
   "cell_type": "code",
   "execution_count": 6,
   "id": "e55dfd88",
   "metadata": {},
   "outputs": [
    {
     "ename": "IndentationError",
     "evalue": "expected an indented block after 'for' statement on line 3 (2194619906.py, line 4)",
     "output_type": "error",
     "traceback": [
      "\u001b[1;36m  Cell \u001b[1;32mIn[6], line 4\u001b[1;36m\u001b[0m\n\u001b[1;33m    print(a{i},end =\"\")\u001b[0m\n\u001b[1;37m    ^\u001b[0m\n\u001b[1;31mIndentationError\u001b[0m\u001b[1;31m:\u001b[0m expected an indented block after 'for' statement on line 3\n"
     ]
    }
   ],
   "source": [
    "a = \"Python\"\n",
    "l = len(a)\n",
    "for i in range(l):\n",
    "    print(a{i},end =\"\")"
   ]
  },
  {
   "cell_type": "code",
   "execution_count": 7,
   "id": "56a3e6d0",
   "metadata": {},
   "outputs": [],
   "source": [
    "# Control Statement\n",
    "# break\n",
    "# continue"
   ]
  },
  {
   "cell_type": "code",
   "execution_count": 12,
   "id": "46c32dab",
   "metadata": {},
   "outputs": [
    {
     "name": "stdout",
     "output_type": "stream",
     "text": [
      "1 2 3 4 5 6 7 9 "
     ]
    }
   ],
   "source": [
    "for i in range(1,10):\n",
    "    if i == 8:\n",
    "        continue     # skip the particular int or strin\n",
    "    print(i,end = \" \")"
   ]
  },
  {
   "cell_type": "code",
   "execution_count": 15,
   "id": "9ad3122d",
   "metadata": {},
   "outputs": [
    {
     "name": "stdout",
     "output_type": "stream",
     "text": [
      "1 2 3 4 5 6 7 "
     ]
    }
   ],
   "source": [
    "for i in range(1,10):\n",
    "    if i == 8:\n",
    "        break        # stops untill it reach to particular int or string\n",
    "    print(i,end = \" \")"
   ]
  },
  {
   "cell_type": "code",
   "execution_count": 18,
   "id": "4e8627a6",
   "metadata": {},
   "outputs": [
    {
     "name": "stdout",
     "output_type": "stream",
     "text": [
      "Hello MF"
     ]
    }
   ],
   "source": [
    "a = \"Hello MF, I am Best Football player.\"\n",
    "for i in a:\n",
    "    if i == \",\":\n",
    "        break\n",
    "    print(i,end =\"\")"
   ]
  },
  {
   "cell_type": "code",
   "execution_count": 20,
   "id": "8c220306",
   "metadata": {},
   "outputs": [
    {
     "name": "stdout",
     "output_type": "stream",
     "text": [
      "10\n",
      "20\n",
      "30\n",
      "40\n",
      "50\n",
      "60\n",
      "70\n",
      "80\n",
      "90\n",
      "100\n"
     ]
    }
   ],
   "source": [
    "for i in range(1,101):\n",
    "    if i % 10 !=0:\n",
    "        continue\n",
    "    print(i)"
   ]
  },
  {
   "cell_type": "code",
   "execution_count": 23,
   "id": "ba67ecc6",
   "metadata": {},
   "outputs": [
    {
     "name": "stdout",
     "output_type": "stream",
     "text": [
      "enter numbers = 8\n",
      "Invalid numbers\n"
     ]
    }
   ],
   "source": [
    "a = 10\n",
    "b =int(input(\"enter numbers = \"))\n",
    "if a<b:\n",
    "     \"pass\"\n",
    "else:\n",
    "    result = \"Invalid numbers\"\n",
    "print(result)"
   ]
  },
  {
   "cell_type": "code",
   "execution_count": 28,
   "id": "e6458611",
   "metadata": {},
   "outputs": [
    {
     "name": "stdout",
     "output_type": "stream",
     "text": [
      "enter n = 3\n",
      "This is prime\n"
     ]
    }
   ],
   "source": [
    "# prime - 2,3,5,7,11,13,17,19\n",
    "# composite - 4,6,8,9,10,12,14\n",
    "\n",
    "\n",
    "n = int(input(\"enter n = \"))\n",
    "for i in range(2,n):\n",
    "    if n % i ==0:\n",
    "        print(\"The no is composite\")\n",
    "        break\n",
    "else:\n",
    "        print(\"This is prime\")"
   ]
  },
  {
   "cell_type": "code",
   "execution_count": null,
   "id": "a3198ea3",
   "metadata": {},
   "outputs": [
    {
     "name": "stdout",
     "output_type": "stream",
     "text": [
      "Welcome to my game\n",
      "Please enter your name = jdkja\n",
      "Enter your age = 20\n",
      "Whats your gender? women\n",
      "Welcome to my game MR, jdkja\n"
     ]
    }
   ],
   "source": [
    "print(\"Welcome to my game\")\n",
    "name = input(\"Please enter your name = \")\n",
    "age = int(input(\"Enter your age = \"))\n",
    "while age<18:\n",
    "    print(\"Invalid access\")\n",
    "    age = int(input(\"Enter your age = \"))\n",
    "    \n",
    "    \n",
    "gender = input(\"Whats your gender? \").lower()\n",
    "if gender == \"male\" or \"Men\":\n",
    "    print(\"Welcome to my game MR,\",name)\n",
    "elif gender == \"female\" or \"women\":\n",
    "    print(\"Welcome to my game MS,\",name)\n",
    "else:\n",
    "    print(\"Invalid gender\")\n",
    "play = input(\"Do you want to play game? \").lower()\n",
    "if play != \"yes\":\n",
    "    print(\"quit\")\n",
    "else:\n",
    "    print(\"Okay:) lets's play.\")"
   ]
  },
  {
   "cell_type": "code",
   "execution_count": null,
   "id": "6d45343c",
   "metadata": {},
   "outputs": [],
   "source": []
  }
 ],
 "metadata": {
  "kernelspec": {
   "display_name": "Python 3 (ipykernel)",
   "language": "python",
   "name": "python3"
  },
  "language_info": {
   "codemirror_mode": {
    "name": "ipython",
    "version": 3
   },
   "file_extension": ".py",
   "mimetype": "text/x-python",
   "name": "python",
   "nbconvert_exporter": "python",
   "pygments_lexer": "ipython3",
   "version": "3.10.9"
  }
 },
 "nbformat": 4,
 "nbformat_minor": 5
}
