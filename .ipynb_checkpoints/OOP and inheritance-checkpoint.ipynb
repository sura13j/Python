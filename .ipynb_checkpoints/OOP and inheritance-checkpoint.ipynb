{
 "cells": [
  {
   "cell_type": "code",
   "execution_count": 1,
   "id": "72ebe01c",
   "metadata": {},
   "outputs": [
    {
     "name": "stdout",
     "output_type": "stream",
     "text": [
      "4\n",
      "4\n"
     ]
    }
   ],
   "source": [
    "class Car:\n",
    "    wheels = 4  # Class attribute\n",
    "\n",
    "my_car = Car()\n",
    "print(my_car.wheels)  # Output: 4\n",
    "print(Car.wheels)     # Output: 4\n"
   ]
  },
  {
   "cell_type": "code",
   "execution_count": 4,
   "id": "7bc18eb8",
   "metadata": {},
   "outputs": [
    {
     "name": "stdout",
     "output_type": "stream",
     "text": [
      "Surajtamang\n",
      "Ramtamang\n",
      "Surajtamang13.@gmail.com\n"
     ]
    }
   ],
   "source": [
    "class Employee:\n",
    "    def __init__(self, first, last, age, salary):\n",
    "        self.first = first\n",
    "        self.last = last\n",
    "        self.age = age\n",
    "        self.salary = salary\n",
    "        self.email = self.first + self.last + '13'+ \".@gmail.com\"\n",
    "        \n",
    "    def fullname(self):\n",
    "        return '{}{}'.format(self.first,self.last)\n",
    "\n",
    "emp_1 = Employee('Suraj', 'tamang', 20, 700000)\n",
    "emp_2 = Employee('Ram', 'tamang', 43, 70000)\n",
    "\n",
    "print(Employee.fullname(emp_1))\n",
    "print(Employee.fullname(emp_2))\n",
    "print(emp_1.email)\n",
    "\n",
    "        \n",
    "        "
   ]
  },
  {
   "cell_type": "code",
   "execution_count": 14,
   "id": "677c0b76",
   "metadata": {},
   "outputs": [
    {
     "name": "stdout",
     "output_type": "stream",
     "text": [
      "1155000\n",
      "{'first': 'Suraj', 'last': 'tamang', 'age': 20, 'salary': 1155000, 'email': 'Surajtamang13.@gmail.com'}\n",
      "{'__module__': '__main__', 'raise_amount': 1.65, '__init__': <function Employee.__init__ at 0x000002CEB710CCA0>, 'fullname': <function Employee.fullname at 0x000002CEB710CC10>, 'apply_raise': <function Employee.apply_raise at 0x000002CEB710DCF0>, '__dict__': <attribute '__dict__' of 'Employee' objects>, '__weakref__': <attribute '__weakref__' of 'Employee' objects>, '__doc__': None}\n"
     ]
    }
   ],
   "source": [
    "class Employee:\n",
    "    raise_amount = 1.65\n",
    "    \n",
    "    def __init__(self, first, last, age, salary):\n",
    "        self.first = first\n",
    "        self.last = last\n",
    "        self.age = age\n",
    "        self.salary = salary\n",
    "        self.email = self.first + self.last + '13'+ \".@gmail.com\"\n",
    "        \n",
    "    def fullname(self):\n",
    "        return '{}{}'.format(self.first,self.last)\n",
    "    def apply_raise(self):\n",
    "        self.salary = int(self.salary * self.raise_amount)\n",
    "\n",
    "\n",
    "emp_1 = Employee('Suraj', 'tamang', 20, 700000)\n",
    "emp_2 = Employee('Ram', 'tamang', 43, 70000)\n",
    "# print(emp_1.salary)\n",
    "emp_1.apply_raise()              # Adding the apply raise\n",
    "print(emp_1.salary)\n",
    "# print(emp_1.fullname())          # Printing the def in class\n",
    "# print(emp_1.raise_amount)\n",
    "print(emp_1.__dict__)\n",
    "print(Employee.__dict__)"
   ]
  },
  {
   "cell_type": "code",
   "execution_count": 16,
   "id": "28e490a0",
   "metadata": {},
   "outputs": [
    {
     "name": "stdout",
     "output_type": "stream",
     "text": [
      "2\n"
     ]
    }
   ],
   "source": [
    "class Employee:\n",
    "    no_of_employee = 0\n",
    "    raise_amount = 1.65\n",
    "    \n",
    "    def __init__(self, first, last, age, salary):\n",
    "        self.first = first\n",
    "        self.last = last\n",
    "        self.age = age\n",
    "        self.salary = salary\n",
    "        self.email = self.first + self.last + '13'+ \".@gmail.com\"\n",
    "        Employee.no_of_employee += 1\n",
    "    def fullname(self):\n",
    "        return '{}{}'.format(self.first,self.last)\n",
    "    def apply_raise(self):\n",
    "        self.salary = int(self.salary * self.raise_amount)\n",
    "\n",
    "\n",
    "emp_1 = Employee('Suraj', 'tamang', 20, 700000)\n",
    "emp_2 = Employee('Ram', 'tamang', 43, 70000)\n",
    "\n",
    "print(Employee.no_of_employee)"
   ]
  },
  {
   "cell_type": "code",
   "execution_count": 33,
   "id": "80c37729",
   "metadata": {},
   "outputs": [
    {
     "name": "stdout",
     "output_type": "stream",
     "text": [
      "1.02\n",
      "1.02\n"
     ]
    }
   ],
   "source": [
    "class Employee:\n",
    "    raise_amount = 1.65\n",
    "    \n",
    "    def __init__(self, first, last, age, salary):\n",
    "        self.first = first\n",
    "        self.last = last\n",
    "        self.age = age\n",
    "        self.salary = salary\n",
    "        self.email = self.first + self.last + '13'+ \".@gmail.com\"\n",
    "        \n",
    "    def fullname(self):\n",
    "        return '{}{}'.format(self.first,self.last)\n",
    "    def apply_raise(self):\n",
    "        self.salary = int(self.salary * self.raise_amount)\n",
    "    @classmethod\n",
    "    def set_raise_amt(cls,amount):\n",
    "        cls.raise_amt = amount\n",
    "\n",
    "\n",
    "emp_1 = Employee('Suraj', 'tamang', 20, 700000)\n",
    "emp_2 = Employee('Ram', 'tamang', 43, 70000)\n",
    "\n",
    "Employee.set_raise_amt(1.02)\n",
    "\n",
    "print(Employee.raise_amt)\n",
    "print(emp_1.raise_amt)\n",
    "\n"
   ]
  },
  {
   "cell_type": "code",
   "execution_count": 23,
   "id": "45a35ffe",
   "metadata": {},
   "outputs": [
    {
     "name": "stdout",
     "output_type": "stream",
     "text": [
      "700000\n",
      "714000\n",
      "70000\n",
      "115500\n"
     ]
    }
   ],
   "source": [
    "class Employee:\n",
    "    raise_amount = 1.65\n",
    "    \n",
    "    def __init__(self, first, last, age, salary):\n",
    "        self.first = first\n",
    "        self.last = last\n",
    "        self.age = age\n",
    "        self.salary = salary\n",
    "        self.email = self.first + self.last + '13'+ \".@gmail.com\"\n",
    "        \n",
    "    def fullname(self):\n",
    "        return '{}{}'.format(self.first,self.last)\n",
    "    def apply_raise(self):\n",
    "        self.salary = int(self.salary * self.raise_amount)\n",
    "class Developer(Employee):           \n",
    "    raise_amount = 1.02              #changing the raise amount without breaking\n",
    "        \n",
    "\n",
    "emp_1 = Developer('Suraj', 'tamang', 20, 700000)\n",
    "emp_2 = Employee('Ram', 'tamang', 43, 70000)\n",
    "\n",
    "print(emp_1.salary)\n",
    "emp_1.apply_raise()\n",
    "print(emp_1.salary)\n",
    "\n",
    "\n",
    "print(emp_2.salary)\n",
    "emp_2.apply_raise()\n",
    "print(emp_2.salary)\n",
    "\n",
    "\n",
    "\n",
    "# print(help(Developer))\n",
    "# print(emp_1.email)\n",
    "# print(emp_2.email)"
   ]
  },
  {
   "cell_type": "code",
   "execution_count": 3,
   "id": "ada1bdbc",
   "metadata": {},
   "outputs": [
    {
     "name": "stdout",
     "output_type": "stream",
     "text": [
      "RahulRai13.@gmail.com\n",
      "--> Ramtamang\n"
     ]
    }
   ],
   "source": [
    "class Employee:\n",
    "    raise_amount = 1.65\n",
    "    \n",
    "    def __init__(self, first, last, age, salary):\n",
    "        self.first = first\n",
    "        self.last = last\n",
    "        self.age = age\n",
    "        self.salary = salary\n",
    "        self.email = self.first + self.last + '13'+ \".@gmail.com\"\n",
    "        \n",
    "    def fullname(self):\n",
    "        return '{}{}'.format(self.first,self.last)\n",
    "    def apply_raise(self):\n",
    "        self.salary = int(self.salary * self.raise_amount)\n",
    "class Developer(Employee):           \n",
    "    raise_amount = 1.02              #changing the raise amount without breaking\n",
    "    def __init__(self, first, last, age, salary, pro_lang):\n",
    "        super().__init__(first, last, age, salary)\n",
    "        self.pro_lang = pro_lang\n",
    "class Manager(Employee):\n",
    "    def  __init__(self, first, last, age, salary, employees=None):\n",
    "        super().__init__(first, last, age, salary)\n",
    "        if employees is None:\n",
    "            self.employees = []\n",
    "        else:\n",
    "            self.employees = employees\n",
    "    def add_emp(self, emp):\n",
    "        if emp not in self.employees:\n",
    "            self.employees.append(emp)\n",
    "            \n",
    "    def remove_emp(self, emp):\n",
    "        if emp in self.employees:\n",
    "            self.employees.remove(emp)\n",
    "            \n",
    "    def print_emp(self):\n",
    "        for emp in self.employees:\n",
    "            print('-->', emp.fullname())\n",
    "                   \n",
    "\n",
    "\n",
    "\n",
    "emp_1 = Developer('Suraj', 'tamang', 20, 700000, 'Python')\n",
    "emp_2 = Developer('Ram', 'tamang', 43, 70000, 'Java')\n",
    "mng_1 = Manager('Rahul', 'Rai', 48, 1100000, [emp_1])\n",
    "print(mng_1.email)\n",
    "\n",
    "mng_1.add_emp(emp_2)\n",
    "mng_1.remove_emp(emp_1)\n",
    "mng_1.print_emp()\n",
    "\n",
    "\n",
    "\n",
    "\n",
    "\n",
    "\n",
    "# print(emp_1.email)\n",
    "# print(emp_1.pro_lang)"
   ]
  },
  {
   "cell_type": "code",
   "execution_count": null,
   "id": "a6da2183",
   "metadata": {},
   "outputs": [],
   "source": []
  }
 ],
 "metadata": {
  "kernelspec": {
   "display_name": "Python 3 (ipykernel)",
   "language": "python",
   "name": "python3"
  },
  "language_info": {
   "codemirror_mode": {
    "name": "ipython",
    "version": 3
   },
   "file_extension": ".py",
   "mimetype": "text/x-python",
   "name": "python",
   "nbconvert_exporter": "python",
   "pygments_lexer": "ipython3",
   "version": "3.10.9"
  }
 },
 "nbformat": 4,
 "nbformat_minor": 5
}
