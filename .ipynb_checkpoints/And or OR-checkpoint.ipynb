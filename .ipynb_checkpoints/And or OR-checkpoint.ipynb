{
 "cells": [
  {
   "cell_type": "code",
   "execution_count": 1,
   "id": "49aac872",
   "metadata": {},
   "outputs": [],
   "source": [
    "## AND or OR"
   ]
  },
  {
   "cell_type": "code",
   "execution_count": 3,
   "id": "93e30213",
   "metadata": {},
   "outputs": [
    {
     "name": "stdout",
     "output_type": "stream",
     "text": [
      "True\n"
     ]
    }
   ],
   "source": [
    "a = 10 \n",
    "b = 11\n",
    "if a+b == 21:\n",
    "    print(\"True\")\n",
    "else:\n",
    "    print(\"False\")\n"
   ]
  },
  {
   "cell_type": "code",
   "execution_count": 9,
   "id": "2aab7858",
   "metadata": {},
   "outputs": [
    {
     "name": "stdout",
     "output_type": "stream",
     "text": [
      "True\n"
     ]
    }
   ],
   "source": [
    "print(6%2==0)"
   ]
  },
  {
   "cell_type": "code",
   "execution_count": 12,
   "id": "57c4d57a",
   "metadata": {},
   "outputs": [
    {
     "name": "stdout",
     "output_type": "stream",
     "text": [
      "Congrats your Grade is A+\n",
      "Congrats your Grade is B+\n",
      "Fail\n"
     ]
    }
   ],
   "source": [
    "per_1 = 88\n",
    "per_2 = 66\n",
    "per_3 = 38\n",
    "if per_1 > 80 or per_1 == 80:\n",
    "    print(\"Congrats your Grade is A+\")\n",
    "else:\n",
    "    print(\"Fail\")\n",
    "if per_2 > 60 or per_2 == 60:\n",
    "    print(\"Congrats your Grade is B+\")\n",
    "else:\n",
    "    print(\"Fail\")\n",
    "if per_3 > 40 or per_3 == 40:\n",
    "    print(\"Congrats your Grade is C+\")\n",
    "else:\n",
    "    print(\"Fail\")\n",
    "\n",
    "\n"
   ]
  },
  {
   "cell_type": "code",
   "execution_count": 13,
   "id": "33708099",
   "metadata": {},
   "outputs": [
    {
     "ename": "SyntaxError",
     "evalue": "invalid syntax. Maybe you meant '==' or ':=' instead of '='? (931967097.py, line 4)",
     "output_type": "error",
     "traceback": [
      "\u001b[1;36m  Cell \u001b[1;32mIn[13], line 4\u001b[1;36m\u001b[0m\n\u001b[1;33m    if c = \"+\":\u001b[0m\n\u001b[1;37m       ^\u001b[0m\n\u001b[1;31mSyntaxError\u001b[0m\u001b[1;31m:\u001b[0m invalid syntax. Maybe you meant '==' or ':=' instead of '='?\n"
     ]
    }
   ],
   "source": [
    "a = int(input(\"enter value of a = \"))\n",
    "b = int(input(\"enter value of b = \"))\n",
    "c = input(\" + - * / \")\n",
    "if c = \"+\":\n",
    "    print(a+b)\n",
    "elif c = \"-\":\n",
    "    print(a-b)\n",
    "elif c = \"*\":\n",
    "    print(a*b)\n",
    "elif c = \"/\":\n",
    "    if c>0:\n",
    "    print(a/b)\n",
    "    else:\n",
    "        print(\"the number should be higher than 0\")"
   ]
  },
  {
   "cell_type": "code",
   "execution_count": 15,
   "id": "5e9f1b38",
   "metadata": {},
   "outputs": [
    {
     "name": "stdout",
     "output_type": "stream",
     "text": [
      "range(0, 5)\n"
     ]
    }
   ],
   "source": [
    "a = range(5)\n",
    "print(a)"
   ]
  },
  {
   "cell_type": "code",
   "execution_count": 17,
   "id": "125d6246",
   "metadata": {},
   "outputs": [
    {
     "name": "stdout",
     "output_type": "stream",
     "text": [
      "1\n",
      "4\n",
      "7\n"
     ]
    }
   ],
   "source": [
    "for a in range(1,10,3):\n",
    "    print(a)"
   ]
  },
  {
   "cell_type": "code",
   "execution_count": 7,
   "id": "6c30a3b0",
   "metadata": {},
   "outputs": [
    {
     "name": "stdout",
     "output_type": "stream",
     "text": [
      "Enter your numbers = 2\n",
      "False\n"
     ]
    }
   ],
   "source": [
    "a = 6\n",
    "b = int(input(\"Enter your numbers = \"))\n",
    "if a<b:\n",
    "    for i in range(3):\n",
    "        if a<b:\n",
    "            print(\"Its true.\")\n",
    "        else:\n",
    "            print(\"Its false\")\n",
    "else:\n",
    "    print(\"False\")"
   ]
  },
  {
   "cell_type": "code",
   "execution_count": 21,
   "id": "34507adf",
   "metadata": {},
   "outputs": [
    {
     "name": "stdout",
     "output_type": "stream",
     "text": [
      "Welcome to my Game\n",
      "Do you want to play a game? Yes\n",
      "Okay! let's play.\n",
      "Who painted the Mona Lisa? Leonardo Devinci\n",
      "Correct Answer :)\n",
      "Do you want to play again? Yes\n",
      "Okay:)\n",
      "Which is the tallest mountain in worldMount Everest\n",
      "Correct Answer\n",
      "Do you want to play again? no\n",
      "Quit\n",
      "What Does WHO stand for? World Health Organization\n",
      "Correct Answer\n",
      "Your total Points is  3\n"
     ]
    }
   ],
   "source": [
    "print(\"Welcome to my Game\")\n",
    "play = input(\"Do you want to play a game? \")\n",
    "if play != \"Yes\":\n",
    "    print(\"Quit\")\n",
    "else:\n",
    "    print(\"Okay! let's play.\")\n",
    "total = 0\n",
    "ans = input(\"Who painted the Mona Lisa? \")\n",
    "if ans == \"Leonardo Devinci\":\n",
    "    print(\"Correct Answer :)\")\n",
    "    total = total + 1\n",
    "else:\n",
    "    print(\"Incorrect Answer\")\n",
    "again = input(\"Do you want to play again? \")\n",
    "if again != \"Yes\":\n",
    "    print(\"Quit\")\n",
    "else:\n",
    "    print(\"Okay:)\")\n",
    "ans_2 = input(\"Which is the tallest mountain in world\")\n",
    "if ans_2 ==\"Mount Everest\":\n",
    "    print(\"Correct Answer\")\n",
    "else:\n",
    "    print(\"Incorrect Answer\")\n",
    "total = total + 1\n",
    "again_2 = input(\"Do you want to play again? \")\n",
    "if again_2 != \"Yes\":\n",
    "    print(\"Quit\")\n",
    "else:\n",
    "    print(\"Okay:)\")\n",
    "ans_3 = input(\"What Does WHO stand for? \")\n",
    "if ans_3 ==\"World Health Organization\":\n",
    "    print(\"Correct Answer\")\n",
    "else:\n",
    "    print(\"Incorrect Answer\")\n",
    "total = total + 1\n",
    "print(\"Your total Points is \",total)\n"
   ]
  },
  {
   "cell_type": "code",
   "execution_count": null,
   "id": "10a87388",
   "metadata": {},
   "outputs": [],
   "source": []
  },
  {
   "cell_type": "code",
   "execution_count": 2,
   "id": "924f8fc8",
   "metadata": {},
   "outputs": [
    {
     "name": "stdout",
     "output_type": "stream",
     "text": [
      "Hello World \n",
      "Hello World \n",
      "\n"
     ]
    }
   ],
   "source": [
    "a = \"Hello World \\n\"\n",
    "print(a*2)"
   ]
  },
  {
   "cell_type": "code",
   "execution_count": 12,
   "id": "52b0a324",
   "metadata": {},
   "outputs": [
    {
     "name": "stdout",
     "output_type": "stream",
     "text": [
      "MF I am\n",
      "MF I am Suraj\n"
     ]
    }
   ],
   "source": [
    "a = \"MF I am Suraj\"\n",
    "print(a[0:7])\n",
    "print(a[0:15])"
   ]
  },
  {
   "cell_type": "code",
   "execution_count": 16,
   "id": "c391e51e",
   "metadata": {},
   "outputs": [
    {
     "name": "stdout",
     "output_type": "stream",
     "text": [
      "0 2 4 6 8 10 12 14 16 18 20 "
     ]
    }
   ],
   "source": [
    "for i in range(0,21,2):\n",
    "    print(i,end = \" \")"
   ]
  },
  {
   "cell_type": "code",
   "execution_count": 20,
   "id": "6169af58",
   "metadata": {},
   "outputs": [
    {
     "name": "stdout",
     "output_type": "stream",
     "text": [
      "\n"
     ]
    }
   ],
   "source": [
    "a = \"Python\"\n",
    "b = a[5:0]\n",
    "print(b)"
   ]
  },
  {
   "cell_type": "code",
   "execution_count": 28,
   "id": "620d5bf5",
   "metadata": {},
   "outputs": [
    {
     "name": "stdout",
     "output_type": "stream",
     "text": [
      "nohty\n"
     ]
    }
   ],
   "source": [
    "a = \"Python\"\n",
    "b = a[-1:0:-1]\n",
    "print(b)"
   ]
  },
  {
   "cell_type": "code",
   "execution_count": 29,
   "id": "1b390f81",
   "metadata": {},
   "outputs": [
    {
     "data": {
      "text/plain": [
       "'nohtyP'"
      ]
     },
     "execution_count": 29,
     "metadata": {},
     "output_type": "execute_result"
    }
   ],
   "source": [
    "a = \"Python\"\n",
    "a[::-1]"
   ]
  },
  {
   "cell_type": "code",
   "execution_count": 30,
   "id": "143d4b86",
   "metadata": {},
   "outputs": [
    {
     "name": "stdout",
     "output_type": "stream",
     "text": [
      "True\n"
     ]
    }
   ],
   "source": [
    "print(2==2)"
   ]
  },
  {
   "cell_type": "code",
   "execution_count": 31,
   "id": "0723f678",
   "metadata": {},
   "outputs": [
    {
     "name": "stdout",
     "output_type": "stream",
     "text": [
      "False\n"
     ]
    }
   ],
   "source": [
    "print(2==4)"
   ]
  },
  {
   "cell_type": "code",
   "execution_count": 33,
   "id": "01badc0f",
   "metadata": {},
   "outputs": [
    {
     "name": "stdout",
     "output_type": "stream",
     "text": [
      "The no is palindrome\n"
     ]
    }
   ],
   "source": [
    "a = \"101\"\n",
    "if a[::-1] == a:\n",
    "    print(\"The no is palindrome\")   #Palindrome = Same from both side eg-101,202,303\n",
    "else:\n",
    "    print(\"The no is not palindrome\")"
   ]
  },
  {
   "cell_type": "code",
   "execution_count": 35,
   "id": "afca28a4",
   "metadata": {},
   "outputs": [
    {
     "name": "stdout",
     "output_type": "stream",
     "text": [
      "Enter your name = Suraj tamang\n",
      "Enter your age = 20\n",
      "Enter your add = Narephate\n",
      "hello i am Suraj tamang.I am 20 and my address is Narephate\n"
     ]
    }
   ],
   "source": [
    "# string formatting\n",
    "name = input(\"Enter your name = \")\n",
    "age = int(input(\"Enter your age = \"))\n",
    "add = input(\"Enter your add = \")\n",
    "# f = Formatting\n",
    "print(f\"hello i am {name}.I am {age} and my address is {add}\")"
   ]
  },
  {
   "cell_type": "code",
   "execution_count": 36,
   "id": "8b40bf4f",
   "metadata": {},
   "outputs": [
    {
     "name": "stdout",
     "output_type": "stream",
     "text": [
      "Enter your numbers = 2\n",
      "Enter your name = Suraj tamang\n",
      "Enter your address = Narephate,koteshwore\n",
      "Enter your Age = 20\n",
      "Enter your Job = Student\n",
      "Hi!:),my name is Suraj tamang.I am 20 years old and i currently live in Narephate,koteshwore.I am an Student\n",
      "Enter your name = Rabin karki\n",
      "Enter your address = Jadibuti,Koteshwore\n",
      "Enter your Age = 21\n",
      "Enter your Job = Student\n",
      "Hi!:),my name is Rabin karki.I am 21 years old and i currently live in Jadibuti,Koteshwore.I am an Student\n"
     ]
    }
   ],
   "source": [
    "n = int(input(\"Enter your numbers = \"))\n",
    "for i in range(n):\n",
    "    name = input(\"Enter your name = \")\n",
    "    add = input(\"Enter your address = \")\n",
    "    age = int(input(\"Enter your Age = \"))\n",
    "    job = input(\"Enter your Job = \")\n",
    "    info = f\"Hi!:),my name is {name}.I am {age} years old and i currently live in {add}.I am an {job}\"\n",
    "    print(info)"
   ]
  },
  {
   "cell_type": "code",
   "execution_count": 37,
   "id": "facff05b",
   "metadata": {},
   "outputs": [
    {
     "name": "stdout",
     "output_type": "stream",
     "text": [
      "14\n"
     ]
    }
   ],
   "source": [
    "a = \"Ram Shyam Hari\"\n",
    "l = len(a)\n",
    "print(l)"
   ]
  },
  {
   "cell_type": "code",
   "execution_count": 41,
   "id": "9e51be1a",
   "metadata": {},
   "outputs": [
    {
     "name": "stdout",
     "output_type": "stream",
     "text": [
      "Enter search = suraj\n",
      "There is not suraj\n"
     ]
    }
   ],
   "source": [
    "a = \"Suraj\"\n",
    "search = input(\"Enter search = \")\n",
    "if search in a:\n",
    "    print(f\"There is {search}\")\n",
    "else:\n",
    "    print(f\"There is not {search}\")"
   ]
  },
  {
   "cell_type": "code",
   "execution_count": null,
   "id": "37561935",
   "metadata": {},
   "outputs": [],
   "source": [
    "jnckd"
   ]
  }
 ],
 "metadata": {
  "kernelspec": {
   "display_name": "Python 3 (ipykernel)",
   "language": "python",
   "name": "python3"
  },
  "language_info": {
   "codemirror_mode": {
    "name": "ipython",
    "version": 3
   },
   "file_extension": ".py",
   "mimetype": "text/x-python",
   "name": "python",
   "nbconvert_exporter": "python",
   "pygments_lexer": "ipython3",
   "version": "3.10.9"
  }
 },
 "nbformat": 4,
 "nbformat_minor": 5
}
