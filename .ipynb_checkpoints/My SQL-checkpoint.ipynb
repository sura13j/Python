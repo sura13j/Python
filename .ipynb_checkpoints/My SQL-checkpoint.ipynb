{
 "cells": [
  {
   "cell_type": "code",
   "execution_count": 1,
   "id": "9b082d85",
   "metadata": {},
   "outputs": [
    {
     "name": "stdout",
     "output_type": "stream",
     "text": [
      "Collecting mysql-connector\n",
      "  Downloading mysql-connector-2.2.9.tar.gz (11.9 MB)\n",
      "     ---------------------------------------- 11.9/11.9 MB 1.1 MB/s eta 0:00:00\n",
      "  Preparing metadata (setup.py): started\n",
      "  Preparing metadata (setup.py): finished with status 'done'\n",
      "Building wheels for collected packages: mysql-connector\n",
      "  Building wheel for mysql-connector (setup.py): started\n",
      "  Building wheel for mysql-connector (setup.py): finished with status 'done'\n",
      "  Created wheel for mysql-connector: filename=mysql_connector-2.2.9-cp310-cp310-win_amd64.whl size=247958 sha256=c010ac82015fa82b518fd72964a5e7cce3a647734026023b6d71051af0afc09c\n",
      "  Stored in directory: c:\\users\\suraj\\appdata\\local\\pip\\cache\\wheels\\3e\\7f\\a3\\928a40d1ffd01dd16057f308042377afc505d56145375adf40\n",
      "Successfully built mysql-connector\n",
      "Installing collected packages: mysql-connector\n",
      "Successfully installed mysql-connector-2.2.9\n"
     ]
    }
   ],
   "source": [
    "# INSTALLING SQL CONNECTOR IN PYTHON\n",
    "!pip install mysql-connector"
   ]
  },
  {
   "cell_type": "code",
   "execution_count": 3,
   "id": "f32aa059",
   "metadata": {},
   "outputs": [
    {
     "name": "stdout",
     "output_type": "stream",
     "text": [
      "<mysql.connector.connection.MySQLConnection object at 0x000001B61FDE1690>\n"
     ]
    }
   ],
   "source": [
    "# Connecting SQL in Python\n",
    "import mysql.connector\n",
    "\n",
    "mydb = mysql.connector.connect(\n",
    "    host='localhost',\n",
    "    user='root',\n",
    "    password=\"\",\n",
    ")\n",
    "\n",
    "print(mydb)"
   ]
  },
  {
   "cell_type": "code",
   "execution_count": 4,
   "id": "14911dc5",
   "metadata": {},
   "outputs": [
    {
     "name": "stdout",
     "output_type": "stream",
     "text": [
      "Database created\n"
     ]
    }
   ],
   "source": [
    "#Creating DATABASE\n",
    "import mysql.connector\n",
    "\n",
    "mydb = mysql.connector.connect(\n",
    "    host='localhost',\n",
    "    user='root',\n",
    "    password=\"\",\n",
    ")\n",
    "mycursor = mydb.cursor()    #creating database\n",
    "mycursor.execute(\"create database bca\")\n",
    "\n",
    "print(\"Database created\")"
   ]
  },
  {
   "cell_type": "code",
   "execution_count": 18,
   "id": "c9bf3d29",
   "metadata": {},
   "outputs": [
    {
     "name": "stdout",
     "output_type": "stream",
     "text": [
      "Table create Sucessfully\n"
     ]
    }
   ],
   "source": [
    "# Creating Table in SQL\n",
    "import mysql.connector\n",
    "mydb = mysql.connector.connect(\n",
    "    host='localhost',\n",
    "    user='root',\n",
    "    password='',\n",
    "    database = 'bca'\n",
    ")\n",
    "mycursor = mydb.cursor()\n",
    "mycursor.execute(\"CREATE TABLE subject(id INT, name Varchar(25), computer INT, math INT, english INT, economics INT, account INT, total INT, per INT, grade Varchar(25))\")\n",
    "print(\"Table create Sucessfully\")"
   ]
  },
  {
   "cell_type": "code",
   "execution_count": 27,
   "id": "ad48c29a",
   "metadata": {},
   "outputs": [
    {
     "name": "stdout",
     "output_type": "stream",
     "text": [
      "(1, 'suraj', 98, 99, 87, 95, 88, 370, 89, 'A')\n"
     ]
    }
   ],
   "source": [
    "mycursor.execute(\"SELECT * FROM subject\")\n",
    "result =mycursor.fetchall()\n",
    "for x in result:\n",
    "    print(x)"
   ]
  },
  {
   "cell_type": "code",
   "execution_count": 40,
   "id": "7be499a5",
   "metadata": {},
   "outputs": [
    {
     "name": "stdout",
     "output_type": "stream",
     "text": [
      "-1 record inserted.\n"
     ]
    }
   ],
   "source": [
    "import mysql.connector\n",
    "mydb = mysql.connector.connect(\n",
    "    host=\"localhost\",\n",
    "    user=\"root\",\n",
    "    passwd=\"\",\n",
    "    database=\"bca\"\n",
    ")\n",
    "mycur = mydb.cursor()\n",
    "sql = \"INSERT INTO subject(id, name, computer, math, english, economics, account, total, per, grade) VALUES('1', 'ram', '88', '96', '87', '95', '96', '360', '89', 'A')\"\n",
    "mycur.execute(sql)\n",
    "mydb.commit()\n",
    "print(mycursor.rowcount, \"record inserted.\")"
   ]
  },
  {
   "cell_type": "code",
   "execution_count": 4,
   "id": "534691dd",
   "metadata": {},
   "outputs": [
    {
     "name": "stdout",
     "output_type": "stream",
     "text": [
      "Enter your name = yoman\n",
      "enter your eng marks = 98\n",
      "enter your nep marks = 89\n",
      "enter your math marks = 78\n",
      "enter your sci marks = 87\n",
      "Your total marks is  352\n",
      "Your grade is  A+\n"
     ]
    }
   ],
   "source": [
    "import mysql.connector\n",
    "mydb = mysql.connector.connect(\n",
    "    host=\"localhost\",\n",
    "    user=\"root\",\n",
    "    passwd=\"\",\n",
    "    database=\"school_result\"\n",
    ")\n",
    "mycur = mydb.cursor()\n",
    "\n",
    "name = input(\"Enter your name = \")\n",
    "english = int(input(\"enter your eng marks = \"))\n",
    "nepali = int(input(\"enter your nep marks = \"))\n",
    "math = int(input(\"enter your math marks = \"))\n",
    "science = int(input(\"enter your sci marks = \"))\n",
    "\n",
    "total = english + nepali + math + science\n",
    "print(\"Your total marks is \",total)\n",
    "per = total/4\n",
    "if per >= 80:\n",
    "    grade = \"A+\"\n",
    "elif per >= 60:\n",
    "    grade = \"B\"\n",
    "else:\n",
    "    grade = \"Fail\"\n",
    "print(\"Your grade is \",grade)\n",
    "\n",
    "sql = f'''INSERT INTO result (name, english, nepali, math, science, total, percentage, grade) \n",
    "VALUES ('{name}', {english}, {nepali}, {math}, {science}, {total}, {per}, '{grade}');'''\n",
    "\n",
    "mycur.execute(sql)\n",
    "mydb.commit()"
   ]
  },
  {
   "cell_type": "code",
   "execution_count": 1,
   "id": "6bc0d774",
   "metadata": {},
   "outputs": [
    {
     "name": "stdout",
     "output_type": "stream",
     "text": [
      "Enter the value of n = 2\n",
      "Enter your name = Rabin Khadka\n",
      "enter your eng marks = 88\n",
      "enter your nep marks = 78\n",
      "enter your math marks = 65\n",
      "enter your sci marks = 55\n",
      "Your total marks is  286\n",
      "Your grade is  B\n",
      "Enter your name = Manish Shrestha\n",
      "enter your eng marks = 99\n",
      "enter your nep marks = 99\n",
      "enter your math marks = 99\n",
      "enter your sci marks = 99\n",
      "Your total marks is  396\n",
      "Your grade is  A+\n"
     ]
    }
   ],
   "source": [
    "#---USING LOOP AND PRINTING IT IN SQL---#\n",
    "import mysql.connector\n",
    "mydb = mysql.connector.connect(\n",
    "    host=\"localhost\",\n",
    "    user=\"root\",\n",
    "    passwd=\"\",\n",
    "    database=\"school_result\"\n",
    ")\n",
    "mycur = mydb.cursor()\n",
    "\n",
    "n = int(input(\"Enter the value of n = \"))\n",
    "for i in range(n):\n",
    "    name = input(\"Enter your name = \")\n",
    "    english = int(input(\"enter your eng marks = \"))\n",
    "    nepali = int(input(\"enter your nep marks = \"))\n",
    "    math = int(input(\"enter your math marks = \"))\n",
    "    science = int(input(\"enter your sci marks = \"))\n",
    "\n",
    "    total = english + nepali + math + science\n",
    "    print(\"Your total marks is \",total)\n",
    "    per = total/4\n",
    "    if per >= 80:\n",
    "        grade = \"A+\"\n",
    "    elif per >= 60:\n",
    "        grade = \"B\"\n",
    "    else:\n",
    "        grade = \"Fail\"\n",
    "    print(\"Your grade is \",grade)\n",
    "\n",
    "    sql = f'''INSERT INTO result (name, english, nepali, math, science, total, percentage, grade) \n",
    "    VALUES ('{name}', {english}, {nepali}, {math}, {science}, {total}, {per}, '{grade}');'''\n",
    "\n",
    "    mycur.execute(sql)\n",
    "    mydb.commit()"
   ]
  },
  {
   "cell_type": "code",
   "execution_count": 3,
   "id": "7d9302d7",
   "metadata": {},
   "outputs": [],
   "source": [
    "# UPDATE\n",
    "import mysql.connector\n",
    "mydb = mysql.connector.connect(\n",
    "    host=\"localhost\",\n",
    "    user=\"root\",\n",
    "    passwd=\"\",\n",
    "    database=\"school_result\"\n",
    ")\n",
    "mycursor = mydb.cursor()\n",
    "sql = \"UPDATE result SET grade = 'A' WHERE result.sn = 2;\"\n",
    "mycursor.execute(sql)\n",
    "mydb.commit()\n"
   ]
  },
  {
   "cell_type": "code",
   "execution_count": null,
   "id": "2e8a1236",
   "metadata": {},
   "outputs": [],
   "source": []
  }
 ],
 "metadata": {
  "kernelspec": {
   "display_name": "Python 3 (ipykernel)",
   "language": "python",
   "name": "python3"
  },
  "language_info": {
   "codemirror_mode": {
    "name": "ipython",
    "version": 3
   },
   "file_extension": ".py",
   "mimetype": "text/x-python",
   "name": "python",
   "nbconvert_exporter": "python",
   "pygments_lexer": "ipython3",
   "version": "3.10.9"
  }
 },
 "nbformat": 4,
 "nbformat_minor": 5
}
