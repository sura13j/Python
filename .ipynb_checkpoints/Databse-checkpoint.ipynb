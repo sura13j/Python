{
 "cells": [
  {
   "cell_type": "code",
   "execution_count": null,
   "id": "341868fe",
   "metadata": {},
   "outputs": [],
   "source": [
    "name = input(\"Enter your name = \")\n",
    "eng = int(input(\"enter your eng marks = \"))\n",
    "nep = int(input(\"enter your nep marks = \"))\n",
    "math = int(input(\"enter your math marks = \"))\n",
    "sci = int(input(\"enter your sci marks = \"))\n",
    "\n",
    "total = eng + nep + math + sci\n",
    "print(\"Your total marks is \",total)\n",
    "per = total/4\n",
    "if per >= 80:\n",
    "    grade = \"A+\"\n",
    "elif per >= 60:\n",
    "    grade = \"B\"\n",
    "else:\n",
    "    grade = \"Fail\"\n",
    "print(\"Your grade is \",grade)\n",
    "\n",
    "sql = '''INSERT INTO result (name, english, nepali, math, science, total, percentage, grade) VALUES ('suraj', 98, 88, 99, 99, 360, 89.9, A);'''\n",
    "db.execute(sql)\n",
    "database.commit()"
   ]
  }
 ],
 "metadata": {
  "kernelspec": {
   "display_name": "Python 3 (ipykernel)",
   "language": "python",
   "name": "python3"
  },
  "language_info": {
   "codemirror_mode": {
    "name": "ipython",
    "version": 3
   },
   "file_extension": ".py",
   "mimetype": "text/x-python",
   "name": "python",
   "nbconvert_exporter": "python",
   "pygments_lexer": "ipython3",
   "version": "3.10.9"
  }
 },
 "nbformat": 4,
 "nbformat_minor": 5
}
