{
 "cells": [
  {
   "cell_type": "code",
   "execution_count": 3,
   "id": "48160e83",
   "metadata": {},
   "outputs": [
    {
     "name": "stdout",
     "output_type": "stream",
     "text": [
      "MILESTONE INT'L COLLEGE\n",
      "Final Term Exam Results of MILESTONE INT'L COLLEGE\n",
      "Enter Class = 12\n",
      "Enter the n = 3\n",
      "Enter marks of eng = 99\n",
      "Enter marks of comp = 98\n",
      "Enter marks of math = 78\n",
      "Enter marks of eco = 89\n",
      "Enter marks of acc = 87\n",
      "Congrats,you have passed the exam.You got A+ with 90.2%.\n",
      "Enter marks of eng = 62\n",
      "Enter marks of comp = 42\n",
      "Enter marks of math = 12\n",
      "Enter marks of eco = 65\n",
      "Enter marks of acc = 32\n",
      "Sorry,You have Failed the exam with 42.6%\n",
      "Enter marks of eng = 12\n",
      "Enter marks of comp = 23\n",
      "Enter marks of math = 43\n",
      "Enter marks of eco = 16\n",
      "Enter marks of acc = 88\n",
      "Sorry,You have Failed the exam with 36.4%\n"
     ]
    }
   ],
   "source": [
    "School = \"MILESTONE INT'L COLLEGE\"\n",
    "print(School)\n",
    "print(f\"Final Term Exam Results of {School}\")\n",
    "\n",
    "cls = int(input(\"Enter Class = \"))\n",
    "n = int(input(\"Enter the n = \"))\n",
    "for i in range(n):\n",
    "      name = input(\"Enter your Name = \")\n",
    "      \n",
    "      eng = int(input(\"Enter marks of eng = \"))\n",
    "      comp = int(input(\"Enter marks of comp = \"))\n",
    "      math = int(input(\"Enter marks of math = \"))\n",
    "      eco = int(input(\"Enter marks of eco = \"))\n",
    "      acc = int(input(\"Enter marks of acc = \"))\n",
    "      total = eng + comp + math + eco + acc\n",
    "      per = total/5\n",
    "      if per>80:\n",
    "        print(f\"Congrats,you have passed the exam.You got A+ with {per}%.\")\n",
    "      elif per>70:\n",
    "        print(f\"Congrats,you have passed the exam.You got A with {per}%.\")\n",
    "      elif per>60:\n",
    "        print(f\"Congrats,you have passed the exam.You got B+ with {per}%.\")\n",
    "      elif per>50:\n",
    "        print(f\"Congrats,you have passed the exam.You got B with {per}%.\")\n",
    "      elif per>40:\n",
    "        print(f\"Congrats,you have passed the exam.You got C+ with {per}%.\")\n",
    "      else:\n",
    "        print(f\"Sorry,You have Failed the exam with {per}%\")\n",
    "        \n",
    "              "
   ]
  },
  {
   "cell_type": "code",
   "execution_count": null,
   "id": "5cc574df",
   "metadata": {},
   "outputs": [],
   "source": []
  }
 ],
 "metadata": {
  "kernelspec": {
   "display_name": "Python 3 (ipykernel)",
   "language": "python",
   "name": "python3"
  },
  "language_info": {
   "codemirror_mode": {
    "name": "ipython",
    "version": 3
   },
   "file_extension": ".py",
   "mimetype": "text/x-python",
   "name": "python",
   "nbconvert_exporter": "python",
   "pygments_lexer": "ipython3",
   "version": "3.10.9"
  }
 },
 "nbformat": 4,
 "nbformat_minor": 5
}
